{
  "nbformat": 4,
  "nbformat_minor": 5,
  "metadata": {
    "kernelspec": {
      "display_name": "Python 3",
      "language": "python",
      "name": "python3"
    },
    "language_info": {
      "codemirror_mode": {
        "name": "ipython",
        "version": 3
      },
      "file_extension": ".py",
      "mimetype": "text/x-python",
      "name": "python",
      "nbconvert_exporter": "python",
      "pygments_lexer": "ipython3",
      "version": "3.8.8"
    },
    "colab": {
      "name": "Image_download&save.ipynb",
      "provenance": [],
      "collapsed_sections": []
    },
    "accelerator": "GPU"
  },
  "cells": [
    {
      "cell_type": "markdown",
      "metadata": {
        "id": "0e3a0370"
      },
      "source": [
        "In this notebook I am going to download all dank images and approximately same number of non-dank images, because our original dataset is highly imbalanced thats why here I am taking approximately same number of dand and non-dank image to balance the data."
      ],
      "id": "0e3a0370"
    },
    {
      "cell_type": "code",
      "metadata": {
        "colab": {
          "base_uri": "https://localhost:8080/"
        },
        "id": "s9G_sUaoB-3u",
        "outputId": "1f24d6c2-c208-49e9-c94a-55b467cafdd1"
      },
      "source": [
        "from google.colab import drive\n",
        "drive.mount('/content/drive')"
      ],
      "id": "s9G_sUaoB-3u",
      "execution_count": 2,
      "outputs": [
        {
          "output_type": "stream",
          "name": "stdout",
          "text": [
            "Mounted at /content/drive\n"
          ]
        }
      ]
    },
    {
      "cell_type": "code",
      "metadata": {
        "id": "cb7c48cc"
      },
      "source": [
        "#importing libraries\n",
        "import pandas as pd\n",
        "import numpy as np\n",
        "import os\n",
        "import urllib.request\n",
        "from tqdm import tqdm"
      ],
      "id": "cb7c48cc",
      "execution_count": 1,
      "outputs": []
    },
    {
      "cell_type": "code",
      "metadata": {
        "id": "3gwtsFU0CL2j"
      },
      "source": [
        "#reading the dataset which contains both dank_or_not and url columns\n",
        "img_data = pd.read_csv('/content/drive/MyDrive/CS 2/org_data_dankornot.csv')"
      ],
      "id": "3gwtsFU0CL2j",
      "execution_count": 26,
      "outputs": []
    },
    {
      "cell_type": "code",
      "metadata": {
        "colab": {
          "base_uri": "https://localhost:8080/"
        },
        "id": "ejp57BfNCL5z",
        "outputId": "c967c5e4-d420-4717-d0a8-64ab160e92f0"
      },
      "source": [
        "img_data.shape"
      ],
      "id": "ejp57BfNCL5z",
      "execution_count": 27,
      "outputs": [
        {
          "output_type": "execute_result",
          "data": {
            "text/plain": [
              "(13000, 24)"
            ]
          },
          "metadata": {},
          "execution_count": 27
        }
      ]
    },
    {
      "cell_type": "code",
      "metadata": {
        "colab": {
          "base_uri": "https://localhost:8080/",
          "height": 463
        },
        "id": "0C-zxdMiCL9D",
        "outputId": "45dd3980-5e24-4022-ee5e-44dd9d862491"
      },
      "source": [
        "img_data.head()"
      ],
      "id": "0C-zxdMiCL9D",
      "execution_count": 28,
      "outputs": [
        {
          "output_type": "execute_result",
          "data": {
            "text/html": [
              "<div>\n",
              "<style scoped>\n",
              "    .dataframe tbody tr th:only-of-type {\n",
              "        vertical-align: middle;\n",
              "    }\n",
              "\n",
              "    .dataframe tbody tr th {\n",
              "        vertical-align: top;\n",
              "    }\n",
              "\n",
              "    .dataframe thead th {\n",
              "        text-align: right;\n",
              "    }\n",
              "</style>\n",
              "<table border=\"1\" class=\"dataframe\">\n",
              "  <thead>\n",
              "    <tr style=\"text-align: right;\">\n",
              "      <th></th>\n",
              "      <th>Unnamed: 0</th>\n",
              "      <th>Unnamed: 0.1</th>\n",
              "      <th>Unnamed: 0.1.1</th>\n",
              "      <th>created_utc</th>\n",
              "      <th>is_original_content</th>\n",
              "      <th>is_video</th>\n",
              "      <th>num_comments</th>\n",
              "      <th>over_18</th>\n",
              "      <th>subreddit</th>\n",
              "      <th>subreddit_subscribers</th>\n",
              "      <th>upvote_ratio</th>\n",
              "      <th>url</th>\n",
              "      <th>thumbnail_height</th>\n",
              "      <th>thumbnail_width</th>\n",
              "      <th>score</th>\n",
              "      <th>Sentiment_Score</th>\n",
              "      <th>text</th>\n",
              "      <th>num_words</th>\n",
              "      <th>avg_h</th>\n",
              "      <th>avg_s</th>\n",
              "      <th>avg_v</th>\n",
              "      <th>img_feature</th>\n",
              "      <th>img_feature_pred</th>\n",
              "      <th>dank_or_not</th>\n",
              "    </tr>\n",
              "  </thead>\n",
              "  <tbody>\n",
              "    <tr>\n",
              "      <th>0</th>\n",
              "      <td>2081</td>\n",
              "      <td>2081</td>\n",
              "      <td>3155</td>\n",
              "      <td>1611906658</td>\n",
              "      <td>False</td>\n",
              "      <td>False</td>\n",
              "      <td>4</td>\n",
              "      <td>False</td>\n",
              "      <td>meme</td>\n",
              "      <td>1396025</td>\n",
              "      <td>1.0</td>\n",
              "      <td>https://i.redd.it/wprmv4yj88e61.jpg</td>\n",
              "      <td>140.0</td>\n",
              "      <td>140.0</td>\n",
              "      <td>7.163196e-07</td>\n",
              "      <td>0.48</td>\n",
              "      <td>whatev</td>\n",
              "      <td>1</td>\n",
              "      <td>0</td>\n",
              "      <td>0</td>\n",
              "      <td>0</td>\n",
              "      <td>['web_site', 'scoreboard', 'digital_clock']</td>\n",
              "      <td>[0.05935011, 0.047493964, 0.034131162]</td>\n",
              "      <td>0</td>\n",
              "    </tr>\n",
              "    <tr>\n",
              "      <th>1</th>\n",
              "      <td>65458</td>\n",
              "      <td>65458</td>\n",
              "      <td>130121</td>\n",
              "      <td>1611250310</td>\n",
              "      <td>False</td>\n",
              "      <td>False</td>\n",
              "      <td>4</td>\n",
              "      <td>False</td>\n",
              "      <td>dankmemes</td>\n",
              "      <td>4363172</td>\n",
              "      <td>1.0</td>\n",
              "      <td>https://i.redd.it/tc4jtlaw0qc61.jpg</td>\n",
              "      <td>140.0</td>\n",
              "      <td>140.0</td>\n",
              "      <td>2.291911e-07</td>\n",
              "      <td>0.50</td>\n",
              "      <td>NaN</td>\n",
              "      <td>0</td>\n",
              "      <td>0</td>\n",
              "      <td>0</td>\n",
              "      <td>0</td>\n",
              "      <td>['web_site', 'scoreboard', 'digital_clock']</td>\n",
              "      <td>[0.05935011, 0.047493964, 0.034131162]</td>\n",
              "      <td>0</td>\n",
              "    </tr>\n",
              "    <tr>\n",
              "      <th>2</th>\n",
              "      <td>33846</td>\n",
              "      <td>33846</td>\n",
              "      <td>52341</td>\n",
              "      <td>1611955374</td>\n",
              "      <td>False</td>\n",
              "      <td>False</td>\n",
              "      <td>2</td>\n",
              "      <td>False</td>\n",
              "      <td>memes</td>\n",
              "      <td>14613900</td>\n",
              "      <td>1.0</td>\n",
              "      <td>https://i.redd.it/qg9v80we9ce61.jpg</td>\n",
              "      <td>140.0</td>\n",
              "      <td>140.0</td>\n",
              "      <td>6.842800e-08</td>\n",
              "      <td>0.50</td>\n",
              "      <td>yourselfon choci</td>\n",
              "      <td>2</td>\n",
              "      <td>0</td>\n",
              "      <td>0</td>\n",
              "      <td>0</td>\n",
              "      <td>['Staffordshire_bullterrier', 'dalmatian', 'te...</td>\n",
              "      <td>[0.067652605, 0.06469549, 0.056321584]</td>\n",
              "      <td>0</td>\n",
              "    </tr>\n",
              "    <tr>\n",
              "      <th>3</th>\n",
              "      <td>28979</td>\n",
              "      <td>28979</td>\n",
              "      <td>44404</td>\n",
              "      <td>1612035275</td>\n",
              "      <td>False</td>\n",
              "      <td>False</td>\n",
              "      <td>1</td>\n",
              "      <td>False</td>\n",
              "      <td>memes</td>\n",
              "      <td>14629522</td>\n",
              "      <td>1.0</td>\n",
              "      <td>https://i.redd.it/j6tryx10vie61.jpg</td>\n",
              "      <td>131.0</td>\n",
              "      <td>140.0</td>\n",
              "      <td>6.835493e-08</td>\n",
              "      <td>0.10</td>\n",
              "      <td>becau stonk massiv wallstreetbet badredditor b...</td>\n",
              "      <td>6</td>\n",
              "      <td>0</td>\n",
              "      <td>0</td>\n",
              "      <td>0</td>\n",
              "      <td>['web_site', 'book_jacket', 'vizsla']</td>\n",
              "      <td>[0.9843156, 0.0043508904, 0.0033883443]</td>\n",
              "      <td>0</td>\n",
              "    </tr>\n",
              "    <tr>\n",
              "      <th>4</th>\n",
              "      <td>37316</td>\n",
              "      <td>37316</td>\n",
              "      <td>58041</td>\n",
              "      <td>1611920416</td>\n",
              "      <td>False</td>\n",
              "      <td>False</td>\n",
              "      <td>1</td>\n",
              "      <td>False</td>\n",
              "      <td>memes</td>\n",
              "      <td>14603384</td>\n",
              "      <td>1.0</td>\n",
              "      <td>https://i.redd.it/ah83g4ugd9e61.jpg</td>\n",
              "      <td>121.0</td>\n",
              "      <td>140.0</td>\n",
              "      <td>6.847728e-08</td>\n",
              "      <td>0.46</td>\n",
              "      <td>guyswhen today happen januari first shine</td>\n",
              "      <td>6</td>\n",
              "      <td>0</td>\n",
              "      <td>0</td>\n",
              "      <td>0</td>\n",
              "      <td>['web_site', 'book_jacket', 'Bouvier_des_Fland...</td>\n",
              "      <td>[0.86468834, 0.029700553, 0.0038205122]</td>\n",
              "      <td>0</td>\n",
              "    </tr>\n",
              "  </tbody>\n",
              "</table>\n",
              "</div>"
            ],
            "text/plain": [
              "   Unnamed: 0  ...  dank_or_not\n",
              "0        2081  ...            0\n",
              "1       65458  ...            0\n",
              "2       33846  ...            0\n",
              "3       28979  ...            0\n",
              "4       37316  ...            0\n",
              "\n",
              "[5 rows x 24 columns]"
            ]
          },
          "metadata": {},
          "execution_count": 28
        }
      ]
    },
    {
      "cell_type": "code",
      "metadata": {
        "colab": {
          "base_uri": "https://localhost:8080/"
        },
        "id": "l1C_XKHfCMAl",
        "outputId": "befd93b6-26f9-4d69-d14c-6e5663d9d2d6"
      },
      "source": [
        "img_data['dank_or_not'].value_counts()"
      ],
      "id": "l1C_XKHfCMAl",
      "execution_count": 29,
      "outputs": [
        {
          "output_type": "execute_result",
          "data": {
            "text/plain": [
              "0    12623\n",
              "1      377\n",
              "Name: dank_or_not, dtype: int64"
            ]
          },
          "metadata": {},
          "execution_count": 29
        }
      ]
    },
    {
      "cell_type": "code",
      "metadata": {
        "id": "LhBD-86IDDiM"
      },
      "source": [
        "#getting only dank data\n",
        "memes_dank = img_data[img_data['dank_or_not']==1][['url','dank_or_not']]"
      ],
      "id": "LhBD-86IDDiM",
      "execution_count": 30,
      "outputs": []
    },
    {
      "cell_type": "code",
      "metadata": {
        "id": "qrLlXUq5DDlJ"
      },
      "source": [
        "#selecting 2570 data from non-dank data randomly\n",
        "memes_not_dank = img_data[img_data['dank_or_not']==0][['url','dank_or_not']].sample(n = 400)"
      ],
      "id": "qrLlXUq5DDlJ",
      "execution_count": 31,
      "outputs": []
    },
    {
      "cell_type": "code",
      "metadata": {
        "id": "yeYISRBKDDoK"
      },
      "source": [
        "#concatenating selected dank and non-dank data\n",
        "meme_imgs = pd.concat([memes_dank, memes_not_dank], ignore_index=True)"
      ],
      "id": "yeYISRBKDDoK",
      "execution_count": 33,
      "outputs": []
    },
    {
      "cell_type": "code",
      "metadata": {
        "id": "qP2kBdDpDDrK"
      },
      "source": [
        "#making a directory with name meme_images to save the images, if the directory is present then first delete it\n",
        "!rm -rf '/content/drive/MyDrive/CS 2/meme_images_final'\n",
        "os.mkdir('/content/drive/MyDrive/CS 2/meme_images_final')"
      ],
      "id": "qP2kBdDpDDrK",
      "execution_count": 34,
      "outputs": []
    },
    {
      "cell_type": "code",
      "metadata": {
        "colab": {
          "base_uri": "https://localhost:8080/"
        },
        "id": "XW_IalBVDkEb",
        "outputId": "5d3cf5a6-aa4a-4d73-8792-3adc48c340c0"
      },
      "source": [
        "#downloading and saving images\n",
        "for i in tqdm(meme_imgs['url']):\n",
        "  try:\n",
        "    urllib.request.urlretrieve(i, '/content/drive/MyDrive/CS 2/meme_images_final' + i.split(\"/\")[-1].split(\".\")[0] + \".png\")\n",
        "  except:\n",
        "    meme_imgs.drop(meme_imgs.index[meme_imgs['url']==i][0], inplace=True)\n"
      ],
      "id": "XW_IalBVDkEb",
      "execution_count": 35,
      "outputs": [
        {
          "output_type": "stream",
          "name": "stderr",
          "text": [
            "100%|██████████| 777/777 [01:25<00:00,  9.08it/s]\n"
          ]
        }
      ]
    },
    {
      "cell_type": "code",
      "metadata": {
        "id": "lgASdYmyDkHh"
      },
      "source": [
        "#saving the final image dataset\n",
        "meme_imgs.reset_index(drop=True).to_csv('meme_images_final.csv', index=False)"
      ],
      "id": "lgASdYmyDkHh",
      "execution_count": 37,
      "outputs": []
    },
    {
      "cell_type": "code",
      "metadata": {
        "colab": {
          "base_uri": "https://localhost:8080/"
        },
        "id": "2WWJ-hc2DkMq",
        "outputId": "10d6b1eb-9a43-4fa9-9fc2-d29664b0c946"
      },
      "source": [
        "meme_imgs.shape"
      ],
      "id": "2WWJ-hc2DkMq",
      "execution_count": 41,
      "outputs": [
        {
          "output_type": "execute_result",
          "data": {
            "text/plain": [
              "(574, 2)"
            ]
          },
          "metadata": {},
          "execution_count": 41
        }
      ]
    }
  ]
}