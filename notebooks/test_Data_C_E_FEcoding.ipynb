{
  "nbformat": 4,
  "nbformat_minor": 0,
  "metadata": {
    "accelerator": "GPU",
    "colab": {
      "name": "test_Data_C_E_FEcoding",
      "provenance": [],
      "collapsed_sections": []
    },
    "kernelspec": {
      "display_name": "Python 3",
      "language": "python",
      "name": "python3"
    },
    "language_info": {
      "codemirror_mode": {
        "name": "ipython",
        "version": 3
      },
      "file_extension": ".py",
      "mimetype": "text/x-python",
      "name": "python",
      "nbconvert_exporter": "python",
      "pygments_lexer": "ipython3",
      "version": "3.8.8"
    }
  },
  "cells": [
    {
      "cell_type": "code",
      "metadata": {
        "colab": {
          "base_uri": "https://localhost:8080/"
        },
        "id": "z6cfbtOaLDwJ",
        "outputId": "0720f65b-8cf7-43c8-b255-c2eaa8afeb37"
      },
      "source": [
        "from google.colab import drive\n",
        "drive.mount('/content/drive')"
      ],
      "execution_count": null,
      "outputs": [
        {
          "output_type": "stream",
          "name": "stdout",
          "text": [
            "Mounted at /content/drive\n"
          ]
        }
      ]
    },
    {
      "cell_type": "markdown",
      "metadata": {
        "id": "2BHKAJ2XJaJN"
      },
      "source": [
        ""
      ]
    },
    {
      "cell_type": "markdown",
      "metadata": {
        "id": "-yKyIPasJaMY"
      },
      "source": [
        "INTRODUCTION\n"
      ]
    },
    {
      "cell_type": "code",
      "metadata": {
        "id": "0xTMjurHJe2U"
      },
      "source": [
        "#importing libraries\n",
        "import pandas as pd\n",
        "import numpy as np\n",
        "import datetime as date\n",
        "import requests\n",
        "import matplotlib.pyplot as plt\n",
        "from matplotlib import pyplot\n",
        "import seaborn as sns\n",
        "from tqdm import tqdm\n",
        "import warnings\n",
        "warnings.filterwarnings(\"ignore\")\n",
        "import multiprocessing\n",
        "from multiprocessing import  Pool"
      ],
      "execution_count": null,
      "outputs": []
    },
    {
      "cell_type": "markdown",
      "metadata": {
        "id": "ie07g1oBNe7S"
      },
      "source": [
        "Applying Sentiment score"
      ]
    },
    {
      "cell_type": "code",
      "metadata": {
        "id": "N2enea29Ni8o"
      },
      "source": [
        "## https://medium.com/analytics-vidhya/sentiment-analysis-for-text-with-deep-learning-2f0a0c6472b5"
      ],
      "execution_count": null,
      "outputs": []
    },
    {
      "cell_type": "code",
      "metadata": {
        "colab": {
          "base_uri": "https://localhost:8080/"
        },
        "id": "Dy77sZuyRQRL",
        "outputId": "a8f5fc82-2352-4445-ab03-a13065aeb246"
      },
      "source": [
        "from tensorflow import keras\n",
        "import json\n",
        "from nltk.tokenize import RegexpTokenizer\n",
        "\n",
        "#loading pre trained model and word index\n",
        "LSTM_model = keras.models.load_model('/content/drive/MyDrive/CS 2/best_model.hdf5')\n",
        "index_wrd = json.load(open(\"/content/drive/MyDrive/CS 2/word_idx.txt\"))"
      ],
      "execution_count": null,
      "outputs": [
        {
          "output_type": "stream",
          "name": "stdout",
          "text": [
            "WARNING:tensorflow:Layer lstm_1 will not use cuDNN kernels since it doesn't meet the criteria. It will use a generic GPU kernel as fallback when running on GPU.\n",
            "WARNING:tensorflow:Layer lstm_1 will not use cuDNN kernels since it doesn't meet the criteria. It will use a generic GPU kernel as fallback when running on GPU.\n",
            "WARNING:tensorflow:Layer lstm_1 will not use cuDNN kernels since it doesn't meet the criteria. It will use a generic GPU kernel as fallback when running on GPU.\n"
          ]
        }
      ]
    },
    {
      "cell_type": "code",
      "metadata": {
        "id": "H1DyhajZJvgf"
      },
      "source": [
        ""
      ],
      "execution_count": null,
      "outputs": []
    },
    {
      "cell_type": "code",
      "metadata": {
        "id": "ACPGHDlULuNp"
      },
      "source": [
        "#function to compute sentiment score\n",
        "def sentiment_score(LSTM_model, txt_data, index_wrd):\n",
        "\n",
        "    list_txt = []\n",
        "    pad_seq = len(txt_data)\n",
        "    pad_len = np.zeros((56,pad_seq))\n",
        "\n",
        "    dict_txt = [isinstance(item, (str, bytes)) for item in txt_data['title']]\n",
        "    txt_data = txt_data.loc[dict_txt]\n",
        "\n",
        "    for i, j in txt_data.iterrows():\n",
        "        \n",
        "\n",
        "        txt_col = txt_data['title'][i]\n",
        "        \n",
        "        # split the sentence into its words and remove any punctuations.\n",
        "        tokenzz = RegexpTokenizer(r'\\w+')\n",
        "        list_txt_data = tokenzz.tokenize(txt_col)\n",
        "        if len(list_txt_data)>56:\n",
        "          list_txt_data = list_txt_data[:56]\n",
        "          points = np.array(['1','2','3','4','5','6','7','8','9','10'], dtype = \"int\")\n",
        "        \n",
        "        # get index for the live stage\n",
        "        ind_data = np.array([index_wrd[word.lower()] if word.lower() in index_wrd else 0 for word in list_txt_data])\n",
        "        ind_data_ = np.array(ind_data)\n",
        "\n",
        "        # padded with zeros of length 56 i.e maximum length\n",
        "        pad_arr = np.zeros(56)\n",
        "        pad_arr[:ind_data_.shape[0]] = ind_data_\n",
        "        data_pad = pad_arr.astype(int)\n",
        "\n",
        "        list_txt.append(data_pad)\n",
        "\n",
        "    pad_len = np.asarray(list_txt)\n",
        "    sent_score = LSTM_model.predict(pad_len, batch_size=64, verbose=0)\n",
        "    sent_score1 = np.round(np.dot(sent_score, points)/10,decimals=2)\n",
        "    sent_score2  = []\n",
        "    for i in sent_score:\n",
        "\n",
        "        three_top_idx = np.argsort(i)[-3:]\n",
        "        three_top_scores = i[three_top_idx]\n",
        "        three_top_wgts = three_top_scores/np.sum(three_top_scores)\n",
        "        dot_prod = np.round(np.dot(three_top_idx, three_top_wgts)/10, decimals = 2)\n",
        "        sent_score2.append(dot_prod)\n",
        "\n",
        "    txt_data['Sentiment_Score'] = pd.DataFrame(sent_score2)\n",
        "\n",
        "    return txt_data"
      ],
      "execution_count": null,
      "outputs": []
    },
    {
      "cell_type": "code",
      "metadata": {
        "id": "JLMdU2zlJ1bG"
      },
      "source": [
        "org__test_data = pd.read_csv('/content/drive/MyDrive/CS 2/test data/final_data.csv')"
      ],
      "execution_count": null,
      "outputs": []
    },
    {
      "cell_type": "code",
      "metadata": {
        "id": "NjRur1_dLuQs"
      },
      "source": [
        "org__test_data = sentiment_score(LSTM_model, org__test_data, index_wrd)"
      ],
      "execution_count": null,
      "outputs": []
    },
    {
      "cell_type": "code",
      "metadata": {
        "colab": {
          "base_uri": "https://localhost:8080/"
        },
        "id": "9G9tHNaxSh_W",
        "outputId": "b305ad8b-02bf-4e9c-d74d-5792b84303c6"
      },
      "source": [
        "org__test_data.shape"
      ],
      "execution_count": null,
      "outputs": [
        {
          "output_type": "execute_result",
          "data": {
            "text/plain": [
              "(16602, 15)"
            ]
          },
          "metadata": {},
          "execution_count": 9
        }
      ]
    },
    {
      "cell_type": "code",
      "metadata": {
        "colab": {
          "base_uri": "https://localhost:8080/",
          "height": 333
        },
        "id": "xOPKZjP78dI-",
        "outputId": "fd46b233-896f-4c46-c974-6191b46cda70"
      },
      "source": [
        "org__test_data.head()"
      ],
      "execution_count": null,
      "outputs": [
        {
          "output_type": "execute_result",
          "data": {
            "text/html": [
              "<div>\n",
              "<style scoped>\n",
              "    .dataframe tbody tr th:only-of-type {\n",
              "        vertical-align: middle;\n",
              "    }\n",
              "\n",
              "    .dataframe tbody tr th {\n",
              "        vertical-align: top;\n",
              "    }\n",
              "\n",
              "    .dataframe thead th {\n",
              "        text-align: right;\n",
              "    }\n",
              "</style>\n",
              "<table border=\"1\" class=\"dataframe\">\n",
              "  <thead>\n",
              "    <tr style=\"text-align: right;\">\n",
              "      <th></th>\n",
              "      <th>Unnamed: 0</th>\n",
              "      <th>created_utc</th>\n",
              "      <th>is_original_content</th>\n",
              "      <th>is_video</th>\n",
              "      <th>num_comments</th>\n",
              "      <th>over_18</th>\n",
              "      <th>subreddit</th>\n",
              "      <th>subreddit_subscribers</th>\n",
              "      <th>title</th>\n",
              "      <th>upvote_ratio</th>\n",
              "      <th>url</th>\n",
              "      <th>thumbnail_height</th>\n",
              "      <th>thumbnail_width</th>\n",
              "      <th>score</th>\n",
              "      <th>Sentiment_Score</th>\n",
              "    </tr>\n",
              "  </thead>\n",
              "  <tbody>\n",
              "    <tr>\n",
              "      <th>0</th>\n",
              "      <td>2</td>\n",
              "      <td>1610236635</td>\n",
              "      <td>False</td>\n",
              "      <td>False</td>\n",
              "      <td>5</td>\n",
              "      <td>False</td>\n",
              "      <td>meme</td>\n",
              "      <td>1365808</td>\n",
              "      <td>Have you seen him?</td>\n",
              "      <td>1.0</td>\n",
              "      <td>https://i.redd.it/zg18fetpaea61.jpg</td>\n",
              "      <td>102.0</td>\n",
              "      <td>140.0</td>\n",
              "      <td>2</td>\n",
              "      <td>0.50</td>\n",
              "    </tr>\n",
              "    <tr>\n",
              "      <th>1</th>\n",
              "      <td>3</td>\n",
              "      <td>1610236590</td>\n",
              "      <td>False</td>\n",
              "      <td>False</td>\n",
              "      <td>1</td>\n",
              "      <td>False</td>\n",
              "      <td>meme</td>\n",
              "      <td>1365808</td>\n",
              "      <td>Join the fight</td>\n",
              "      <td>1.0</td>\n",
              "      <td>https://i.redd.it/4cfij94laea61.jpg</td>\n",
              "      <td>131.0</td>\n",
              "      <td>140.0</td>\n",
              "      <td>2</td>\n",
              "      <td>0.49</td>\n",
              "    </tr>\n",
              "    <tr>\n",
              "      <th>2</th>\n",
              "      <td>4</td>\n",
              "      <td>1610236579</td>\n",
              "      <td>False</td>\n",
              "      <td>False</td>\n",
              "      <td>2</td>\n",
              "      <td>False</td>\n",
              "      <td>meme</td>\n",
              "      <td>1365808</td>\n",
              "      <td>Join the fight</td>\n",
              "      <td>1.0</td>\n",
              "      <td>https://i.redd.it/v3vt23xjaea61.jpg</td>\n",
              "      <td>131.0</td>\n",
              "      <td>140.0</td>\n",
              "      <td>1</td>\n",
              "      <td>0.49</td>\n",
              "    </tr>\n",
              "    <tr>\n",
              "      <th>3</th>\n",
              "      <td>7</td>\n",
              "      <td>1610236041</td>\n",
              "      <td>False</td>\n",
              "      <td>False</td>\n",
              "      <td>0</td>\n",
              "      <td>False</td>\n",
              "      <td>meme</td>\n",
              "      <td>1365796</td>\n",
              "      <td>Bye</td>\n",
              "      <td>1.0</td>\n",
              "      <td>https://i.redd.it/ash8bw2x8ea61.jpg</td>\n",
              "      <td>140.0</td>\n",
              "      <td>140.0</td>\n",
              "      <td>2</td>\n",
              "      <td>0.50</td>\n",
              "    </tr>\n",
              "    <tr>\n",
              "      <th>4</th>\n",
              "      <td>8</td>\n",
              "      <td>1610236034</td>\n",
              "      <td>False</td>\n",
              "      <td>False</td>\n",
              "      <td>1</td>\n",
              "      <td>False</td>\n",
              "      <td>meme</td>\n",
              "      <td>1365795</td>\n",
              "      <td>Whenever i use the instagram</td>\n",
              "      <td>1.0</td>\n",
              "      <td>https://i.redd.it/99oiaogx8ea61.jpg</td>\n",
              "      <td>140.0</td>\n",
              "      <td>140.0</td>\n",
              "      <td>4</td>\n",
              "      <td>0.45</td>\n",
              "    </tr>\n",
              "  </tbody>\n",
              "</table>\n",
              "</div>"
            ],
            "text/plain": [
              "   Unnamed: 0  created_utc  ...  score  Sentiment_Score\n",
              "0           2   1610236635  ...      2             0.50\n",
              "1           3   1610236590  ...      2             0.49\n",
              "2           4   1610236579  ...      1             0.49\n",
              "3           7   1610236041  ...      2             0.50\n",
              "4           8   1610236034  ...      4             0.45\n",
              "\n",
              "[5 rows x 15 columns]"
            ]
          },
          "metadata": {},
          "execution_count": 10
        }
      ]
    },
    {
      "cell_type": "markdown",
      "metadata": {
        "id": "0GSDv4b4SlNU"
      },
      "source": [
        "Extracting text using OCR"
      ]
    },
    {
      "cell_type": "code",
      "metadata": {
        "colab": {
          "base_uri": "https://localhost:8080/"
        },
        "id": "uLSViBWoSo_s",
        "outputId": "1cae1395-533a-43ca-c2dc-b112b0977af4"
      },
      "source": [
        "#installing pytesseract\n",
        "!pip install pytesseract"
      ],
      "execution_count": null,
      "outputs": [
        {
          "output_type": "stream",
          "name": "stdout",
          "text": [
            "Collecting pytesseract\n",
            "  Downloading pytesseract-0.3.8.tar.gz (14 kB)\n",
            "Requirement already satisfied: Pillow in /usr/local/lib/python3.7/dist-packages (from pytesseract) (7.1.2)\n",
            "Building wheels for collected packages: pytesseract\n",
            "  Building wheel for pytesseract (setup.py) ... \u001b[?25l\u001b[?25hdone\n",
            "  Created wheel for pytesseract: filename=pytesseract-0.3.8-py2.py3-none-any.whl size=14072 sha256=d2b2442d471854f1d2fcb119750836571695263897f655a3749c4e0d8b1ed29a\n",
            "  Stored in directory: /root/.cache/pip/wheels/a4/89/b9/3f11250225d0f90e5454fcc30fd1b7208db226850715aa9ace\n",
            "Successfully built pytesseract\n",
            "Installing collected packages: pytesseract\n",
            "Successfully installed pytesseract-0.3.8\n"
          ]
        }
      ]
    },
    {
      "cell_type": "code",
      "metadata": {
        "colab": {
          "base_uri": "https://localhost:8080/"
        },
        "id": "uLvPWV6kUA7v",
        "outputId": "1d10060f-c7a1-4661-b37e-aad0446754f3"
      },
      "source": [
        "!sudo apt install tesseract-ocr"
      ],
      "execution_count": null,
      "outputs": [
        {
          "output_type": "stream",
          "name": "stdout",
          "text": [
            "Reading package lists... Done\n",
            "Building dependency tree       \n",
            "Reading state information... Done\n",
            "The following additional packages will be installed:\n",
            "  tesseract-ocr-eng tesseract-ocr-osd\n",
            "The following NEW packages will be installed:\n",
            "  tesseract-ocr tesseract-ocr-eng tesseract-ocr-osd\n",
            "0 upgraded, 3 newly installed, 0 to remove and 37 not upgraded.\n",
            "Need to get 4,795 kB of archives.\n",
            "After this operation, 15.8 MB of additional disk space will be used.\n",
            "Get:1 http://archive.ubuntu.com/ubuntu bionic/universe amd64 tesseract-ocr-eng all 4.00~git24-0e00fe6-1.2 [1,588 kB]\n",
            "Get:2 http://archive.ubuntu.com/ubuntu bionic/universe amd64 tesseract-ocr-osd all 4.00~git24-0e00fe6-1.2 [2,989 kB]\n",
            "Get:3 http://archive.ubuntu.com/ubuntu bionic/universe amd64 tesseract-ocr amd64 4.00~git2288-10f4998a-2 [218 kB]\n",
            "Fetched 4,795 kB in 1s (3,664 kB/s)\n",
            "debconf: unable to initialize frontend: Dialog\n",
            "debconf: (No usable dialog-like program is installed, so the dialog based frontend cannot be used. at /usr/share/perl5/Debconf/FrontEnd/Dialog.pm line 76, <> line 3.)\n",
            "debconf: falling back to frontend: Readline\n",
            "debconf: unable to initialize frontend: Readline\n",
            "debconf: (This frontend requires a controlling tty.)\n",
            "debconf: falling back to frontend: Teletype\n",
            "dpkg-preconfigure: unable to re-open stdin: \n",
            "Selecting previously unselected package tesseract-ocr-eng.\n",
            "(Reading database ... 155219 files and directories currently installed.)\n",
            "Preparing to unpack .../tesseract-ocr-eng_4.00~git24-0e00fe6-1.2_all.deb ...\n",
            "Unpacking tesseract-ocr-eng (4.00~git24-0e00fe6-1.2) ...\n",
            "Selecting previously unselected package tesseract-ocr-osd.\n",
            "Preparing to unpack .../tesseract-ocr-osd_4.00~git24-0e00fe6-1.2_all.deb ...\n",
            "Unpacking tesseract-ocr-osd (4.00~git24-0e00fe6-1.2) ...\n",
            "Selecting previously unselected package tesseract-ocr.\n",
            "Preparing to unpack .../tesseract-ocr_4.00~git2288-10f4998a-2_amd64.deb ...\n",
            "Unpacking tesseract-ocr (4.00~git2288-10f4998a-2) ...\n",
            "Setting up tesseract-ocr-osd (4.00~git24-0e00fe6-1.2) ...\n",
            "Setting up tesseract-ocr-eng (4.00~git24-0e00fe6-1.2) ...\n",
            "Setting up tesseract-ocr (4.00~git2288-10f4998a-2) ...\n",
            "Processing triggers for man-db (2.8.3-2ubuntu0.1) ...\n"
          ]
        }
      ]
    },
    {
      "cell_type": "code",
      "metadata": {
        "id": "zJjpv_-4UEGp"
      },
      "source": [
        "#importing libraries\n",
        "import cv2 \n",
        "import pytesseract\n",
        "from skimage import io\n",
        "from google.colab.patches import cv2_imshow"
      ],
      "execution_count": null,
      "outputs": []
    },
    {
      "cell_type": "code",
      "metadata": {
        "id": "iGxEIvK-VWSU"
      },
      "source": [
        "pytesseract.pytesseract.tesseract_cmd = r'/usr/bin/tesseract'"
      ],
      "execution_count": null,
      "outputs": []
    },
    {
      "cell_type": "code",
      "metadata": {
        "id": "46N_yiCn8yKH"
      },
      "source": [
        "org__test_data1=org__test_data.sample(n=2000,random_state=1,replace=False)"
      ],
      "execution_count": null,
      "outputs": []
    },
    {
      "cell_type": "code",
      "metadata": {
        "colab": {
          "base_uri": "https://localhost:8080/"
        },
        "id": "IA4uFMbPAY6H",
        "outputId": "a07fc029-ab92-4f3a-f9b6-fc126b98333d"
      },
      "source": [
        "org__test_data1.shape"
      ],
      "execution_count": null,
      "outputs": [
        {
          "output_type": "execute_result",
          "data": {
            "text/plain": [
              "(2000, 15)"
            ]
          },
          "metadata": {},
          "execution_count": 17
        }
      ]
    },
    {
      "cell_type": "code",
      "metadata": {
        "id": "8lsD4KliVnm2"
      },
      "source": [
        "\"\"\"\n",
        "This function will extract text from image. It takes url of image as input and\n",
        "extracts text from image using pytesseract.\n",
        "\"\"\"\n",
        "def txt_extraction(urls):\n",
        "  try:\n",
        "    image = io.imread(urls)\n",
        "    image = cv2.cvtColor(image, cv2.COLOR_BGR2GRAY)\n",
        "    _, image = cv2.threshold(image, 127, 255, cv2.THRESH_BINARY) \n",
        "    alpha_To_extract = r\"--oem 3 --psm 11 -c tessedit_char_whitelist= 'ABCDEFGHIJKLMNOPQRSTUVWXYZ '\"\n",
        "    txt_data = pytesseract.image_to_string(image, lang='eng', config=alpha_To_extract)\n",
        "    return txt_data.replace('\\n', ' ')\n",
        "  except:\n",
        "    return \" \""
      ],
      "execution_count": null,
      "outputs": []
    },
    {
      "cell_type": "code",
      "metadata": {
        "id": "iPoqy4MkaLkQ"
      },
      "source": [
        "def txt(org__test_data1):\n",
        "  tqdm.pandas(position=0)\n",
        "  img_txt = org__test_data1.progress_apply(txt_extraction)\n",
        "  return img_txt"
      ],
      "execution_count": null,
      "outputs": []
    },
    {
      "cell_type": "code",
      "metadata": {
        "id": "vHkK8M4Tbs9M"
      },
      "source": [
        "#This function will help to parallelize our process\n",
        "def data_parallelism(urls, function, n_cores=4):\n",
        "    txt_split = np.array_split(urls, n_cores)\n",
        "    pool = Pool(n_cores)\n",
        "    img_txt = pd.concat(pool.map(function, txt_split))\n",
        "    pool.close()\n",
        "    pool.join()\n",
        "    return img_txt "
      ],
      "execution_count": null,
      "outputs": []
    },
    {
      "cell_type": "code",
      "metadata": {
        "id": "joK4x96hFDAg"
      },
      "source": [
        "org__test_data1['img_txt']=0"
      ],
      "execution_count": null,
      "outputs": []
    },
    {
      "cell_type": "code",
      "metadata": {
        "colab": {
          "base_uri": "https://localhost:8080/"
        },
        "id": "Ou5tU1fNb72u",
        "outputId": "322c2332-5e5e-40a0-c142-df1d2ee0af9e"
      },
      "source": [
        "org__test_data1['img_txt'] = data_parallelism(org__test_data1['url'], txt)"
      ],
      "execution_count": null,
      "outputs": [
        {
          "output_type": "stream",
          "name": "stderr",
          "text": [
            "100%|██████████| 500/500 [14:36<00:00,  1.75s/it]\n",
            "100%|██████████| 500/500 [14:41<00:00,  1.76s/it]\n",
            "100%|██████████| 500/500 [14:42<00:00,  1.76s/it]\n",
            "100%|██████████| 500/500 [14:59<00:00,  1.80s/it]\n"
          ]
        }
      ]
    },
    {
      "cell_type": "code",
      "metadata": {
        "id": "xPKoOrDFVnrS"
      },
      "source": [
        "#Saving the dataset because these processes takes time, so that I don't have to do that in future\n",
        "org__test_data1.to_csv(\"img_txt_data.csv\")"
      ],
      "execution_count": null,
      "outputs": []
    },
    {
      "cell_type": "code",
      "metadata": {
        "id": "hfYVVJpTWg1I"
      },
      "source": [
        "org__test_data1 = pd.read_csv('/content/drive/MyDrive/CS 2/test data/test_img_txt_data.csv')"
      ],
      "execution_count": null,
      "outputs": []
    },
    {
      "cell_type": "code",
      "metadata": {
        "colab": {
          "base_uri": "https://localhost:8080/"
        },
        "id": "p1N27ract3Qr",
        "outputId": "07211915-fc2d-4f4f-b783-6b6cd5a61a9e"
      },
      "source": [
        "org__test_data1.shape"
      ],
      "execution_count": null,
      "outputs": [
        {
          "output_type": "execute_result",
          "data": {
            "text/plain": [
              "(2000, 17)"
            ]
          },
          "metadata": {},
          "execution_count": 25
        }
      ]
    },
    {
      "cell_type": "code",
      "metadata": {
        "id": "sXi-2nIlWg9A"
      },
      "source": [
        "#combining all text columns to one column and dropping the columns which are being combined\n",
        "org__test_data1['text'] = org__test_data1['title']+org__test_data1['img_txt']\n",
        "org__test_data1.drop(['title','img_txt'], axis=1, inplace=True)"
      ],
      "execution_count": null,
      "outputs": []
    },
    {
      "cell_type": "code",
      "metadata": {
        "colab": {
          "base_uri": "https://localhost:8080/",
          "height": 528
        },
        "id": "W5yF6ZZCW4GO",
        "outputId": "4b75559e-3cf9-4381-85a4-6e6bef1c7615"
      },
      "source": [
        "org__test_data1.head()"
      ],
      "execution_count": null,
      "outputs": [
        {
          "output_type": "execute_result",
          "data": {
            "text/html": [
              "<div>\n",
              "<style scoped>\n",
              "    .dataframe tbody tr th:only-of-type {\n",
              "        vertical-align: middle;\n",
              "    }\n",
              "\n",
              "    .dataframe tbody tr th {\n",
              "        vertical-align: top;\n",
              "    }\n",
              "\n",
              "    .dataframe thead th {\n",
              "        text-align: right;\n",
              "    }\n",
              "</style>\n",
              "<table border=\"1\" class=\"dataframe\">\n",
              "  <thead>\n",
              "    <tr style=\"text-align: right;\">\n",
              "      <th></th>\n",
              "      <th>Unnamed: 0</th>\n",
              "      <th>Unnamed: 0.1</th>\n",
              "      <th>created_utc</th>\n",
              "      <th>is_original_content</th>\n",
              "      <th>is_video</th>\n",
              "      <th>num_comments</th>\n",
              "      <th>over_18</th>\n",
              "      <th>subreddit</th>\n",
              "      <th>subreddit_subscribers</th>\n",
              "      <th>upvote_ratio</th>\n",
              "      <th>url</th>\n",
              "      <th>thumbnail_height</th>\n",
              "      <th>thumbnail_width</th>\n",
              "      <th>score</th>\n",
              "      <th>Sentiment_Score</th>\n",
              "      <th>text</th>\n",
              "    </tr>\n",
              "  </thead>\n",
              "  <tbody>\n",
              "    <tr>\n",
              "      <th>0</th>\n",
              "      <td>9612</td>\n",
              "      <td>15679</td>\n",
              "      <td>1610191527</td>\n",
              "      <td>False</td>\n",
              "      <td>False</td>\n",
              "      <td>5</td>\n",
              "      <td>False</td>\n",
              "      <td>memes</td>\n",
              "      <td>14398009</td>\n",
              "      <td>1.0</td>\n",
              "      <td>https://i.redd.it/xyjz83u8kaa61.jpg</td>\n",
              "      <td>106.0</td>\n",
              "      <td>140.0</td>\n",
              "      <td>1</td>\n",
              "      <td>0.41</td>\n",
              "      <td>The good ol' Lamar tactics to get some b*tches</td>\n",
              "    </tr>\n",
              "    <tr>\n",
              "      <th>1</th>\n",
              "      <td>10051</td>\n",
              "      <td>16440</td>\n",
              "      <td>1610181039</td>\n",
              "      <td>False</td>\n",
              "      <td>False</td>\n",
              "      <td>11</td>\n",
              "      <td>False</td>\n",
              "      <td>memes</td>\n",
              "      <td>14396805</td>\n",
              "      <td>1.0</td>\n",
              "      <td>https://i.redd.it/58b2whfep9a61.jpg</td>\n",
              "      <td>91.0</td>\n",
              "      <td>140.0</td>\n",
              "      <td>1</td>\n",
              "      <td>0.31</td>\n",
              "      <td>Sad feminist noises.aS REALIZING mT at fa SREL...</td>\n",
              "    </tr>\n",
              "    <tr>\n",
              "      <th>2</th>\n",
              "      <td>14549</td>\n",
              "      <td>24122</td>\n",
              "      <td>1610116249</td>\n",
              "      <td>False</td>\n",
              "      <td>False</td>\n",
              "      <td>4</td>\n",
              "      <td>False</td>\n",
              "      <td>memes</td>\n",
              "      <td>14388900</td>\n",
              "      <td>1.0</td>\n",
              "      <td>https://i.redd.it/2cbx3c4rc4a61.jpg</td>\n",
              "      <td>109.0</td>\n",
              "      <td>140.0</td>\n",
              "      <td>1</td>\n",
              "      <td>0.44</td>\n",
              "      <td>HmmTrying to figure out the family tree after ...</td>\n",
              "    </tr>\n",
              "    <tr>\n",
              "      <th>3</th>\n",
              "      <td>10295</td>\n",
              "      <td>16860</td>\n",
              "      <td>1610175444</td>\n",
              "      <td>False</td>\n",
              "      <td>False</td>\n",
              "      <td>3</td>\n",
              "      <td>False</td>\n",
              "      <td>memes</td>\n",
              "      <td>14396276</td>\n",
              "      <td>1.0</td>\n",
              "      <td>https://i.redd.it/d16owmlr89a61.jpg</td>\n",
              "      <td>140.0</td>\n",
              "      <td>140.0</td>\n",
              "      <td>1</td>\n",
              "      <td>0.50</td>\n",
              "      <td>Ah yea I gots to get paidFBI: offers thousands...</td>\n",
              "    </tr>\n",
              "    <tr>\n",
              "      <th>4</th>\n",
              "      <td>10092</td>\n",
              "      <td>16505</td>\n",
              "      <td>1610180139</td>\n",
              "      <td>False</td>\n",
              "      <td>False</td>\n",
              "      <td>2</td>\n",
              "      <td>False</td>\n",
              "      <td>memes</td>\n",
              "      <td>14396709</td>\n",
              "      <td>1.0</td>\n",
              "      <td>https://i.redd.it/io0pmc9qm9a61.jpg</td>\n",
              "      <td>139.0</td>\n",
              "      <td>140.0</td>\n",
              "      <td>1</td>\n",
              "      <td>0.55</td>\n",
              "      <td>Brought to you by cornhub</td>\n",
              "    </tr>\n",
              "  </tbody>\n",
              "</table>\n",
              "</div>"
            ],
            "text/plain": [
              "   Unnamed: 0  ...                                               text\n",
              "0        9612  ...    The good ol' Lamar tactics to get some b*tches \n",
              "1       10051  ...  Sad feminist noises.aS REALIZING mT at fa SREL...\n",
              "2       14549  ...  HmmTrying to figure out the family tree after ...\n",
              "3       10295  ...  Ah yea I gots to get paidFBI: offers thousands...\n",
              "4       10092  ...                         Brought to you by cornhub \n",
              "\n",
              "[5 rows x 16 columns]"
            ]
          },
          "metadata": {},
          "execution_count": 27
        }
      ]
    },
    {
      "cell_type": "markdown",
      "metadata": {
        "id": "FNzPRfckzOtA"
      },
      "source": [
        "### <br><br>Cleaning text column\n",
        "<br>"
      ]
    },
    {
      "cell_type": "code",
      "metadata": {
        "id": "GcIy8Cq3W4L1"
      },
      "source": [
        "#importing libraries\n",
        "import nltk\n",
        "from nltk.corpus import stopwords\n",
        "from nltk.stem import PorterStemmer\n",
        "from nltk.tokenize import word_tokenize\n",
        "import re"
      ],
      "execution_count": null,
      "outputs": []
    },
    {
      "cell_type": "code",
      "metadata": {
        "colab": {
          "base_uri": "https://localhost:8080/"
        },
        "id": "r_fPJ4TUW4Oc",
        "outputId": "18012695-0d10-4c9d-a51c-0bf9de12fcea"
      },
      "source": [
        "#downloading punkt and stopwords\n",
        "nltk.download('punkt')\n",
        "nltk.download('stopwords')\n",
        "nltk.download('vader_lexicon')"
      ],
      "execution_count": null,
      "outputs": [
        {
          "output_type": "stream",
          "name": "stdout",
          "text": [
            "[nltk_data] Downloading package punkt to /root/nltk_data...\n",
            "[nltk_data]   Unzipping tokenizers/punkt.zip.\n",
            "[nltk_data] Downloading package stopwords to /root/nltk_data...\n",
            "[nltk_data]   Unzipping corpora/stopwords.zip.\n",
            "[nltk_data] Downloading package vader_lexicon to /root/nltk_data...\n"
          ]
        },
        {
          "output_type": "execute_result",
          "data": {
            "text/plain": [
              "True"
            ]
          },
          "metadata": {},
          "execution_count": 29
        }
      ]
    },
    {
      "cell_type": "code",
      "metadata": {
        "id": "Ap0Zr2xWW4Qa"
      },
      "source": [
        "#this function will take text as input and will clean it and return cleaned text\n",
        "def clean_text(text):\n",
        "    text = re.sub('[^A-Za-z]',' ',text).lower()    #Removing all characters from text except alphabets\n",
        "    words = word_tokenize(text)\n",
        "    stopWords = set(stopwords.words('english'))\n",
        "    ps = PorterStemmer()\n",
        "    cleanedText = []\n",
        "    for word in words:\n",
        "        word = ps.stem(word)\n",
        "        if word in stopWords or len(word)<=4:      #Removing stopwords and words with length less than 5\n",
        "            continue\n",
        "        else:\n",
        "            cleanedText.append(word)\n",
        "    return \" \".join(set(cleanedText))"
      ],
      "execution_count": null,
      "outputs": []
    },
    {
      "cell_type": "code",
      "metadata": {
        "colab": {
          "base_uri": "https://localhost:8080/"
        },
        "id": "yHY5ANqJzitm",
        "outputId": "074bc88d-19d6-48bd-b6cd-43b54f100766"
      },
      "source": [
        "tqdm.pandas(position=0)\n",
        "#calling function to clean the text\n",
        "org__test_data1['text'] = org__test_data1['text'].progress_apply(clean_text)"
      ],
      "execution_count": null,
      "outputs": [
        {
          "output_type": "stream",
          "name": "stderr",
          "text": [
            "100%|██████████| 2000/2000 [00:01<00:00, 1204.81it/s]\n"
          ]
        }
      ]
    },
    {
      "cell_type": "code",
      "metadata": {
        "id": "FZEYqF2Bziwo"
      },
      "source": [
        "#new feature containing number of words in text\n",
        "org__test_data1['num_words'] = org__test_data1['text'].str.split().apply(len)"
      ],
      "execution_count": null,
      "outputs": []
    },
    {
      "cell_type": "code",
      "metadata": {
        "id": "5n8_VDfSHSwQ"
      },
      "source": [
        ""
      ],
      "execution_count": null,
      "outputs": []
    },
    {
      "cell_type": "markdown",
      "metadata": {
        "id": "cjfWrH4cCXty"
      },
      "source": [
        "### **Extracting** **features**"
      ]
    },
    {
      "cell_type": "code",
      "metadata": {
        "id": "DrCFNE9lCeLJ"
      },
      "source": [
        ""
      ],
      "execution_count": null,
      "outputs": []
    },
    {
      "cell_type": "code",
      "metadata": {
        "id": "Yt_yaCTbCeY4"
      },
      "source": [
        "#importing libraries\n",
        "from keras.applications.vgg16 import VGG16\n",
        "from keras.preprocessing import image\n",
        "from keras.applications.vgg16 import preprocess_input\n",
        "from keras.applications.vgg16 import preprocess_input\n",
        "from keras.applications.vgg16 import decode_predictions\n",
        "import tensorflow as tf\n",
        "# load the model\n"
      ],
      "execution_count": null,
      "outputs": []
    },
    {
      "cell_type": "code",
      "metadata": {
        "id": "b5J0Lx4ICmsS",
        "colab": {
          "base_uri": "https://localhost:8080/"
        },
        "outputId": "4de0eb3c-c1ea-455e-a085-95bc66750480"
      },
      "source": [
        "model_vgg = VGG16()"
      ],
      "execution_count": null,
      "outputs": [
        {
          "output_type": "stream",
          "name": "stdout",
          "text": [
            "Downloading data from https://storage.googleapis.com/tensorflow/keras-applications/vgg16/vgg16_weights_tf_dim_ordering_tf_kernels.h5\n",
            "553467904/553467096 [==============================] - 7s 0us/step\n",
            "553476096/553467096 [==============================] - 7s 0us/step\n"
          ]
        }
      ]
    },
    {
      "cell_type": "code",
      "metadata": {
        "id": "Zc1KP5mNC6PY"
      },
      "source": [
        "#this function will take url of image as input and will get the image and convert it to array and return it\n",
        "def load_image(link, target_size=None):\n",
        "    import requests\n",
        "    import shutil\n",
        "    import os\n",
        "    \n",
        "    _, ext = os.path.splitext(link)\n",
        "    \n",
        "    r = requests.get(link, stream=True)\n",
        "    with open('temp.' + ext, 'wb') as f:\n",
        "        r.raw.decode_content = True\n",
        "        shutil.copyfileobj(r.raw, f)\n",
        "        \n",
        "    img = image.load_img('temp.' + ext, target_size=target_size)\n",
        "    return image.img_to_array(img)"
      ],
      "execution_count": null,
      "outputs": []
    },
    {
      "cell_type": "code",
      "metadata": {
        "id": "sCbDmHqMC8ox"
      },
      "source": [
        "#this function will extract features and their probabilities from image and return them\n",
        "def extract_feature_from_image(url):\n",
        "  try:\n",
        "    im = load_image(url, target_size=(224, 224))\n",
        "    im = im.reshape((1, im.shape[0], im.shape[1], im.shape[2]))\n",
        "    im = preprocess_input(im)\n",
        "    yhat = model.predict(im)\n",
        "    label = decode_predictions(yhat, top=3)\n",
        "    obj = []\n",
        "    pred = []\n",
        "    for i in label[0]:\n",
        "      obj.append(i[1])\n",
        "      pred.append(i[2])\n",
        "    return [obj,pred]\n",
        "  \n",
        "  except:\n",
        "    return [[\"\"]*3, [0]*3]"
      ],
      "execution_count": null,
      "outputs": []
    },
    {
      "cell_type": "code",
      "metadata": {
        "colab": {
          "base_uri": "https://localhost:8080/"
        },
        "id": "USaIqoQPC8vJ",
        "outputId": "bd0fa98f-22bd-4f16-d81b-d9f0d3e87c76"
      },
      "source": [
        "tqdm.pandas(position=0)\n",
        "test_img_feature_pred = org__test_data1['url'].progress_apply(extract_feature_from_image)"
      ],
      "execution_count": null,
      "outputs": [
        {
          "output_type": "stream",
          "name": "stderr",
          "text": [
            "100%|██████████| 2000/2000 [03:03<00:00, 10.89it/s]\n"
          ]
        }
      ]
    },
    {
      "cell_type": "code",
      "metadata": {
        "id": "aJQeKoHaC8x6"
      },
      "source": [
        "#creating new columns in the dataset to store new features\n",
        "org__test_data1['img_feature'] = np.empty(2000, dtype=object)\n",
        "org__test_data1['test_img_feature_pred'] = np.empty(2000, dtype=object)"
      ],
      "execution_count": null,
      "outputs": []
    },
    {
      "cell_type": "code",
      "metadata": {
        "id": "UXRObNBYTvOW"
      },
      "source": [
        "#adding newly generated features to the dataset\n",
        "org__test_data1['img_feature'] = [i[0] for i in test_img_feature_pred]\n",
        "org__test_data1['test_img_feature_pred'] = [i[1] for i in test_img_feature_pred]"
      ],
      "execution_count": null,
      "outputs": []
    },
    {
      "cell_type": "code",
      "metadata": {
        "id": "KEJpBoRBTvRM"
      },
      "source": [
        "#Saving the dataset because these processes takes time, so that I don't have to do that in future\n",
        "org__test_data1.to_csv('df_img_feature_pred_test.csv',index=False)"
      ],
      "execution_count": null,
      "outputs": []
    },
    {
      "cell_type": "markdown",
      "metadata": {
        "id": "_jludPqBUb2S"
      },
      "source": [
        "### <br><br>Dropping Duplicates<br>\n",
        "In this dataset we have many such rows in which urls are repeated means duplicate urls. Here I am going to drop such data.\n",
        "<br>"
      ]
    },
    {
      "cell_type": "code",
      "metadata": {
        "id": "pN2MSD5FTvUA"
      },
      "source": [
        "org__test_data1 = pd.read_csv('/content/drive/MyDrive/CS 2/test data/df_img_feature_pred_test.csv')"
      ],
      "execution_count": null,
      "outputs": []
    },
    {
      "cell_type": "code",
      "metadata": {
        "id": "_MJ0CTiRZSvT"
      },
      "source": [
        "'''\n",
        "Subreddits with more subscribers tend to get more upvotes, so I am normalizing the number of score by dividing by\n",
        "the number of subscribers from the respective subreddit where it was posted.\n",
        "'''\n",
        "org__test_data1['score'] = org__test_data1['score']/org__test_data1['subreddit_subscribers']"
      ],
      "execution_count": null,
      "outputs": []
    },
    {
      "cell_type": "code",
      "metadata": {
        "colab": {
          "base_uri": "https://localhost:8080/"
        },
        "id": "B74Rs6v-ZSyJ",
        "outputId": "50dbb49c-3d38-4662-b63a-b87ca2e21690"
      },
      "source": [
        "'''\n",
        "Checking percentile value of normalized score, so that I can get clear understanding for denoting meme \n",
        "as dank or not and making the problem as binary classification problem. \n",
        "'''\n",
        "#checking for top 5 precentile value\n",
        "top_5_percentile_value = []\n",
        "for i in range(95,101):\n",
        "  top_5_percentile_value.append(np.percentile(org__test_data1['score'], i))\n",
        "print(top_5_percentile_value)"
      ],
      "execution_count": null,
      "outputs": [
        {
          "output_type": "stream",
          "name": "stdout",
          "text": [
            "[3.6746631133165257e-06, 4.407719327196755e-06, 5.1428789111236835e-06, 5.872083358574469e-06, 8.081707057620833e-06, 1.6164679880557712e-05]\n"
          ]
        }
      ]
    },
    {
      "cell_type": "code",
      "metadata": {
        "colab": {
          "base_uri": "https://localhost:8080/"
        },
        "id": "50j1sD4jZS1C",
        "outputId": "5c353b27-72b5-440c-be74-7a47e6a0124e"
      },
      "source": [
        "between_97_98_percentile_value = []\n",
        "for i in np.arange(0,1,0.1):\n",
        "  between_97_98_percentile_value.append(np.percentile(org__test_data1['score'], (97+i)))\n",
        "print(between_97_98_percentile_value)"
      ],
      "execution_count": null,
      "outputs": [
        {
          "output_type": "stream",
          "name": "stdout",
          "text": [
            "[5.1428789111236835e-06, 5.1430859788903685e-06, 5.14361278483233e-06, 5.1438638374824005e-06, 5.8590472892135184e-06, 5.8647172842076674e-06, 5.865545535465291e-06, 5.870672625024258e-06, 5.871094918093215e-06, 5.871599810111333e-06]\n"
          ]
        }
      ]
    },
    {
      "cell_type": "code",
      "metadata": {
        "id": "4NrqGg3eZj1O"
      },
      "source": [
        "org__test_data1['dank_or_not'] = (org__test_data1['score']>np.percentile(org__test_data1['score'], 97.1)).astype('int')"
      ],
      "execution_count": null,
      "outputs": []
    },
    {
      "cell_type": "code",
      "metadata": {
        "colab": {
          "base_uri": "https://localhost:8080/"
        },
        "id": "bKWQH3wpZj4M",
        "outputId": "cdc66c86-e023-4b2a-c824-03be02f69de1"
      },
      "source": [
        "org__test_data1['dank_or_not'].value_counts()"
      ],
      "execution_count": null,
      "outputs": [
        {
          "output_type": "execute_result",
          "data": {
            "text/plain": [
              "0    1942\n",
              "1      58\n",
              "Name: dank_or_not, dtype: int64"
            ]
          },
          "metadata": {},
          "execution_count": 47
        }
      ]
    },
    {
      "cell_type": "code",
      "metadata": {
        "id": "hUGgbNGib-yI"
      },
      "source": [
        ""
      ],
      "execution_count": null,
      "outputs": []
    },
    {
      "cell_type": "code",
      "metadata": {
        "id": "8gwucpf7b-1P"
      },
      "source": [
        "org__test_data1.to_csv('org_data_dankornot.csv', index=False)"
      ],
      "execution_count": null,
      "outputs": []
    },
    {
      "cell_type": "code",
      "metadata": {
        "id": "szPO5YoFb-5G"
      },
      "source": [
        ""
      ],
      "execution_count": null,
      "outputs": []
    },
    {
      "cell_type": "markdown",
      "metadata": {
        "id": "r1te9rfjcw43"
      },
      "source": [
        "### <br><br>**Data cleaning and feature encoding**<br>\n",
        "cleaning the dataset and encoding the categorical features of the dataset.\n",
        "<br>\n"
      ]
    },
    {
      "cell_type": "code",
      "metadata": {
        "id": "o1PfxzlRczTd"
      },
      "source": [
        "org_data = pd.read_csv('/content/drive/MyDrive/CS 2/test data/test_org_data_dankornot.csv')"
      ],
      "execution_count": null,
      "outputs": []
    },
    {
      "cell_type": "markdown",
      "metadata": {
        "id": "gsUoKOPxc-8u"
      },
      "source": [
        "### Encoding created_utc column and creating new 'hour' column"
      ]
    },
    {
      "cell_type": "markdown",
      "metadata": {
        "id": "FBLPm5rCdAc9"
      },
      "source": [
        "The created_utc feature contains the timestamp when the post appeared on Reddit in the Coordinated Universal Time zone (UTC). Since most active Reddit users reside inthe USA, we converted this to North American Central Time Zone."
      ]
    },
    {
      "cell_type": "code",
      "metadata": {
        "id": "q0dNR8wPczV8"
      },
      "source": [
        "from datetime import datetime\n",
        "from pytz import timezone\n",
        "import pytz"
      ],
      "execution_count": null,
      "outputs": []
    },
    {
      "cell_type": "code",
      "metadata": {
        "id": "7dtBE95OdGQO"
      },
      "source": [
        "fmt = \"%Y-%m-%d %H:%M:%S %Z%z\""
      ],
      "execution_count": null,
      "outputs": []
    },
    {
      "cell_type": "code",
      "metadata": {
        "id": "HxD_-H-OdGXl"
      },
      "source": [
        "datetime_converted = org_data['created_utc'].apply(datetime.fromtimestamp)"
      ],
      "execution_count": null,
      "outputs": []
    },
    {
      "cell_type": "code",
      "metadata": {
        "id": "i5G5yKg1dOwd"
      },
      "source": [
        "datetime_converted=pd.DatetimeIndex(datetime_converted).tz_localize('UTC').tz_convert('America/New_York')"
      ],
      "execution_count": null,
      "outputs": []
    },
    {
      "cell_type": "code",
      "metadata": {
        "id": "9d2E0YFGdOzm"
      },
      "source": [
        "org_data['created_utc'] = pd.to_datetime(datetime_converted)"
      ],
      "execution_count": null,
      "outputs": []
    },
    {
      "cell_type": "code",
      "metadata": {
        "id": "OeP3rAebdO5X"
      },
      "source": [
        "#creating hour column\n",
        "org_data['hour'] = org_data['created_utc'].apply(lambda x: x.hour)"
      ],
      "execution_count": null,
      "outputs": []
    },
    {
      "cell_type": "code",
      "metadata": {
        "colab": {
          "base_uri": "https://localhost:8080/"
        },
        "id": "6Ok-N2Rtdc2M",
        "outputId": "c9e7ac1a-5f0b-43d2-99f4-7f6ab1686606"
      },
      "source": [
        "org_data.info()"
      ],
      "execution_count": null,
      "outputs": [
        {
          "output_type": "stream",
          "name": "stdout",
          "text": [
            "<class 'pandas.core.frame.DataFrame'>\n",
            "RangeIndex: 2000 entries, 0 to 1999\n",
            "Data columns (total 21 columns):\n",
            " #   Column                 Non-Null Count  Dtype                           \n",
            "---  ------                 --------------  -----                           \n",
            " 0   Unnamed: 0             2000 non-null   int64                           \n",
            " 1   Unnamed: 0.1           2000 non-null   int64                           \n",
            " 2   created_utc            2000 non-null   datetime64[ns, America/New_York]\n",
            " 3   is_original_content    2000 non-null   bool                            \n",
            " 4   is_video               2000 non-null   bool                            \n",
            " 5   num_comments           2000 non-null   int64                           \n",
            " 6   over_18                2000 non-null   bool                            \n",
            " 7   subreddit              2000 non-null   object                          \n",
            " 8   subreddit_subscribers  2000 non-null   int64                           \n",
            " 9   upvote_ratio           2000 non-null   float64                         \n",
            " 10  url                    2000 non-null   object                          \n",
            " 11  thumbnail_height       1998 non-null   float64                         \n",
            " 12  thumbnail_width        1998 non-null   float64                         \n",
            " 13  score                  2000 non-null   float64                         \n",
            " 14  Sentiment_Score        2000 non-null   float64                         \n",
            " 15  text                   1773 non-null   object                          \n",
            " 16  num_words              2000 non-null   int64                           \n",
            " 17  img_feature            2000 non-null   object                          \n",
            " 18  test_img_feature_pred  2000 non-null   object                          \n",
            " 19  dank_or_not            2000 non-null   int64                           \n",
            " 20  hour                   2000 non-null   int64                           \n",
            "dtypes: bool(3), datetime64[ns, America/New_York](1), float64(5), int64(7), object(5)\n",
            "memory usage: 287.2+ KB\n"
          ]
        }
      ]
    },
    {
      "cell_type": "code",
      "metadata": {
        "colab": {
          "base_uri": "https://localhost:8080/"
        },
        "id": "RpLnmjGsdc5T",
        "outputId": "cb9c071d-5861-4516-9d77-dcce1880b0a9"
      },
      "source": [
        "org_data['is_video'].value_counts()"
      ],
      "execution_count": null,
      "outputs": [
        {
          "output_type": "execute_result",
          "data": {
            "text/plain": [
              "False    2000\n",
              "Name: is_video, dtype: int64"
            ]
          },
          "metadata": {},
          "execution_count": 12
        }
      ]
    },
    {
      "cell_type": "code",
      "metadata": {
        "id": "8AYBCGlBdc8b"
      },
      "source": [
        "org_data.drop(['is_video','Unnamed: 0','Unnamed: 0.1'], axis=1, inplace=True)"
      ],
      "execution_count": null,
      "outputs": []
    },
    {
      "cell_type": "code",
      "metadata": {
        "colab": {
          "base_uri": "https://localhost:8080/",
          "height": 463
        },
        "id": "LcJosmgue3jD",
        "outputId": "e1a1f85a-0188-46d2-8df8-df9b256986b3"
      },
      "source": [
        "org_data.head()"
      ],
      "execution_count": null,
      "outputs": [
        {
          "output_type": "execute_result",
          "data": {
            "text/html": [
              "<div>\n",
              "<style scoped>\n",
              "    .dataframe tbody tr th:only-of-type {\n",
              "        vertical-align: middle;\n",
              "    }\n",
              "\n",
              "    .dataframe tbody tr th {\n",
              "        vertical-align: top;\n",
              "    }\n",
              "\n",
              "    .dataframe thead th {\n",
              "        text-align: right;\n",
              "    }\n",
              "</style>\n",
              "<table border=\"1\" class=\"dataframe\">\n",
              "  <thead>\n",
              "    <tr style=\"text-align: right;\">\n",
              "      <th></th>\n",
              "      <th>created_utc</th>\n",
              "      <th>is_original_content</th>\n",
              "      <th>num_comments</th>\n",
              "      <th>over_18</th>\n",
              "      <th>subreddit</th>\n",
              "      <th>subreddit_subscribers</th>\n",
              "      <th>upvote_ratio</th>\n",
              "      <th>url</th>\n",
              "      <th>thumbnail_height</th>\n",
              "      <th>thumbnail_width</th>\n",
              "      <th>score</th>\n",
              "      <th>Sentiment_Score</th>\n",
              "      <th>text</th>\n",
              "      <th>num_words</th>\n",
              "      <th>img_feature</th>\n",
              "      <th>test_img_feature_pred</th>\n",
              "      <th>dank_or_not</th>\n",
              "      <th>hour</th>\n",
              "    </tr>\n",
              "  </thead>\n",
              "  <tbody>\n",
              "    <tr>\n",
              "      <th>0</th>\n",
              "      <td>2021-01-09 06:25:27-05:00</td>\n",
              "      <td>False</td>\n",
              "      <td>5</td>\n",
              "      <td>False</td>\n",
              "      <td>memes</td>\n",
              "      <td>14398009</td>\n",
              "      <td>1.0</td>\n",
              "      <td>https://i.redd.it/xyjz83u8kaa61.jpg</td>\n",
              "      <td>106.0</td>\n",
              "      <td>140.0</td>\n",
              "      <td>6.945405e-08</td>\n",
              "      <td>0.41</td>\n",
              "      <td>tactic lamar</td>\n",
              "      <td>2</td>\n",
              "      <td>['', '', '']</td>\n",
              "      <td>[0, 0, 0]</td>\n",
              "      <td>0</td>\n",
              "      <td>6</td>\n",
              "    </tr>\n",
              "    <tr>\n",
              "      <th>1</th>\n",
              "      <td>2021-01-09 03:30:39-05:00</td>\n",
              "      <td>False</td>\n",
              "      <td>11</td>\n",
              "      <td>False</td>\n",
              "      <td>memes</td>\n",
              "      <td>14396805</td>\n",
              "      <td>1.0</td>\n",
              "      <td>https://i.redd.it/58b2whfep9a61.jpg</td>\n",
              "      <td>91.0</td>\n",
              "      <td>140.0</td>\n",
              "      <td>6.945986e-08</td>\n",
              "      <td>0.31</td>\n",
              "      <td>srell realiz feminist memat</td>\n",
              "      <td>4</td>\n",
              "      <td>['', '', '']</td>\n",
              "      <td>[0, 0, 0]</td>\n",
              "      <td>0</td>\n",
              "      <td>3</td>\n",
              "    </tr>\n",
              "    <tr>\n",
              "      <th>2</th>\n",
              "      <td>2021-01-08 09:30:49-05:00</td>\n",
              "      <td>False</td>\n",
              "      <td>4</td>\n",
              "      <td>False</td>\n",
              "      <td>memes</td>\n",
              "      <td>14388900</td>\n",
              "      <td>1.0</td>\n",
              "      <td>https://i.redd.it/2cbx3c4rc4a61.jpg</td>\n",
              "      <td>109.0</td>\n",
              "      <td>140.0</td>\n",
              "      <td>6.949802e-08</td>\n",
              "      <td>0.44</td>\n",
              "      <td>alabama figur famili hmmtri</td>\n",
              "      <td>4</td>\n",
              "      <td>['', '', '']</td>\n",
              "      <td>[0, 0, 0]</td>\n",
              "      <td>0</td>\n",
              "      <td>9</td>\n",
              "    </tr>\n",
              "    <tr>\n",
              "      <th>3</th>\n",
              "      <td>2021-01-09 01:57:24-05:00</td>\n",
              "      <td>False</td>\n",
              "      <td>3</td>\n",
              "      <td>False</td>\n",
              "      <td>memes</td>\n",
              "      <td>14396276</td>\n",
              "      <td>1.0</td>\n",
              "      <td>https://i.redd.it/d16owmlr89a61.jpg</td>\n",
              "      <td>140.0</td>\n",
              "      <td>140.0</td>\n",
              "      <td>6.946241e-08</td>\n",
              "      <td>0.50</td>\n",
              "      <td>terrorist paidfbi dollar thousand ident reward...</td>\n",
              "      <td>7</td>\n",
              "      <td>['', '', '']</td>\n",
              "      <td>[0, 0, 0]</td>\n",
              "      <td>0</td>\n",
              "      <td>1</td>\n",
              "    </tr>\n",
              "    <tr>\n",
              "      <th>4</th>\n",
              "      <td>2021-01-09 03:15:39-05:00</td>\n",
              "      <td>False</td>\n",
              "      <td>2</td>\n",
              "      <td>False</td>\n",
              "      <td>memes</td>\n",
              "      <td>14396709</td>\n",
              "      <td>1.0</td>\n",
              "      <td>https://i.redd.it/io0pmc9qm9a61.jpg</td>\n",
              "      <td>139.0</td>\n",
              "      <td>140.0</td>\n",
              "      <td>6.946032e-08</td>\n",
              "      <td>0.55</td>\n",
              "      <td>brought cornhub</td>\n",
              "      <td>2</td>\n",
              "      <td>['', '', '']</td>\n",
              "      <td>[0, 0, 0]</td>\n",
              "      <td>0</td>\n",
              "      <td>3</td>\n",
              "    </tr>\n",
              "  </tbody>\n",
              "</table>\n",
              "</div>"
            ],
            "text/plain": [
              "                created_utc  is_original_content  ...  dank_or_not  hour\n",
              "0 2021-01-09 06:25:27-05:00                False  ...            0     6\n",
              "1 2021-01-09 03:30:39-05:00                False  ...            0     3\n",
              "2 2021-01-08 09:30:49-05:00                False  ...            0     9\n",
              "3 2021-01-09 01:57:24-05:00                False  ...            0     1\n",
              "4 2021-01-09 03:15:39-05:00                False  ...            0     3\n",
              "\n",
              "[5 rows x 18 columns]"
            ]
          },
          "metadata": {},
          "execution_count": 14
        }
      ]
    },
    {
      "cell_type": "code",
      "metadata": {
        "id": "KcM9gg_1E0bo"
      },
      "source": [
        "org_data['text'] = org_data['text'].fillna(\"\")"
      ],
      "execution_count": null,
      "outputs": []
    },
    {
      "cell_type": "code",
      "metadata": {
        "id": "Rq07XmTyE0ga",
        "colab": {
          "base_uri": "https://localhost:8080/",
          "height": 210
        },
        "outputId": "0af8e819-8766-49a8-9f21-39674cd01878"
      },
      "source": [
        "org_data[org_data['thumbnail_height'].isna()]"
      ],
      "execution_count": null,
      "outputs": [
        {
          "output_type": "execute_result",
          "data": {
            "text/html": [
              "<div>\n",
              "<style scoped>\n",
              "    .dataframe tbody tr th:only-of-type {\n",
              "        vertical-align: middle;\n",
              "    }\n",
              "\n",
              "    .dataframe tbody tr th {\n",
              "        vertical-align: top;\n",
              "    }\n",
              "\n",
              "    .dataframe thead th {\n",
              "        text-align: right;\n",
              "    }\n",
              "</style>\n",
              "<table border=\"1\" class=\"dataframe\">\n",
              "  <thead>\n",
              "    <tr style=\"text-align: right;\">\n",
              "      <th></th>\n",
              "      <th>created_utc</th>\n",
              "      <th>is_original_content</th>\n",
              "      <th>num_comments</th>\n",
              "      <th>over_18</th>\n",
              "      <th>subreddit</th>\n",
              "      <th>subreddit_subscribers</th>\n",
              "      <th>upvote_ratio</th>\n",
              "      <th>url</th>\n",
              "      <th>thumbnail_height</th>\n",
              "      <th>thumbnail_width</th>\n",
              "      <th>score</th>\n",
              "      <th>Sentiment_Score</th>\n",
              "      <th>text</th>\n",
              "      <th>num_words</th>\n",
              "      <th>img_feature</th>\n",
              "      <th>test_img_feature_pred</th>\n",
              "      <th>dank_or_not</th>\n",
              "      <th>hour</th>\n",
              "    </tr>\n",
              "  </thead>\n",
              "  <tbody>\n",
              "    <tr>\n",
              "      <th>753</th>\n",
              "      <td>2021-01-09 08:53:51-05:00</td>\n",
              "      <td>False</td>\n",
              "      <td>7</td>\n",
              "      <td>False</td>\n",
              "      <td>memes</td>\n",
              "      <td>14398895</td>\n",
              "      <td>1.0</td>\n",
              "      <td>https://i.imgur.com/jOCkMYe.jpg</td>\n",
              "      <td>NaN</td>\n",
              "      <td>NaN</td>\n",
              "      <td>6.944977e-08</td>\n",
              "      <td>0.49</td>\n",
              "      <td>histori written kowalski victor</td>\n",
              "      <td>4</td>\n",
              "      <td>['', '', '']</td>\n",
              "      <td>[0, 0, 0]</td>\n",
              "      <td>0</td>\n",
              "      <td>8</td>\n",
              "    </tr>\n",
              "    <tr>\n",
              "      <th>943</th>\n",
              "      <td>2021-01-09 02:53:29-05:00</td>\n",
              "      <td>False</td>\n",
              "      <td>1</td>\n",
              "      <td>False</td>\n",
              "      <td>memes</td>\n",
              "      <td>14396549</td>\n",
              "      <td>1.0</td>\n",
              "      <td>https://i.vgy.me/Thw8l9.png</td>\n",
              "      <td>NaN</td>\n",
              "      <td>NaN</td>\n",
              "      <td>6.946109e-08</td>\n",
              "      <td>0.45</td>\n",
              "      <td>discov</td>\n",
              "      <td>1</td>\n",
              "      <td>['', '', '']</td>\n",
              "      <td>[0, 0, 0]</td>\n",
              "      <td>0</td>\n",
              "      <td>2</td>\n",
              "    </tr>\n",
              "  </tbody>\n",
              "</table>\n",
              "</div>"
            ],
            "text/plain": [
              "                  created_utc  is_original_content  ...  dank_or_not  hour\n",
              "753 2021-01-09 08:53:51-05:00                False  ...            0     8\n",
              "943 2021-01-09 02:53:29-05:00                False  ...            0     2\n",
              "\n",
              "[2 rows x 18 columns]"
            ]
          },
          "metadata": {},
          "execution_count": 16
        }
      ]
    },
    {
      "cell_type": "code",
      "metadata": {
        "id": "SgWGs860E0h4",
        "colab": {
          "base_uri": "https://localhost:8080/"
        },
        "outputId": "c8744fab-b710-47f6-e844-37d54c096bd6"
      },
      "source": [
        "print(org_data['thumbnail_height'].value_counts())\n",
        "print()\n",
        "print(org_data['thumbnail_width'].value_counts())"
      ],
      "execution_count": null,
      "outputs": [
        {
          "output_type": "stream",
          "name": "stdout",
          "text": [
            "140.0    1074\n",
            "78.0       50\n",
            "105.0      45\n",
            "139.0      29\n",
            "138.0      28\n",
            "         ... \n",
            "60.0        1\n",
            "42.0        1\n",
            "55.0        1\n",
            "29.0        1\n",
            "66.0        1\n",
            "Name: thumbnail_height, Length: 90, dtype: int64\n",
            "\n",
            "140.0    1998\n",
            "Name: thumbnail_width, dtype: int64\n"
          ]
        }
      ]
    },
    {
      "cell_type": "code",
      "metadata": {
        "id": "J1wxzspSE0sM"
      },
      "source": [
        "org_data['thumbnail_height'].fillna(org_data['thumbnail_height'].mode().iloc[0], inplace=True)\n",
        "org_data['thumbnail_width'].fillna(org_data['thumbnail_width'].mode().iloc[0], inplace=True)"
      ],
      "execution_count": null,
      "outputs": []
    },
    {
      "cell_type": "code",
      "metadata": {
        "colab": {
          "base_uri": "https://localhost:8080/",
          "height": 310
        },
        "id": "3AgRIbrwiNKF",
        "outputId": "ce12f910-4df5-4cf6-cf99-9fe17347f131"
      },
      "source": [
        "org_data.describe()"
      ],
      "execution_count": null,
      "outputs": [
        {
          "output_type": "execute_result",
          "data": {
            "text/html": [
              "<div>\n",
              "<style scoped>\n",
              "    .dataframe tbody tr th:only-of-type {\n",
              "        vertical-align: middle;\n",
              "    }\n",
              "\n",
              "    .dataframe tbody tr th {\n",
              "        vertical-align: top;\n",
              "    }\n",
              "\n",
              "    .dataframe thead th {\n",
              "        text-align: right;\n",
              "    }\n",
              "</style>\n",
              "<table border=\"1\" class=\"dataframe\">\n",
              "  <thead>\n",
              "    <tr style=\"text-align: right;\">\n",
              "      <th></th>\n",
              "      <th>num_comments</th>\n",
              "      <th>subreddit_subscribers</th>\n",
              "      <th>upvote_ratio</th>\n",
              "      <th>thumbnail_height</th>\n",
              "      <th>thumbnail_width</th>\n",
              "      <th>score</th>\n",
              "      <th>Sentiment_Score</th>\n",
              "      <th>num_words</th>\n",
              "      <th>dank_or_not</th>\n",
              "      <th>hour</th>\n",
              "    </tr>\n",
              "  </thead>\n",
              "  <tbody>\n",
              "    <tr>\n",
              "      <th>count</th>\n",
              "      <td>2000.000000</td>\n",
              "      <td>2.000000e+03</td>\n",
              "      <td>2000.000000</td>\n",
              "      <td>2000.000000</td>\n",
              "      <td>2000.0</td>\n",
              "      <td>2.000000e+03</td>\n",
              "      <td>2000.000000</td>\n",
              "      <td>2000.000000</td>\n",
              "      <td>2000.000000</td>\n",
              "      <td>2000.00000</td>\n",
              "    </tr>\n",
              "    <tr>\n",
              "      <th>mean</th>\n",
              "      <td>7.293500</td>\n",
              "      <td>9.206592e+06</td>\n",
              "      <td>0.981370</td>\n",
              "      <td>125.087000</td>\n",
              "      <td>140.0</td>\n",
              "      <td>8.949684e-07</td>\n",
              "      <td>0.455590</td>\n",
              "      <td>3.558500</td>\n",
              "      <td>0.029000</td>\n",
              "      <td>11.62250</td>\n",
              "    </tr>\n",
              "    <tr>\n",
              "      <th>std</th>\n",
              "      <td>28.794547</td>\n",
              "      <td>6.381389e+06</td>\n",
              "      <td>0.063421</td>\n",
              "      <td>21.745824</td>\n",
              "      <td>0.0</td>\n",
              "      <td>1.557411e-06</td>\n",
              "      <td>0.104441</td>\n",
              "      <td>3.919089</td>\n",
              "      <td>0.167848</td>\n",
              "      <td>6.19808</td>\n",
              "    </tr>\n",
              "    <tr>\n",
              "      <th>min</th>\n",
              "      <td>0.000000</td>\n",
              "      <td>1.354604e+06</td>\n",
              "      <td>0.340000</td>\n",
              "      <td>20.000000</td>\n",
              "      <td>140.0</td>\n",
              "      <td>0.000000e+00</td>\n",
              "      <td>0.060000</td>\n",
              "      <td>0.000000</td>\n",
              "      <td>0.000000</td>\n",
              "      <td>0.00000</td>\n",
              "    </tr>\n",
              "    <tr>\n",
              "      <th>25%</th>\n",
              "      <td>1.000000</td>\n",
              "      <td>1.361507e+06</td>\n",
              "      <td>1.000000</td>\n",
              "      <td>112.000000</td>\n",
              "      <td>140.0</td>\n",
              "      <td>6.949545e-08</td>\n",
              "      <td>0.410000</td>\n",
              "      <td>1.000000</td>\n",
              "      <td>0.000000</td>\n",
              "      <td>7.00000</td>\n",
              "    </tr>\n",
              "    <tr>\n",
              "      <th>50%</th>\n",
              "      <td>3.000000</td>\n",
              "      <td>1.438824e+07</td>\n",
              "      <td>1.000000</td>\n",
              "      <td>140.000000</td>\n",
              "      <td>140.0</td>\n",
              "      <td>7.328074e-07</td>\n",
              "      <td>0.480000</td>\n",
              "      <td>3.000000</td>\n",
              "      <td>0.000000</td>\n",
              "      <td>12.00000</td>\n",
              "    </tr>\n",
              "    <tr>\n",
              "      <th>75%</th>\n",
              "      <td>6.000000</td>\n",
              "      <td>1.439493e+07</td>\n",
              "      <td>1.000000</td>\n",
              "      <td>140.000000</td>\n",
              "      <td>140.0</td>\n",
              "      <td>7.380676e-07</td>\n",
              "      <td>0.500000</td>\n",
              "      <td>5.000000</td>\n",
              "      <td>0.000000</td>\n",
              "      <td>16.00000</td>\n",
              "    </tr>\n",
              "    <tr>\n",
              "      <th>max</th>\n",
              "      <td>554.000000</td>\n",
              "      <td>1.440314e+07</td>\n",
              "      <td>1.000000</td>\n",
              "      <td>140.000000</td>\n",
              "      <td>140.0</td>\n",
              "      <td>1.616468e-05</td>\n",
              "      <td>0.810000</td>\n",
              "      <td>67.000000</td>\n",
              "      <td>1.000000</td>\n",
              "      <td>23.00000</td>\n",
              "    </tr>\n",
              "  </tbody>\n",
              "</table>\n",
              "</div>"
            ],
            "text/plain": [
              "       num_comments  subreddit_subscribers  ...  dank_or_not        hour\n",
              "count   2000.000000           2.000000e+03  ...  2000.000000  2000.00000\n",
              "mean       7.293500           9.206592e+06  ...     0.029000    11.62250\n",
              "std       28.794547           6.381389e+06  ...     0.167848     6.19808\n",
              "min        0.000000           1.354604e+06  ...     0.000000     0.00000\n",
              "25%        1.000000           1.361507e+06  ...     0.000000     7.00000\n",
              "50%        3.000000           1.438824e+07  ...     0.000000    12.00000\n",
              "75%        6.000000           1.439493e+07  ...     0.000000    16.00000\n",
              "max      554.000000           1.440314e+07  ...     1.000000    23.00000\n",
              "\n",
              "[8 rows x 10 columns]"
            ]
          },
          "metadata": {},
          "execution_count": 19
        }
      ]
    },
    {
      "cell_type": "code",
      "metadata": {
        "colab": {
          "base_uri": "https://localhost:8080/",
          "height": 371
        },
        "id": "tsYnzgjeiNNG",
        "outputId": "90cbd317-c59e-4e30-b55d-adaac72b4977"
      },
      "source": [
        "plt.figure(figsize=(25,5))\n",
        "sns.boxplot(org_data['num_words'])\n",
        "plt.title('Number of words in memes')\n",
        "plt.show()"
      ],
      "execution_count": null,
      "outputs": [
        {
          "output_type": "display_data",
          "data": {
            "image/png": "[encoded data removed]",
            "text/plain": [
              "<Figure size 1800x360 with 1 Axes>"
            ]
          },
          "metadata": {
            "needs_background": "light"
          }
        }
      ]
    },
    {
      "cell_type": "code",
      "metadata": {
        "colab": {
          "base_uri": "https://localhost:8080/"
        },
        "id": "ZXQuCWO8izXj",
        "outputId": "2573f403-fe14-486a-9fa0-c03a75efef88"
      },
      "source": [
        "np.percentile(org_data['num_words'],99.9)"
      ],
      "execution_count": null,
      "outputs": [
        {
          "output_type": "execute_result",
          "data": {
            "text/plain": [
              "36.00600000000122"
            ]
          },
          "metadata": {},
          "execution_count": 21
        }
      ]
    },
    {
      "cell_type": "code",
      "metadata": {
        "colab": {
          "base_uri": "https://localhost:8080/"
        },
        "id": "foY2RGd4izaB",
        "outputId": "bdfb4e7e-68d2-4230-ef0e-abeb4110473a"
      },
      "source": [
        "for i in range(90,101):\n",
        "  print(i,'percentile : ',np.percentile(org_data['num_words'],i))"
      ],
      "execution_count": null,
      "outputs": [
        {
          "output_type": "stream",
          "name": "stdout",
          "text": [
            "90 percentile :  7.0\n",
            "91 percentile :  8.0\n",
            "92 percentile :  8.0\n",
            "93 percentile :  9.0\n",
            "94 percentile :  9.0\n",
            "95 percentile :  10.0\n",
            "96 percentile :  11.0\n",
            "97 percentile :  11.0\n",
            "98 percentile :  13.019999999999982\n",
            "99 percentile :  18.0\n",
            "100 percentile :  67.0\n"
          ]
        }
      ]
    },
    {
      "cell_type": "code",
      "metadata": {
        "colab": {
          "base_uri": "https://localhost:8080/"
        },
        "id": "PJKJkmEHizcu",
        "outputId": "840e4ce7-8e8c-4217-f768-cda810cdf49f"
      },
      "source": [
        "for i in np.arange(99,100.1,0.1):\n",
        "  print(i,'percentile : ',np.percentile(org_data['num_words'],i))"
      ],
      "execution_count": null,
      "outputs": [
        {
          "output_type": "stream",
          "name": "stdout",
          "text": [
            "99.0 percentile :  18.0\n",
            "99.1 percentile :  18.0\n",
            "99.19999999999999 percentile :  18.00799999999981\n",
            "99.29999999999998 percentile :  19.0\n",
            "99.39999999999998 percentile :  20.00599999999963\n",
            "99.49999999999997 percentile :  22.0\n",
            "99.59999999999997 percentile :  22.01199999999767\n",
            "99.69999999999996 percentile :  29.00299999999902\n",
            "99.79999999999995 percentile :  30.003999999998086\n",
            "99.89999999999995 percentile :  36.00599999999304\n",
            "99.99999999999994 percentile :  66.99999999997158\n"
          ]
        }
      ]
    },
    {
      "cell_type": "code",
      "metadata": {
        "id": "eRr2VbcnjYa7"
      },
      "source": [
        "org_data = org_data[org_data['num_words']<=75]"
      ],
      "execution_count": null,
      "outputs": []
    },
    {
      "cell_type": "code",
      "metadata": {
        "colab": {
          "base_uri": "https://localhost:8080/"
        },
        "id": "FZX63ShdjYdh",
        "outputId": "896ed6dc-f6f7-4b40-d840-a244faebfb0a"
      },
      "source": [
        "org_data.shape[0]"
      ],
      "execution_count": null,
      "outputs": [
        {
          "output_type": "execute_result",
          "data": {
            "text/plain": [
              "2000"
            ]
          },
          "metadata": {},
          "execution_count": 25
        }
      ]
    },
    {
      "cell_type": "code",
      "metadata": {
        "id": "8Yn_fRqvjYgL"
      },
      "source": [
        "org_data.drop(['created_utc','subreddit','url'], axis=1, inplace=True)"
      ],
      "execution_count": null,
      "outputs": []
    },
    {
      "cell_type": "code",
      "metadata": {
        "id": "amEUiA2mlyyE"
      },
      "source": [
        "org_data['is_original_content'] = org_data['is_original_content'].astype('int')"
      ],
      "execution_count": null,
      "outputs": []
    },
    {
      "cell_type": "code",
      "metadata": {
        "id": "A7X-P8HSly0y"
      },
      "source": [
        "org_data['over_18'] = org_data['over_18'].astype('int')"
      ],
      "execution_count": null,
      "outputs": []
    },
    {
      "cell_type": "code",
      "metadata": {
        "id": "EiRIJXukly5y"
      },
      "source": [
        "top_5_features = org_data[org_data['score']>np.percentile(org_data['score'],95)]['img_feature']\n",
        "least_5_features = org_data[org_data['score']<np.percentile(org_data['score'],5)]['img_feature']"
      ],
      "execution_count": null,
      "outputs": []
    },
    {
      "cell_type": "code",
      "metadata": {
        "id": "_9QonjCumq8l"
      },
      "source": [
        "#list data are in form of string, converting them to list\n",
        "from ast import literal_eval\n",
        "top_5_features = top_5_features.apply(literal_eval)\n",
        "least_5_features = least_5_features.apply(literal_eval)"
      ],
      "execution_count": null,
      "outputs": []
    },
    {
      "cell_type": "code",
      "metadata": {
        "id": "HYmVCv2Lmq-x"
      },
      "source": [
        "#storing all the words present im top 5% features\n",
        "top_features_list=[]\n",
        "for value in top_5_features:\n",
        "    top_features_list.extend(value)"
      ],
      "execution_count": null,
      "outputs": []
    },
    {
      "cell_type": "code",
      "metadata": {
        "id": "Hlu_SIaomrBY"
      },
      "source": [
        "#storing all the words present im bottom 5% features\n",
        "least_features_list=[]\n",
        "for value in least_5_features:\n",
        "    least_features_list.extend(value)"
      ],
      "execution_count": null,
      "outputs": []
    },
    {
      "cell_type": "markdown",
      "metadata": {
        "id": "FT7IuM7IybvR"
      },
      "source": [
        "Getting top 10 **shared** objects"
      ]
    },
    {
      "cell_type": "code",
      "metadata": {
        "id": "c01WJGlDmrDt"
      },
      "source": [
        "top_objects = pd.DataFrame(top_features_list).value_counts()[:11].index.to_frame(index=False)[0]"
      ],
      "execution_count": null,
      "outputs": []
    },
    {
      "cell_type": "code",
      "metadata": {
        "id": "UlumnwbknRML"
      },
      "source": [
        "least_objects = pd.DataFrame(least_features_list).value_counts()[:10].index.to_frame(index=False)[0]"
      ],
      "execution_count": null,
      "outputs": []
    },
    {
      "cell_type": "code",
      "metadata": {
        "id": "qhVNixqJnYqx"
      },
      "source": [
        "common_objs = set(top_objects).intersection(set(least_objects))"
      ],
      "execution_count": null,
      "outputs": []
    },
    {
      "cell_type": "markdown",
      "metadata": {
        "id": "r8eWwfXkydOB"
      },
      "source": [
        "Getting top 10 **most popular** objects which are not shared"
      ]
    },
    {
      "cell_type": "code",
      "metadata": {
        "id": "sXQrOhQEnYtp"
      },
      "source": [
        "top_objects = pd.DataFrame(top_features_list).value_counts()[:0].index.to_frame(index=False)[0]"
      ],
      "execution_count": null,
      "outputs": []
    },
    {
      "cell_type": "code",
      "metadata": {
        "id": "DXKfnlTYnYyt"
      },
      "source": [
        "least_objects = pd.DataFrame(least_features_list).value_counts()[:10].index.to_frame(index=False)[0]"
      ],
      "execution_count": null,
      "outputs": []
    },
    {
      "cell_type": "code",
      "metadata": {
        "id": "n8JM38Yhnykz"
      },
      "source": [
        "most_pop_objcts = set(top_objects) - set(least_objects)"
      ],
      "execution_count": null,
      "outputs": []
    },
    {
      "cell_type": "markdown",
      "metadata": {
        "id": "biNb9sUKymXK"
      },
      "source": [
        "Getting top 10 **least popular** objects which are not shared"
      ]
    },
    {
      "cell_type": "code",
      "metadata": {
        "id": "kWA8uMqcnynj"
      },
      "source": [
        "least_objects = pd.DataFrame(least_features_list).value_counts()[-10:].index.to_frame(index=False)[0]"
      ],
      "execution_count": null,
      "outputs": []
    },
    {
      "cell_type": "code",
      "metadata": {
        "id": "SK-bL1WXnyqJ"
      },
      "source": [
        "top_objects = pd.DataFrame(top_features_list).value_counts()[:47].index.to_frame(index=False)[0]"
      ],
      "execution_count": null,
      "outputs": []
    },
    {
      "cell_type": "code",
      "metadata": {
        "id": "wKqCJh8CnytG"
      },
      "source": [
        "least_pop_objcts = set(least_objects) - set(top_objects)"
      ],
      "execution_count": null,
      "outputs": []
    },
    {
      "cell_type": "code",
      "metadata": {
        "colab": {
          "base_uri": "https://localhost:8080/",
          "height": 337
        },
        "id": "KQlJCSm-nyvh",
        "outputId": "bdb22945-bf4b-446d-c89e-78d43ac5f9c4"
      },
      "source": [
        "#showing top 10 words in top 5%, bottom 5% and shared data\n",
        "from prettytable import PrettyTable\n",
        "x = PrettyTable()\n",
        "x.add_column(\"Shared\",list(common_objs))\n",
        "x.add_column(\"Top 5%\",list(most_pop_objcts))\n",
        "x.add_column(\"Bottom 5%\",list(least_pop_objcts))\n",
        "print(x)"
      ],
      "execution_count": null,
      "outputs": [
        {
          "output_type": "error",
          "ename": "Exception",
          "evalue": "ignored",
          "traceback": [
            "\u001b[0;31m---------------------------------------------------------------------------\u001b[0m",
            "\u001b[0;31mException\u001b[0m                                 Traceback (most recent call last)",
            "\u001b[0;32m<ipython-input-107-12806d0939f2>\u001b[0m in \u001b[0;36m<module>\u001b[0;34m()\u001b[0m\n\u001b[1;32m      3\u001b[0m \u001b[0mx\u001b[0m \u001b[0;34m=\u001b[0m \u001b[0mPrettyTable\u001b[0m\u001b[0;34m(\u001b[0m\u001b[0;34m)\u001b[0m\u001b[0;34m\u001b[0m\u001b[0;34m\u001b[0m\u001b[0m\n\u001b[1;32m      4\u001b[0m \u001b[0mx\u001b[0m\u001b[0;34m.\u001b[0m\u001b[0madd_column\u001b[0m\u001b[0;34m(\u001b[0m\u001b[0;34m\"Shared\"\u001b[0m\u001b[0;34m,\u001b[0m\u001b[0mlist\u001b[0m\u001b[0;34m(\u001b[0m\u001b[0mcommon_objs\u001b[0m\u001b[0;34m)\u001b[0m\u001b[0;34m)\u001b[0m\u001b[0;34m\u001b[0m\u001b[0;34m\u001b[0m\u001b[0m\n\u001b[0;32m----> 5\u001b[0;31m \u001b[0mx\u001b[0m\u001b[0;34m.\u001b[0m\u001b[0madd_column\u001b[0m\u001b[0;34m(\u001b[0m\u001b[0;34m\"Top 5%\"\u001b[0m\u001b[0;34m,\u001b[0m\u001b[0mlist\u001b[0m\u001b[0;34m(\u001b[0m\u001b[0mmost_pop_objcts\u001b[0m\u001b[0;34m)\u001b[0m\u001b[0;34m)\u001b[0m\u001b[0;34m\u001b[0m\u001b[0;34m\u001b[0m\u001b[0m\n\u001b[0m\u001b[1;32m      6\u001b[0m \u001b[0mx\u001b[0m\u001b[0;34m.\u001b[0m\u001b[0madd_column\u001b[0m\u001b[0;34m(\u001b[0m\u001b[0;34m\"Bottom 5%\"\u001b[0m\u001b[0;34m,\u001b[0m\u001b[0mlist\u001b[0m\u001b[0;34m(\u001b[0m\u001b[0mleast_pop_objcts\u001b[0m\u001b[0;34m)\u001b[0m\u001b[0;34m)\u001b[0m\u001b[0;34m\u001b[0m\u001b[0;34m\u001b[0m\u001b[0m\n\u001b[1;32m      7\u001b[0m \u001b[0mprint\u001b[0m\u001b[0;34m(\u001b[0m\u001b[0mx\u001b[0m\u001b[0;34m)\u001b[0m\u001b[0;34m\u001b[0m\u001b[0;34m\u001b[0m\u001b[0m\n",
            "\u001b[0;32m/usr/local/lib/python3.7/dist-packages/prettytable/prettytable.py\u001b[0m in \u001b[0;36madd_column\u001b[0;34m(self, fieldname, column, align, valign)\u001b[0m\n\u001b[1;32m   1376\u001b[0m         \u001b[0;32melse\u001b[0m\u001b[0;34m:\u001b[0m\u001b[0;34m\u001b[0m\u001b[0;34m\u001b[0m\u001b[0m\n\u001b[1;32m   1377\u001b[0m             raise Exception(\n\u001b[0;32m-> 1378\u001b[0;31m                 \u001b[0;34mf\"Column length {len(column)} does not match number of rows \"\u001b[0m\u001b[0;34m\u001b[0m\u001b[0;34m\u001b[0m\u001b[0m\n\u001b[0m\u001b[1;32m   1379\u001b[0m                 \u001b[0;34mf\"{len(self._rows)}\"\u001b[0m\u001b[0;34m\u001b[0m\u001b[0;34m\u001b[0m\u001b[0m\n\u001b[1;32m   1380\u001b[0m             )\n",
            "\u001b[0;31mException\u001b[0m: Column length 0 does not match number of rows 1"
          ]
        }
      ]
    },
    {
      "cell_type": "code",
      "metadata": {
        "id": "6pyxnzDzn9EP"
      },
      "source": [
        "#list in img_feature column are in form of string, converting them to list\n",
        "org_data['img_feature'] = org_data['img_feature'].apply(literal_eval)"
      ],
      "execution_count": null,
      "outputs": []
    },
    {
      "cell_type": "code",
      "metadata": {
        "id": "Kcx49aptq5ES"
      },
      "source": [
        "#now combining all elements of list as one string\n",
        "org_data['img_feature'] = org_data['img_feature'].apply(lambda x: ' '.join(map(str, x)))"
      ],
      "execution_count": null,
      "outputs": []
    },
    {
      "cell_type": "code",
      "metadata": {
        "id": "hyT1cnWlq5H5"
      },
      "source": [
        "#storing all the 30 words so that we can use them during bag of words creation\n",
        "vocab_word = []\n",
        "#vocab_word.extend(list(most_pop_objcts))\n",
        "vocab_word.extend(list(least_pop_objcts))\n",
        "vocab_word.extend(list(common_objs))"
      ],
      "execution_count": null,
      "outputs": []
    },
    {
      "cell_type": "code",
      "metadata": {
        "id": "xImEaKP6rVUC"
      },
      "source": [
        "#using countvectorizer to create bag of words\n",
        "from sklearn.feature_extraction.text import CountVectorizer"
      ],
      "execution_count": null,
      "outputs": []
    },
    {
      "cell_type": "code",
      "metadata": {
        "id": "XmrqjvhyrVar"
      },
      "source": [
        "Countvector = CountVectorizer(vocabulary=vocab_word)"
      ],
      "execution_count": null,
      "outputs": []
    },
    {
      "cell_type": "code",
      "metadata": {
        "id": "8L5eWVztrVeM"
      },
      "source": [
        "image_fea_vector = Countvector.fit_transform(org_data['img_feature'])"
      ],
      "execution_count": null,
      "outputs": []
    },
    {
      "cell_type": "code",
      "metadata": {
        "id": "9uRgSfonq5LR"
      },
      "source": [
        "image_fea_vector = pd.DataFrame(image_fea_vector.toarray(),columns=Countvector.get_feature_names())"
      ],
      "execution_count": null,
      "outputs": []
    },
    {
      "cell_type": "code",
      "metadata": {
        "id": "to3Uff9hYu2T"
      },
      "source": [
        "#joining all bag of word features to original dataset\n",
        "org_data = org_data.reset_index().join(image_fea_vector)"
      ],
      "execution_count": null,
      "outputs": []
    },
    {
      "cell_type": "code",
      "metadata": {
        "id": "__c4a-49Yu5K"
      },
      "source": [
        "org_data.drop(['index','img_feature'], axis=1, inplace=True)"
      ],
      "execution_count": null,
      "outputs": []
    },
    {
      "cell_type": "code",
      "metadata": {
        "id": "Lhel_XYEYu8F"
      },
      "source": [
        "#saving the dataset\n",
        "org_data.to_csv('test_df_clean.csv', index=False)"
      ],
      "execution_count": null,
      "outputs": []
    },
    {
      "cell_type": "code",
      "metadata": {
        "id": "hOUqax7RSxJy"
      },
      "source": [
        "org_data = pd.read_csv('/content/drive/MyDrive/CS 2/test data/test_df_clean.csv')"
      ],
      "execution_count": null,
      "outputs": []
    },
    {
      "cell_type": "code",
      "metadata": {
        "colab": {
          "base_uri": "https://localhost:8080/"
        },
        "id": "BTe286zDS0fx",
        "outputId": "332a1a9e-2db4-418f-800c-9038fa2fd6cf"
      },
      "source": [
        "org_data.shape"
      ],
      "execution_count": null,
      "outputs": [
        {
          "output_type": "execute_result",
          "data": {
            "text/plain": [
              "(2000, 15)"
            ]
          },
          "metadata": {},
          "execution_count": 116
        }
      ]
    },
    {
      "cell_type": "code",
      "metadata": {
        "id": "29XRoAL9TZhJ"
      },
      "source": [
        "org_data21 = pd.read_csv('/content/drive/MyDrive/CS 2/df_clean.csv')"
      ],
      "execution_count": null,
      "outputs": []
    },
    {
      "cell_type": "code",
      "metadata": {
        "colab": {
          "base_uri": "https://localhost:8080/"
        },
        "id": "bZvVoNsWThZw",
        "outputId": "5cce84bf-27d9-4ae0-bec6-5fba47887e9d"
      },
      "source": [
        "org_data21.shape"
      ],
      "execution_count": null,
      "outputs": [
        {
          "output_type": "execute_result",
          "data": {
            "text/plain": [
              "(12995, 37)"
            ]
          },
          "metadata": {},
          "execution_count": 119
        }
      ]
    }
  ]
}