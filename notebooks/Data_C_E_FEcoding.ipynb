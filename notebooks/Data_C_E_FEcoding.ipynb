{
 "cells": [
  {
   "cell_type": "code",
   "execution_count": 2,
   "metadata": {
    "colab": {
     "base_uri": "https://localhost:8080/"
    },
    "id": "z6cfbtOaLDwJ",
    "outputId": "5b539732-8d7d-4123-c40d-35b5e991761d"
   },
   "outputs": [
    {
     "name": "stdout",
     "output_type": "stream",
     "text": [
      "Mounted at /content/drive\n"
     ]
    }
   ],
   "source": [
    "from google.colab import drive\n",
    "drive.mount('/content/drive')"
   ]
  },
  {
   "cell_type": "markdown",
   "metadata": {
    "id": "2BHKAJ2XJaJN"
   },
   "source": []
  },
  {
   "cell_type": "markdown",
   "metadata": {
    "id": "-yKyIPasJaMY"
   },
   "source": [
    "INTRODUCTION\n"
   ]
  },
  {
   "cell_type": "code",
   "execution_count": 1,
   "metadata": {
    "id": "0xTMjurHJe2U"
   },
   "outputs": [],
   "source": [
    "#importing libraries\n",
    "import pandas as pd\n",
    "import numpy as np\n",
    "import datetime as date\n",
    "import requests\n",
    "import matplotlib.pyplot as plt\n",
    "from matplotlib import pyplot\n",
    "import seaborn as sns\n",
    "from tqdm import tqdm\n",
    "import warnings\n",
    "warnings.filterwarnings(\"ignore\")\n",
    "import multiprocessing\n",
    "from multiprocessing import  Pool"
   ]
  },
  {
   "cell_type": "markdown",
   "metadata": {
    "id": "DrOH37yEOrCX"
   },
   "source": [
    "## https://psaw.readthedocs.io/en/latest/"
   ]
  },
  {
   "cell_type": "code",
   "execution_count": null,
   "metadata": {
    "id": "G7dcndFlKjBK"
   },
   "outputs": [],
   "source": [
    "!pip install psaw"
   ]
  },
  {
   "cell_type": "code",
   "execution_count": null,
   "metadata": {
    "id": "6R0bQTa2KmgJ"
   },
   "outputs": [],
   "source": [
    "from psaw import PushshiftAPI"
   ]
  },
  {
   "cell_type": "code",
   "execution_count": null,
   "metadata": {
    "id": "Tv5TGnvAKmpI"
   },
   "outputs": [],
   "source": [
    "psaw_api = PushshiftAPI()"
   ]
  },
  {
   "cell_type": "code",
   "execution_count": null,
   "metadata": {
    "id": "M9D0H0dnKmsh"
   },
   "outputs": [],
   "source": [
    "date_start=int(date.datetime(2021,1,1).timestamp())\n",
    "date_end=int(date.datetime(2021,2,1).timestamp())"
   ]
  },
  {
   "cell_type": "code",
   "execution_count": null,
   "metadata": {
    "id": "0ja9XXvUKmuB"
   },
   "outputs": [],
   "source": [
    "list_of_subreddits = ['meme','memes','4PanelCringe','teenagers','dankmemes','PrequelMemes','HistoryMemes','funny']"
   ]
  },
  {
   "cell_type": "code",
   "execution_count": null,
   "metadata": {
    "id": "0VCUWLdLO-QD"
   },
   "outputs": [],
   "source": [
    "data_feature = pd.DataFrame(columns=['author','created_utc','is_original_content','is_video','num_comments',\n",
    "                                'over_18','subreddit','subreddit_subscribers','thumbnail','title','upvote_ratio', \n",
    "                                'url','thumbnail_height', 'thumbnail_width','score'])"
   ]
  },
  {
   "cell_type": "code",
   "execution_count": null,
   "metadata": {
    "id": "kKugeFktL6lv"
   },
   "outputs": [],
   "source": [
    "## https://psaw.readthedocs.io/en/latest/\n",
    "for i in list_of_subreddits:\n",
    "  request_api = psaw_api.search_submissions(subreddit = i,\n",
    "                                                 after = date_start,\n",
    "                                                 before = date_end,\n",
    "                                                 filter=['author','created_utc','is_original_content','is_video','num_comments','over_18',\n",
    "                                                         'subreddit','subreddit_subscribers','thumbnail','title','upvote_ratio', 'url',\n",
    "                                                         'thumbnail_height', 'thumbnail_width','score'],\n",
    "                                                 limit=35000)\n",
    "  data_collection = pd.DataFrame([submission.d_ for submission in request_api])\n",
    "  data_feature = pd.concat([data_feature, data_collection], ignore_index=True)"
   ]
  },
  {
   "cell_type": "code",
   "execution_count": null,
   "metadata": {
    "id": "ooMttyOqLgYA"
   },
   "outputs": [],
   "source": [
    "data_feature.to_csv('data.csv', index=False)"
   ]
  },
  {
   "cell_type": "code",
   "execution_count": null,
   "metadata": {
    "id": "oSfQEA6cSfAB"
   },
   "outputs": [],
   "source": [
    "df1 = pd.read_csv(\"/content/drive/MyDrive/CS 2/data.csv\")"
   ]
  },
  {
   "cell_type": "code",
   "execution_count": null,
   "metadata": {
    "colab": {
     "base_uri": "https://localhost:8080/"
    },
    "id": "A9VBu0mzSfDS",
    "outputId": "39652de9-597d-4715-9bfa-0b3a2a76870c"
   },
   "outputs": [
    {
     "data": {
      "text/plain": [
       "(209066, 16)"
      ]
     },
     "execution_count": 4,
     "metadata": {
      "tags": []
     },
     "output_type": "execute_result"
    }
   ],
   "source": [
    "df1.shape"
   ]
  },
  {
   "cell_type": "code",
   "execution_count": null,
   "metadata": {
    "id": "WBUvP60TXF_f"
   },
   "outputs": [],
   "source": [
    "img_data= df1[df1['url'].str.endswith(('jpg','png','jpeg'))]"
   ]
  },
  {
   "cell_type": "code",
   "execution_count": null,
   "metadata": {
    "colab": {
     "base_uri": "https://localhost:8080/"
    },
    "id": "7wkXUCShXGCV",
    "outputId": "e102f665-d161-4cf2-843a-66994a96d165"
   },
   "outputs": [
    {
     "data": {
      "text/plain": [
       "(150588, 16)"
      ]
     },
     "execution_count": 7,
     "metadata": {
      "tags": []
     },
     "output_type": "execute_result"
    }
   ],
   "source": [
    "img_data.shape"
   ]
  },
  {
   "cell_type": "code",
   "execution_count": null,
   "metadata": {
    "id": "-syxDPtSXR27"
   },
   "outputs": [],
   "source": [
    "img_data = img_data[img_data['url'].str.startswith(('https'))]"
   ]
  },
  {
   "cell_type": "code",
   "execution_count": null,
   "metadata": {
    "colab": {
     "base_uri": "https://localhost:8080/"
    },
    "id": "0uOD_W0JXh2V",
    "outputId": "62bc1a91-4bd2-497f-c87f-fcca318bdf36"
   },
   "outputs": [
    {
     "data": {
      "text/plain": [
       "(150588, 16)"
      ]
     },
     "execution_count": 9,
     "metadata": {
      "tags": []
     },
     "output_type": "execute_result"
    }
   ],
   "source": [
    "img_data.shape"
   ]
  },
  {
   "cell_type": "code",
   "execution_count": null,
   "metadata": {
    "id": "OIPU-7omXkrF"
   },
   "outputs": [],
   "source": [
    "import multiprocessing\n",
    "from multiprocessing import  Pool"
   ]
  },
  {
   "cell_type": "code",
   "execution_count": null,
   "metadata": {
    "id": "dEL3EyVQX0f1"
   },
   "outputs": [],
   "source": [
    "## Reference : https://medium.com/@nnamdi.okafor/using-python-to-check-status-codes-ef0133fe16d4\n",
    "## https://stackoverflow.com/questions/1140661/what-s-the-best-way-to-get-an-http-response-code-from-a-url"
   ]
  },
  {
   "cell_type": "code",
   "execution_count": null,
   "metadata": {
    "id": "CPTkKzL4XsIv"
   },
   "outputs": [],
   "source": [
    "#Getting status code of each URLs. If status code is 200 then url is working otherwise not\n",
    "def st_code(urls):\n",
    "  code_of_url = []\n",
    "  for k in tqdm(urls, position=0):\n",
    "    try: \n",
    "      code_of_url.append(requests.get(k).status_code)\n",
    "    except:\n",
    "      code_of_url.append('error')\n",
    "  return pd.DataFrame(code_of_url)"
   ]
  },
  {
   "cell_type": "code",
   "execution_count": null,
   "metadata": {
    "id": "PJ4E0XcbXsM8"
   },
   "outputs": [],
   "source": [
    "#Reference : https://towardsdatascience.com/make-your-own-super-pandas-using-multiproc-1c04f41944a1\n",
    "def data_parallelism(urls, function, n_cores=4):\n",
    "    split_data = np.array_split(urls, n_cores)\n",
    "    pool = Pool(n_cores)\n",
    "    code_of_url = pd.concat(pool.map(function, split_data), ignore_index=True)\n",
    "    pool.close()\n",
    "    pool.join()\n",
    "    return code_of_url"
   ]
  },
  {
   "cell_type": "code",
   "execution_count": null,
   "metadata": {
    "id": "KFmg-rxYXsPz"
   },
   "outputs": [],
   "source": [
    "code_of_url=data_parallelism(img_data['url'],st_code)"
   ]
  },
  {
   "cell_type": "code",
   "execution_count": null,
   "metadata": {
    "id": "tJrN5Qn2Z3I1"
   },
   "outputs": [],
   "source": [
    "img_data['st_code'] = 0"
   ]
  },
  {
   "cell_type": "code",
   "execution_count": null,
   "metadata": {
    "id": "SfYltFf2Z77J"
   },
   "outputs": [],
   "source": [
    "img_data['st_code'] = code_of_url[0]"
   ]
  },
  {
   "cell_type": "code",
   "execution_count": null,
   "metadata": {
    "id": "bD4XpF_cZ792"
   },
   "outputs": [],
   "source": [
    "#removing all data whose status code is not 200\n",
    "img_data = img_data[img_data['st_code']==200]"
   ]
  },
  {
   "cell_type": "code",
   "execution_count": null,
   "metadata": {
    "id": "utaq_qPfZ8Bh"
   },
   "outputs": [],
   "source": [
    "img_data.shape"
   ]
  },
  {
   "cell_type": "code",
   "execution_count": null,
   "metadata": {
    "id": "JkrSmCOld0if"
   },
   "outputs": [],
   "source": [
    "img_data.drop(['created','st_code','thumbnail','author'], axis=1,inplace=True)"
   ]
  },
  {
   "cell_type": "code",
   "execution_count": null,
   "metadata": {
    "id": "_-WvGxN1d0lt"
   },
   "outputs": [],
   "source": [
    "img_data.to_csv('final_data.csv')"
   ]
  },
  {
   "cell_type": "code",
   "execution_count": null,
   "metadata": {
    "id": "hZmH0PZceD29"
   },
   "outputs": [],
   "source": [
    "final_data= pd.read_csv('/content/drive/MyDrive/CS 2/final_data.csv')"
   ]
  },
  {
   "cell_type": "code",
   "execution_count": null,
   "metadata": {
    "colab": {
     "base_uri": "https://localhost:8080/"
    },
    "id": "vU0zO0GNM7TN",
    "outputId": "32ce2804-3c49-45eb-b11f-91bda5dd1680"
   },
   "outputs": [
    {
     "data": {
      "text/plain": [
       "(77373, 14)"
      ]
     },
     "execution_count": 7,
     "metadata": {
      "tags": []
     },
     "output_type": "execute_result"
    }
   ],
   "source": [
    "final_data.shape"
   ]
  },
  {
   "cell_type": "markdown",
   "metadata": {
    "id": "ie07g1oBNe7S"
   },
   "source": [
    "Applying Sentiment score"
   ]
  },
  {
   "cell_type": "code",
   "execution_count": null,
   "metadata": {
    "id": "N2enea29Ni8o"
   },
   "outputs": [],
   "source": [
    "## https://medium.com/analytics-vidhya/sentiment-analysis-for-text-with-deep-learning-2f0a0c6472b5"
   ]
  },
  {
   "cell_type": "code",
   "execution_count": null,
   "metadata": {
    "colab": {
     "base_uri": "https://localhost:8080/"
    },
    "id": "Dy77sZuyRQRL",
    "outputId": "2bc52acd-40a7-4e3d-a9d3-03f877bb4d52"
   },
   "outputs": [
    {
     "name": "stdout",
     "output_type": "stream",
     "text": [
      "WARNING:tensorflow:Layer lstm_1 will not use cuDNN kernels since it doesn't meet the criteria. It will use a generic GPU kernel as fallback when running on GPU.\n",
      "WARNING:tensorflow:Layer lstm_1 will not use cuDNN kernels since it doesn't meet the criteria. It will use a generic GPU kernel as fallback when running on GPU.\n",
      "WARNING:tensorflow:Layer lstm_1 will not use cuDNN kernels since it doesn't meet the criteria. It will use a generic GPU kernel as fallback when running on GPU.\n"
     ]
    }
   ],
   "source": [
    "from tensorflow import keras\n",
    "import json\n",
    "from nltk.tokenize import RegexpTokenizer\n",
    "\n",
    "#loading pre trained model and word index\n",
    "LSTM_model = keras.models.load_model('/content/drive/MyDrive/CS 2/best_model.hdf5')\n",
    "index_wrd = json.load(open(\"/content/drive/MyDrive/CS 2/word_idx.txt\"))"
   ]
  },
  {
   "cell_type": "code",
   "execution_count": null,
   "metadata": {
    "id": "ACPGHDlULuNp"
   },
   "outputs": [],
   "source": [
    "#function to compute sentiment score\n",
    "def sentiment_score(LSTM_model, txt_data, index_wrd):\n",
    "\n",
    "    list_txt = []\n",
    "    pad_seq = len(txt_data)\n",
    "    pad_len = np.zeros((56,pad_seq))\n",
    "\n",
    "    dict_txt = [isinstance(item, (str, bytes)) for item in txt_data['title']]\n",
    "    txt_data = txt_data.loc[dict_txt]\n",
    "\n",
    "    for i, j in txt_data.iterrows():\n",
    "        \n",
    "\n",
    "        txt_col = txt_data['title'][i]\n",
    "        \n",
    "        # split the sentence into its words and remove any punctuations.\n",
    "        tokenzz = RegexpTokenizer(r'\\w+')\n",
    "        list_txt_data = tokenzz.tokenize(txt_col)\n",
    "        if len(list_txt_data)>56:\n",
    "          list_txt_data = list_txt_data[:56]\n",
    "          points = np.array(['1','2','3','4','5','6','7','8','9','10'], dtype = \"int\")\n",
    "        \n",
    "        # get index for the live stage\n",
    "        ind_data = np.array([index_wrd[word.lower()] if word.lower() in index_wrd else 0 for word in list_txt_data])\n",
    "        ind_data_ = np.array(ind_data)\n",
    "\n",
    "        # padded with zeros of length 56 i.e maximum length\n",
    "        pad_arr = np.zeros(56)\n",
    "        pad_arr[:ind_data_.shape[0]] = ind_data_\n",
    "        data_pad = pad_arr.astype(int)\n",
    "\n",
    "        list_txt.append(data_pad)\n",
    "\n",
    "    pad_len = np.asarray(list_txt)\n",
    "    sent_score = LSTM_model.predict(pad_len, batch_size=64, verbose=0)\n",
    "    sent_score1 = np.round(np.dot(sent_score, points)/10,decimals=2)\n",
    "    sent_score2  = []\n",
    "    for i in sent_score:\n",
    "\n",
    "        three_top_idx = np.argsort(i)[-3:]\n",
    "        three_top_scores = i[three_top_idx]\n",
    "        three_top_wgts = three_top_scores/np.sum(three_top_scores)\n",
    "        dot_prod = np.round(np.dot(three_top_idx, three_top_wgts)/10, decimals = 2)\n",
    "        sent_score2.append(dot_prod)\n",
    "\n",
    "    txt_data['Sentiment_Score'] = pd.DataFrame(sent_score2)\n",
    "\n",
    "    return txt_data"
   ]
  },
  {
   "cell_type": "code",
   "execution_count": null,
   "metadata": {
    "id": "NjRur1_dLuQs"
   },
   "outputs": [],
   "source": [
    "org_data = sentiment_score(LSTM_model, org_data, index_wrd)"
   ]
  },
  {
   "cell_type": "code",
   "execution_count": null,
   "metadata": {
    "id": "Zdjpq-9x8VfF"
   },
   "outputs": [],
   "source": [
    "org_data= pd.read_csv('/content/drive/MyDrive/CS 2/org_data.csv')"
   ]
  },
  {
   "cell_type": "code",
   "execution_count": null,
   "metadata": {
    "colab": {
     "base_uri": "https://localhost:8080/"
    },
    "id": "9G9tHNaxSh_W",
    "outputId": "18562865-7851-4faf-f9a7-9a4ff16d0a84"
   },
   "outputs": [
    {
     "data": {
      "text/plain": [
       "(77373, 16)"
      ]
     },
     "execution_count": 5,
     "metadata": {
      "tags": []
     },
     "output_type": "execute_result"
    }
   ],
   "source": [
    "org_data.shape"
   ]
  },
  {
   "cell_type": "code",
   "execution_count": null,
   "metadata": {
    "colab": {
     "base_uri": "https://localhost:8080/",
     "height": 411
    },
    "id": "xOPKZjP78dI-",
    "outputId": "87fe2fd7-01f9-489c-877e-96896218f559"
   },
   "outputs": [
    {
     "data": {
      "text/html": [
       "<div>\n",
       "<style scoped>\n",
       "    .dataframe tbody tr th:only-of-type {\n",
       "        vertical-align: middle;\n",
       "    }\n",
       "\n",
       "    .dataframe tbody tr th {\n",
       "        vertical-align: top;\n",
       "    }\n",
       "\n",
       "    .dataframe thead th {\n",
       "        text-align: right;\n",
       "    }\n",
       "</style>\n",
       "<table border=\"1\" class=\"dataframe\">\n",
       "  <thead>\n",
       "    <tr style=\"text-align: right;\">\n",
       "      <th></th>\n",
       "      <th>Unnamed: 0</th>\n",
       "      <th>Unnamed: 0.1</th>\n",
       "      <th>created_utc</th>\n",
       "      <th>is_original_content</th>\n",
       "      <th>is_video</th>\n",
       "      <th>num_comments</th>\n",
       "      <th>over_18</th>\n",
       "      <th>subreddit</th>\n",
       "      <th>subreddit_subscribers</th>\n",
       "      <th>title</th>\n",
       "      <th>upvote_ratio</th>\n",
       "      <th>url</th>\n",
       "      <th>thumbnail_height</th>\n",
       "      <th>thumbnail_width</th>\n",
       "      <th>score</th>\n",
       "      <th>Sentiment_Score</th>\n",
       "    </tr>\n",
       "  </thead>\n",
       "  <tbody>\n",
       "    <tr>\n",
       "      <th>0</th>\n",
       "      <td>0</td>\n",
       "      <td>1</td>\n",
       "      <td>1612137510</td>\n",
       "      <td>False</td>\n",
       "      <td>False</td>\n",
       "      <td>4</td>\n",
       "      <td>False</td>\n",
       "      <td>meme</td>\n",
       "      <td>1407214</td>\n",
       "      <td>*Insert Random Pop Country Song*</td>\n",
       "      <td>0.90</td>\n",
       "      <td>https://i.redd.it/movwf3yzare61.jpg</td>\n",
       "      <td>136.0</td>\n",
       "      <td>140.0</td>\n",
       "      <td>26</td>\n",
       "      <td>0.43</td>\n",
       "    </tr>\n",
       "    <tr>\n",
       "      <th>1</th>\n",
       "      <td>1</td>\n",
       "      <td>2</td>\n",
       "      <td>1612137405</td>\n",
       "      <td>False</td>\n",
       "      <td>False</td>\n",
       "      <td>8</td>\n",
       "      <td>False</td>\n",
       "      <td>meme</td>\n",
       "      <td>1407215</td>\n",
       "      <td>Finally, not a GameStop meme!</td>\n",
       "      <td>0.94</td>\n",
       "      <td>https://i.redd.it/7w63tapoare61.jpg</td>\n",
       "      <td>140.0</td>\n",
       "      <td>140.0</td>\n",
       "      <td>59</td>\n",
       "      <td>0.29</td>\n",
       "    </tr>\n",
       "    <tr>\n",
       "      <th>2</th>\n",
       "      <td>2</td>\n",
       "      <td>4</td>\n",
       "      <td>1612137318</td>\n",
       "      <td>False</td>\n",
       "      <td>False</td>\n",
       "      <td>2</td>\n",
       "      <td>False</td>\n",
       "      <td>meme</td>\n",
       "      <td>1407214</td>\n",
       "      <td>An interesting title</td>\n",
       "      <td>1.00</td>\n",
       "      <td>https://i.redd.it/hfo1at5fare61.png</td>\n",
       "      <td>140.0</td>\n",
       "      <td>140.0</td>\n",
       "      <td>1</td>\n",
       "      <td>0.63</td>\n",
       "    </tr>\n",
       "    <tr>\n",
       "      <th>3</th>\n",
       "      <td>3</td>\n",
       "      <td>6</td>\n",
       "      <td>1612137114</td>\n",
       "      <td>False</td>\n",
       "      <td>False</td>\n",
       "      <td>4</td>\n",
       "      <td>False</td>\n",
       "      <td>meme</td>\n",
       "      <td>1407211</td>\n",
       "      <td>Tomorrow $GME</td>\n",
       "      <td>0.89</td>\n",
       "      <td>https://i.redd.it/wly8hf7t9re61.jpg</td>\n",
       "      <td>98.0</td>\n",
       "      <td>140.0</td>\n",
       "      <td>18</td>\n",
       "      <td>0.49</td>\n",
       "    </tr>\n",
       "    <tr>\n",
       "      <th>4</th>\n",
       "      <td>4</td>\n",
       "      <td>11</td>\n",
       "      <td>1612136810</td>\n",
       "      <td>False</td>\n",
       "      <td>False</td>\n",
       "      <td>4</td>\n",
       "      <td>False</td>\n",
       "      <td>meme</td>\n",
       "      <td>1407210</td>\n",
       "      <td>Meme</td>\n",
       "      <td>1.00</td>\n",
       "      <td>https://i.redd.it/5izqa5vw8re61.png</td>\n",
       "      <td>140.0</td>\n",
       "      <td>140.0</td>\n",
       "      <td>1</td>\n",
       "      <td>0.50</td>\n",
       "    </tr>\n",
       "  </tbody>\n",
       "</table>\n",
       "</div>"
      ],
      "text/plain": [
       "   Unnamed: 0  Unnamed: 0.1  ...  score  Sentiment_Score\n",
       "0           0             1  ...     26             0.43\n",
       "1           1             2  ...     59             0.29\n",
       "2           2             4  ...      1             0.63\n",
       "3           3             6  ...     18             0.49\n",
       "4           4            11  ...      1             0.50\n",
       "\n",
       "[5 rows x 16 columns]"
      ]
     },
     "execution_count": 5,
     "metadata": {
      "tags": []
     },
     "output_type": "execute_result"
    }
   ],
   "source": [
    "org_data.head()"
   ]
  },
  {
   "cell_type": "markdown",
   "metadata": {
    "id": "0GSDv4b4SlNU"
   },
   "source": [
    "Extracting text using OCR"
   ]
  },
  {
   "cell_type": "code",
   "execution_count": null,
   "metadata": {
    "colab": {
     "base_uri": "https://localhost:8080/"
    },
    "id": "uLSViBWoSo_s",
    "outputId": "42960498-9ca8-4467-acd8-a9e858f2dda4"
   },
   "outputs": [
    {
     "name": "stdout",
     "output_type": "stream",
     "text": [
      "Collecting pytesseract\n",
      "  Downloading pytesseract-0.3.8.tar.gz (14 kB)\n",
      "Requirement already satisfied: Pillow in /usr/local/lib/python3.7/dist-packages (from pytesseract) (7.1.2)\n",
      "Building wheels for collected packages: pytesseract\n",
      "  Building wheel for pytesseract (setup.py) ... \u001b[?25l\u001b[?25hdone\n",
      "  Created wheel for pytesseract: filename=pytesseract-0.3.8-py2.py3-none-any.whl size=14071 sha256=b39ffb0cf1179c137cc2fc228c37e55b0c9079c720aac3223c2d5409838935fb\n",
      "  Stored in directory: /root/.cache/pip/wheels/a4/89/b9/3f11250225d0f90e5454fcc30fd1b7208db226850715aa9ace\n",
      "Successfully built pytesseract\n",
      "Installing collected packages: pytesseract\n",
      "Successfully installed pytesseract-0.3.8\n"
     ]
    }
   ],
   "source": [
    "#installing pytesseract\n",
    "!pip install pytesseract"
   ]
  },
  {
   "cell_type": "code",
   "execution_count": null,
   "metadata": {
    "colab": {
     "base_uri": "https://localhost:8080/"
    },
    "id": "uLvPWV6kUA7v",
    "outputId": "3fbf0922-24c1-4016-8cc8-aae4fd9441cc"
   },
   "outputs": [
    {
     "name": "stdout",
     "output_type": "stream",
     "text": [
      "Reading package lists... Done\n",
      "Building dependency tree       \n",
      "Reading state information... Done\n",
      "The following additional packages will be installed:\n",
      "  tesseract-ocr-eng tesseract-ocr-osd\n",
      "The following NEW packages will be installed:\n",
      "  tesseract-ocr tesseract-ocr-eng tesseract-ocr-osd\n",
      "0 upgraded, 3 newly installed, 0 to remove and 40 not upgraded.\n",
      "Need to get 4,795 kB of archives.\n",
      "After this operation, 15.8 MB of additional disk space will be used.\n",
      "Get:1 http://archive.ubuntu.com/ubuntu bionic/universe amd64 tesseract-ocr-eng all 4.00~git24-0e00fe6-1.2 [1,588 kB]\n",
      "Get:2 http://archive.ubuntu.com/ubuntu bionic/universe amd64 tesseract-ocr-osd all 4.00~git24-0e00fe6-1.2 [2,989 kB]\n",
      "Get:3 http://archive.ubuntu.com/ubuntu bionic/universe amd64 tesseract-ocr amd64 4.00~git2288-10f4998a-2 [218 kB]\n",
      "Fetched 4,795 kB in 0s (29.8 MB/s)\n",
      "debconf: unable to initialize frontend: Dialog\n",
      "debconf: (No usable dialog-like program is installed, so the dialog based frontend cannot be used. at /usr/share/perl5/Debconf/FrontEnd/Dialog.pm line 76, <> line 3.)\n",
      "debconf: falling back to frontend: Readline\n",
      "debconf: unable to initialize frontend: Readline\n",
      "debconf: (This frontend requires a controlling tty.)\n",
      "debconf: falling back to frontend: Teletype\n",
      "dpkg-preconfigure: unable to re-open stdin: \n",
      "Selecting previously unselected package tesseract-ocr-eng.\n",
      "(Reading database ... 160837 files and directories currently installed.)\n",
      "Preparing to unpack .../tesseract-ocr-eng_4.00~git24-0e00fe6-1.2_all.deb ...\n",
      "Unpacking tesseract-ocr-eng (4.00~git24-0e00fe6-1.2) ...\n",
      "Selecting previously unselected package tesseract-ocr-osd.\n",
      "Preparing to unpack .../tesseract-ocr-osd_4.00~git24-0e00fe6-1.2_all.deb ...\n",
      "Unpacking tesseract-ocr-osd (4.00~git24-0e00fe6-1.2) ...\n",
      "Selecting previously unselected package tesseract-ocr.\n",
      "Preparing to unpack .../tesseract-ocr_4.00~git2288-10f4998a-2_amd64.deb ...\n",
      "Unpacking tesseract-ocr (4.00~git2288-10f4998a-2) ...\n",
      "Setting up tesseract-ocr-osd (4.00~git24-0e00fe6-1.2) ...\n",
      "Setting up tesseract-ocr-eng (4.00~git24-0e00fe6-1.2) ...\n",
      "Setting up tesseract-ocr (4.00~git2288-10f4998a-2) ...\n",
      "Processing triggers for man-db (2.8.3-2ubuntu0.1) ...\n"
     ]
    }
   ],
   "source": [
    "!sudo apt install tesseract-ocr"
   ]
  },
  {
   "cell_type": "code",
   "execution_count": null,
   "metadata": {
    "id": "zJjpv_-4UEGp"
   },
   "outputs": [],
   "source": [
    "#importing libraries\n",
    "import cv2 \n",
    "import pytesseract\n",
    "from skimage import io\n",
    "from google.colab.patches import cv2_imshow"
   ]
  },
  {
   "cell_type": "code",
   "execution_count": null,
   "metadata": {
    "id": "iGxEIvK-VWSU"
   },
   "outputs": [],
   "source": [
    "pytesseract.pytesseract.tesseract_cmd = r'/usr/bin/tesseract'"
   ]
  },
  {
   "cell_type": "code",
   "execution_count": null,
   "metadata": {
    "id": "46N_yiCn8yKH"
   },
   "outputs": [],
   "source": [
    "org_data1=org_data.sample(n=13000,random_state=1,replace=False)"
   ]
  },
  {
   "cell_type": "code",
   "execution_count": null,
   "metadata": {
    "colab": {
     "base_uri": "https://localhost:8080/"
    },
    "id": "IA4uFMbPAY6H",
    "outputId": "060c606e-7f6e-4b98-cfb4-6123caa7cb5b"
   },
   "outputs": [
    {
     "data": {
      "text/plain": [
       "(13000, 16)"
      ]
     },
     "execution_count": 11,
     "metadata": {
      "tags": []
     },
     "output_type": "execute_result"
    }
   ],
   "source": [
    "org_data1.shape"
   ]
  },
  {
   "cell_type": "code",
   "execution_count": null,
   "metadata": {
    "id": "8lsD4KliVnm2"
   },
   "outputs": [],
   "source": [
    "\"\"\"\n",
    "This function will extract text from image. It takes url of image as input and\n",
    "extracts text from image using pytesseract.\n",
    "\"\"\"\n",
    "def txt_extraction(urls):\n",
    "  try:\n",
    "    image = io.imread(urls)\n",
    "    image = cv2.cvtColor(image, cv2.COLOR_BGR2GRAY)\n",
    "    _, image = cv2.threshold(image, 127, 255, cv2.THRESH_BINARY) \n",
    "    alpha_To_extract = r\"--oem 3 --psm 11 -c tessedit_char_whitelist= 'ABCDEFGHIJKLMNOPQRSTUVWXYZ '\"\n",
    "    txt_data = pytesseract.image_to_string(image, lang='eng', config=alpha_To_extract)\n",
    "    return txt_data.replace('\\n', ' ')\n",
    "  except:\n",
    "    return \" \""
   ]
  },
  {
   "cell_type": "code",
   "execution_count": null,
   "metadata": {
    "id": "iPoqy4MkaLkQ"
   },
   "outputs": [],
   "source": [
    "def txt(org_data1):\n",
    "  tqdm.pandas(position=0)\n",
    "  img_txt = org_data1.progress_apply(txt_extraction)\n",
    "  return img_txt"
   ]
  },
  {
   "cell_type": "code",
   "execution_count": null,
   "metadata": {
    "id": "vHkK8M4Tbs9M"
   },
   "outputs": [],
   "source": [
    "#This function will help to parallelize our process\n",
    "def data_parallelism(urls, function, n_cores=4):\n",
    "    txt_split = np.array_split(urls, n_cores)\n",
    "    pool = Pool(n_cores)\n",
    "    img_txt = pd.concat(pool.map(function, txt_split))\n",
    "    pool.close()\n",
    "    pool.join()\n",
    "    return img_txt "
   ]
  },
  {
   "cell_type": "code",
   "execution_count": null,
   "metadata": {
    "id": "joK4x96hFDAg"
   },
   "outputs": [],
   "source": [
    "org_data1['img_txt']=0"
   ]
  },
  {
   "cell_type": "code",
   "execution_count": null,
   "metadata": {
    "colab": {
     "base_uri": "https://localhost:8080/"
    },
    "id": "Ou5tU1fNb72u",
    "outputId": "be4720ff-b273-478c-f981-a66ed3abc0ba"
   },
   "outputs": [
    {
     "name": "stderr",
     "output_type": "stream",
     "text": [
      "100%|██████████| 3250/3250 [1:36:25<00:00,  1.78s/it]\n",
      "100%|██████████| 3250/3250 [1:37:37<00:00,  1.80s/it]\n",
      "100%|██████████| 3250/3250 [1:42:37<00:00,  1.89s/it]\n",
      "100%|██████████| 3250/3250 [2:23:15<00:00,  2.64s/it]\n"
     ]
    }
   ],
   "source": [
    "org_data1['img_txt'] = data_parallelism(org_data1['url'], txt)"
   ]
  },
  {
   "cell_type": "code",
   "execution_count": null,
   "metadata": {
    "id": "xPKoOrDFVnrS"
   },
   "outputs": [],
   "source": [
    "#Saving the dataset because these processes takes time, so that I don't have to do that in future\n",
    "org_data1.to_csv(\"img_txt_data.csv\")"
   ]
  },
  {
   "cell_type": "code",
   "execution_count": null,
   "metadata": {
    "id": "hfYVVJpTWg1I"
   },
   "outputs": [],
   "source": [
    "org_data = pd.read_csv('/content/drive/MyDrive/CS 2/img_txt_data.csv')"
   ]
  },
  {
   "cell_type": "code",
   "execution_count": null,
   "metadata": {
    "colab": {
     "base_uri": "https://localhost:8080/"
    },
    "id": "p1N27ract3Qr",
    "outputId": "c2186063-d6a3-47ca-f434-76c7f1f60163"
   },
   "outputs": [
    {
     "data": {
      "text/plain": [
       "(13000, 18)"
      ]
     },
     "execution_count": 5,
     "metadata": {},
     "output_type": "execute_result"
    }
   ],
   "source": [
    "org_data.shape"
   ]
  },
  {
   "cell_type": "code",
   "execution_count": null,
   "metadata": {
    "id": "sXi-2nIlWg9A"
   },
   "outputs": [],
   "source": [
    "#combining all text columns to one column and dropping the columns which are being combined\n",
    "org_data['text'] = org_data['title']+org_data['img_txt']\n",
    "org_data.drop(['title','img_txt'], axis=1, inplace=True)"
   ]
  },
  {
   "cell_type": "code",
   "execution_count": null,
   "metadata": {
    "colab": {
     "base_uri": "https://localhost:8080/",
     "height": 480
    },
    "id": "W5yF6ZZCW4GO",
    "outputId": "383b8a31-a1ef-4679-a5d4-2e8167effca7"
   },
   "outputs": [
    {
     "data": {
      "text/html": [
       "<div>\n",
       "<style scoped>\n",
       "    .dataframe tbody tr th:only-of-type {\n",
       "        vertical-align: middle;\n",
       "    }\n",
       "\n",
       "    .dataframe tbody tr th {\n",
       "        vertical-align: top;\n",
       "    }\n",
       "\n",
       "    .dataframe thead th {\n",
       "        text-align: right;\n",
       "    }\n",
       "</style>\n",
       "<table border=\"1\" class=\"dataframe\">\n",
       "  <thead>\n",
       "    <tr style=\"text-align: right;\">\n",
       "      <th></th>\n",
       "      <th>Unnamed: 0</th>\n",
       "      <th>Unnamed: 0.1</th>\n",
       "      <th>Unnamed: 0.1.1</th>\n",
       "      <th>created_utc</th>\n",
       "      <th>is_original_content</th>\n",
       "      <th>is_video</th>\n",
       "      <th>num_comments</th>\n",
       "      <th>over_18</th>\n",
       "      <th>subreddit</th>\n",
       "      <th>subreddit_subscribers</th>\n",
       "      <th>upvote_ratio</th>\n",
       "      <th>url</th>\n",
       "      <th>thumbnail_height</th>\n",
       "      <th>thumbnail_width</th>\n",
       "      <th>score</th>\n",
       "      <th>Sentiment_Score</th>\n",
       "      <th>text</th>\n",
       "    </tr>\n",
       "  </thead>\n",
       "  <tbody>\n",
       "    <tr>\n",
       "      <th>0</th>\n",
       "      <td>2081</td>\n",
       "      <td>2081</td>\n",
       "      <td>3155</td>\n",
       "      <td>1611906658</td>\n",
       "      <td>False</td>\n",
       "      <td>False</td>\n",
       "      <td>4</td>\n",
       "      <td>False</td>\n",
       "      <td>meme</td>\n",
       "      <td>1396025</td>\n",
       "      <td>1.0</td>\n",
       "      <td>https://i.redd.it/wprmv4yj88e61.jpg</td>\n",
       "      <td>140.0</td>\n",
       "      <td>140.0</td>\n",
       "      <td>1</td>\n",
       "      <td>0.48</td>\n",
       "      <td>Hold or whatever</td>\n",
       "    </tr>\n",
       "    <tr>\n",
       "      <th>1</th>\n",
       "      <td>65458</td>\n",
       "      <td>65458</td>\n",
       "      <td>130121</td>\n",
       "      <td>1611250310</td>\n",
       "      <td>False</td>\n",
       "      <td>False</td>\n",
       "      <td>4</td>\n",
       "      <td>False</td>\n",
       "      <td>dankmemes</td>\n",
       "      <td>4363172</td>\n",
       "      <td>1.0</td>\n",
       "      <td>https://i.redd.it/tc4jtlaw0qc61.jpg</td>\n",
       "      <td>140.0</td>\n",
       "      <td>140.0</td>\n",
       "      <td>1</td>\n",
       "      <td>0.50</td>\n",
       "      <td>Who knew it was so easy?</td>\n",
       "    </tr>\n",
       "    <tr>\n",
       "      <th>2</th>\n",
       "      <td>33846</td>\n",
       "      <td>33846</td>\n",
       "      <td>52341</td>\n",
       "      <td>1611955374</td>\n",
       "      <td>False</td>\n",
       "      <td>False</td>\n",
       "      <td>2</td>\n",
       "      <td>False</td>\n",
       "      <td>memes</td>\n",
       "      <td>14613900</td>\n",
       "      <td>1.0</td>\n",
       "      <td>https://i.redd.it/qg9v80we9ce61.jpg</td>\n",
       "      <td>140.0</td>\n",
       "      <td>140.0</td>\n",
       "      <td>1</td>\n",
       "      <td>0.50</td>\n",
       "      <td>Here take a chocy milk calm yourselfon  oy  a ...</td>\n",
       "    </tr>\n",
       "    <tr>\n",
       "      <th>3</th>\n",
       "      <td>28979</td>\n",
       "      <td>28979</td>\n",
       "      <td>44404</td>\n",
       "      <td>1612035275</td>\n",
       "      <td>False</td>\n",
       "      <td>False</td>\n",
       "      <td>1</td>\n",
       "      <td>False</td>\n",
       "      <td>memes</td>\n",
       "      <td>14629522</td>\n",
       "      <td>1.0</td>\n",
       "      <td>https://i.redd.it/j6tryx10vie61.jpg</td>\n",
       "      <td>131.0</td>\n",
       "      <td>140.0</td>\n",
       "      <td>1</td>\n",
       "      <td>0.10</td>\n",
       "      <td>Haha billionaires badRedditors massively joini...</td>\n",
       "    </tr>\n",
       "    <tr>\n",
       "      <th>4</th>\n",
       "      <td>37316</td>\n",
       "      <td>37316</td>\n",
       "      <td>58041</td>\n",
       "      <td>1611920416</td>\n",
       "      <td>False</td>\n",
       "      <td>False</td>\n",
       "      <td>1</td>\n",
       "      <td>False</td>\n",
       "      <td>memes</td>\n",
       "      <td>14603384</td>\n",
       "      <td>1.0</td>\n",
       "      <td>https://i.redd.it/ah83g4ugd9e61.jpg</td>\n",
       "      <td>121.0</td>\n",
       "      <td>140.0</td>\n",
       "      <td>1</td>\n",
       "      <td>0.46</td>\n",
       "      <td>It happened today guysWhen the sun shines for ...</td>\n",
       "    </tr>\n",
       "  </tbody>\n",
       "</table>\n",
       "</div>"
      ],
      "text/plain": [
       "   Unnamed: 0  ...                                               text\n",
       "0        2081  ...                                  Hold or whatever \n",
       "1       65458  ...                          Who knew it was so easy? \n",
       "2       33846  ...  Here take a chocy milk calm yourselfon  oy  a ...\n",
       "3       28979  ...  Haha billionaires badRedditors massively joini...\n",
       "4       37316  ...  It happened today guysWhen the sun shines for ...\n",
       "\n",
       "[5 rows x 17 columns]"
      ]
     },
     "execution_count": 7,
     "metadata": {},
     "output_type": "execute_result"
    }
   ],
   "source": [
    "org_data.head()"
   ]
  },
  {
   "cell_type": "markdown",
   "metadata": {
    "id": "FNzPRfckzOtA"
   },
   "source": [
    "### <br><br>Cleaning text column\n",
    "<br>"
   ]
  },
  {
   "cell_type": "code",
   "execution_count": null,
   "metadata": {
    "id": "GcIy8Cq3W4L1"
   },
   "outputs": [],
   "source": [
    "#importing libraries\n",
    "import nltk\n",
    "from nltk.corpus import stopwords\n",
    "from nltk.stem import PorterStemmer\n",
    "from nltk.tokenize import word_tokenize\n",
    "import re"
   ]
  },
  {
   "cell_type": "code",
   "execution_count": null,
   "metadata": {
    "colab": {
     "base_uri": "https://localhost:8080/"
    },
    "id": "r_fPJ4TUW4Oc",
    "outputId": "75831e8b-0697-4ebb-cc37-d94d657b6124"
   },
   "outputs": [
    {
     "name": "stdout",
     "output_type": "stream",
     "text": [
      "[nltk_data] Downloading package punkt to /root/nltk_data...\n",
      "[nltk_data]   Unzipping tokenizers/punkt.zip.\n",
      "[nltk_data] Downloading package stopwords to /root/nltk_data...\n",
      "[nltk_data]   Unzipping corpora/stopwords.zip.\n",
      "[nltk_data] Downloading package vader_lexicon to /root/nltk_data...\n"
     ]
    },
    {
     "data": {
      "text/plain": [
       "True"
      ]
     },
     "execution_count": 10,
     "metadata": {},
     "output_type": "execute_result"
    }
   ],
   "source": [
    "#downloading punkt and stopwords\n",
    "nltk.download('punkt')\n",
    "nltk.download('stopwords')\n",
    "nltk.download('vader_lexicon')"
   ]
  },
  {
   "cell_type": "code",
   "execution_count": null,
   "metadata": {
    "id": "Ap0Zr2xWW4Qa"
   },
   "outputs": [],
   "source": [
    "#this function will take text as input and will clean it and return cleaned text\n",
    "def clean_text(text):\n",
    "    text = re.sub('[^A-Za-z]',' ',text).lower()    #Removing all characters from text except alphabets\n",
    "    words = word_tokenize(text)\n",
    "    stopWords = set(stopwords.words('english'))\n",
    "    ps = PorterStemmer()\n",
    "    cleanedText = []\n",
    "    for word in words:\n",
    "        word = ps.stem(word)\n",
    "        if word in stopWords or len(word)<=4:      #Removing stopwords and words with length less than 5\n",
    "            continue\n",
    "        else:\n",
    "            cleanedText.append(word)\n",
    "    return \" \".join(set(cleanedText))"
   ]
  },
  {
   "cell_type": "code",
   "execution_count": null,
   "metadata": {
    "colab": {
     "base_uri": "https://localhost:8080/"
    },
    "id": "yHY5ANqJzitm",
    "outputId": "2d738dca-f546-4e74-84fd-c76c5e603fd9"
   },
   "outputs": [
    {
     "name": "stderr",
     "output_type": "stream",
     "text": [
      "100%|██████████| 13000/13000 [00:05<00:00, 2171.20it/s]\n"
     ]
    }
   ],
   "source": [
    "tqdm.pandas(position=0)\n",
    "#calling function to clean the text\n",
    "org_data['text'] = org_data['text'].progress_apply(clean_text)"
   ]
  },
  {
   "cell_type": "code",
   "execution_count": null,
   "metadata": {
    "id": "FZEYqF2Bziwo"
   },
   "outputs": [],
   "source": [
    "#new feature containing number of words in text\n",
    "org_data['num_words'] = org_data['text'].str.split().apply(len)"
   ]
  },
  {
   "cell_type": "code",
   "execution_count": null,
   "metadata": {
    "id": "5n8_VDfSHSwQ"
   },
   "outputs": [],
   "source": []
  },
  {
   "cell_type": "markdown",
   "metadata": {
    "id": "cjfWrH4cCXty"
   },
   "source": [
    "### **Extracting** **features**"
   ]
  },
  {
   "cell_type": "code",
   "execution_count": null,
   "metadata": {
    "colab": {
     "base_uri": "https://localhost:8080/"
    },
    "id": "Yt_yaCTbCeY4",
    "outputId": "4198764e-c40f-4ec0-e1e2-232b4a8eedaf"
   },
   "outputs": [
    {
     "name": "stdout",
     "output_type": "stream",
     "text": [
      "Downloading data from https://storage.googleapis.com/tensorflow/keras-applications/vgg16/vgg16_weights_tf_dim_ordering_tf_kernels.h5\n",
      "553467904/553467096 [==============================] - 5s 0us/step\n",
      "553476096/553467096 [==============================] - 5s 0us/step\n"
     ]
    }
   ],
   "source": [
    "#importing libraries\n",
    "from keras.applications.vgg16 import VGG16\n",
    "from keras.preprocessing import image\n",
    "from keras.applications.vgg16 import preprocess_input\n",
    "from keras.applications.vgg16 import preprocess_input\n",
    "from keras.applications.vgg16 import decode_predictions\n",
    "import tensorflow as tf\n",
    "# load the model\n"
   ]
  },
  {
   "cell_type": "code",
   "execution_count": null,
   "metadata": {
    "id": "b5J0Lx4ICmsS"
   },
   "outputs": [],
   "source": [
    "model_vgg = VGG16()"
   ]
  },
  {
   "cell_type": "code",
   "execution_count": null,
   "metadata": {
    "id": "Zc1KP5mNC6PY"
   },
   "outputs": [],
   "source": [
    "#this function will take url of image as input and will get the image and convert it to array and return it\n",
    "def load_image(link, target_size=None):\n",
    "    import requests\n",
    "    import shutil\n",
    "    import os\n",
    "    \n",
    "    _, ext = os.path.splitext(link)\n",
    "    \n",
    "    r = requests.get(link, stream=True)\n",
    "    with open('temp.' + ext, 'wb') as f:\n",
    "        r.raw.decode_content = True\n",
    "        shutil.copyfileobj(r.raw, f)\n",
    "        \n",
    "    img = image.load_img('temp.' + ext, target_size=target_size)\n",
    "    return image.img_to_array(img)"
   ]
  },
  {
   "cell_type": "code",
   "execution_count": null,
   "metadata": {
    "id": "sCbDmHqMC8ox"
   },
   "outputs": [],
   "source": [
    "#this function will extract features and their probabilities from image and return them\n",
    "def extract_feature_from_image(url):\n",
    "  try:\n",
    "    im = load_image(url, target_size=(224, 224))\n",
    "    im = im.reshape((1, im.shape[0], im.shape[1], im.shape[2]))\n",
    "    im = preprocess_input(im)\n",
    "    yhat = model.predict(im)\n",
    "    label = decode_predictions(yhat, top=3)\n",
    "    obj = []\n",
    "    pred = []\n",
    "    for i in label[0]:\n",
    "      obj.append(i[1])\n",
    "      pred.append(i[2])\n",
    "    return [obj,pred]\n",
    "  \n",
    "  except:\n",
    "    return [[\"\"]*3, [0]*3]"
   ]
  },
  {
   "cell_type": "code",
   "execution_count": null,
   "metadata": {
    "colab": {
     "base_uri": "https://localhost:8080/"
    },
    "id": "USaIqoQPC8vJ",
    "outputId": "f342493e-cef3-433f-f44b-8463993ebb95"
   },
   "outputs": [
    {
     "metadata": {
      "tags": null
     },
     "name": "stderr",
     "output_type": "stream",
     "text": [
      "\r",
      "  0%|          | 0/13000 [00:00<?, ?it/s]"
     ]
    },
    {
     "metadata": {
      "tags": null
     },
     "name": "stdout",
     "output_type": "stream",
     "text": [
      "Downloading data from https://storage.googleapis.com/download.tensorflow.org/data/imagenet_class_index.json\n",
      "40960/35363 [==================================] - 0s 0us/step\n",
      "49152/35363 [=========================================] - 0s 0us/step\n"
     ]
    },
    {
     "name": "stderr",
     "output_type": "stream",
     "text": [
      "100%|██████████| 13000/13000 [1:06:43<00:00,  3.25it/s]\n"
     ]
    }
   ],
   "source": [
    "tqdm.pandas(position=0)\n",
    "img_feature_pred = org_data['url'].progress_apply(extract_feature_from_image)"
   ]
  },
  {
   "cell_type": "code",
   "execution_count": null,
   "metadata": {
    "id": "aJQeKoHaC8x6"
   },
   "outputs": [],
   "source": [
    "#creating new columns in the dataset to store new features\n",
    "org_data['img_feature'] = np.empty(13000, dtype=object)\n",
    "org_data['img_feature_pred'] = np.empty(13000, dtype=object)"
   ]
  },
  {
   "cell_type": "code",
   "execution_count": null,
   "metadata": {
    "id": "UXRObNBYTvOW"
   },
   "outputs": [],
   "source": [
    "#adding newly generated features to the dataset\n",
    "org_data['img_feature'] = [i[0] for i in img_feature_pred]\n",
    "org_data['img_feature_pred'] = [i[1] for i in img_feature_pred]"
   ]
  },
  {
   "cell_type": "code",
   "execution_count": null,
   "metadata": {
    "id": "KEJpBoRBTvRM"
   },
   "outputs": [],
   "source": [
    "#Saving the dataset because these processes takes time, so that I don't have to do that in future\n",
    "org_data.to_csv('df_img_feature_pred.csv',index=False)"
   ]
  },
  {
   "cell_type": "markdown",
   "metadata": {
    "id": "_jludPqBUb2S"
   },
   "source": [
    "### <br><br>Dropping Duplicates<br>\n",
    "In this dataset we have many such rows in which urls are repeated means duplicate urls. Here I am going to drop such data.\n",
    "<br>"
   ]
  },
  {
   "cell_type": "code",
   "execution_count": null,
   "metadata": {
    "id": "pN2MSD5FTvUA"
   },
   "outputs": [],
   "source": [
    "org_data = pd.read_csv('/content/drive/MyDrive/CS 2/df_img_feature_pred.csv')"
   ]
  },
  {
   "cell_type": "code",
   "execution_count": null,
   "metadata": {
    "id": "_MJ0CTiRZSvT"
   },
   "outputs": [],
   "source": [
    "'''\n",
    "Subreddits with more subscribers tend to get more upvotes, so I am normalizing the number of score by dividing by\n",
    "the number of subscribers from the respective subreddit where it was posted.\n",
    "'''\n",
    "org_data['score'] = org_data['score']/org_data['subreddit_subscribers']"
   ]
  },
  {
   "cell_type": "code",
   "execution_count": null,
   "metadata": {
    "colab": {
     "base_uri": "https://localhost:8080/"
    },
    "id": "B74Rs6v-ZSyJ",
    "outputId": "7bb14442-413e-433f-90a0-b48fc824bc17"
   },
   "outputs": [
    {
     "name": "stdout",
     "output_type": "stream",
     "text": [
      "[5.872748887997723e-06, 6.611864594333432e-06, 8.037597036952418e-06, 1.0170060120447284e-05, 1.6818461048757898e-05, 0.00741821464491812]\n"
     ]
    }
   ],
   "source": [
    "'''\n",
    "Checking percentile value of normalized score, so that I can get clear understanding for denoting meme \n",
    "as dank or not and making the problem as binary classification problem. \n",
    "'''\n",
    "#checking for top 5 precentile value\n",
    "top_5_percentile_value = []\n",
    "for i in range(95,101):\n",
    "  top_5_percentile_value.append(np.percentile(org_data['score'], i))\n",
    "print(top_5_percentile_value)"
   ]
  },
  {
   "cell_type": "code",
   "execution_count": null,
   "metadata": {
    "colab": {
     "base_uri": "https://localhost:8080/"
    },
    "id": "50j1sD4jZS1C",
    "outputId": "52232a5d-a06c-45f4-c163-05d9b74d056f"
   },
   "outputs": [
    {
     "name": "stdout",
     "output_type": "stream",
     "text": [
      "[8.037597036952418e-06, 8.078604300933008e-06, 8.219269094828569e-06, 8.350849157885698e-06, 8.736091145604518e-06, 8.817038200011783e-06, 9.027942768457746e-06, 9.4206476174494e-06, 9.506044727099957e-06, 9.92800809414098e-06]\n"
     ]
    }
   ],
   "source": [
    "between_97_98_percentile_value = []\n",
    "for i in np.arange(0,1,0.1):\n",
    "  between_97_98_percentile_value.append(np.percentile(org_data['score'], (97+i)))\n",
    "print(between_97_98_percentile_value)"
   ]
  },
  {
   "cell_type": "code",
   "execution_count": null,
   "metadata": {
    "id": "4NrqGg3eZj1O"
   },
   "outputs": [],
   "source": [
    "org_data['dank_or_not'] = (org_data['score']>np.percentile(org_data['score'], 97.1)).astype('int')"
   ]
  },
  {
   "cell_type": "code",
   "execution_count": null,
   "metadata": {
    "colab": {
     "base_uri": "https://localhost:8080/"
    },
    "id": "bKWQH3wpZj4M",
    "outputId": "44346262-6ea0-4ae1-b99f-77b47a407be0"
   },
   "outputs": [
    {
     "data": {
      "text/plain": [
       "0    12623\n",
       "1      377\n",
       "Name: dank_or_not, dtype: int64"
      ]
     },
     "execution_count": 48,
     "metadata": {},
     "output_type": "execute_result"
    }
   ],
   "source": [
    "org_data['dank_or_not'].value_counts()"
   ]
  },
  {
   "cell_type": "code",
   "execution_count": null,
   "metadata": {
    "id": "hUGgbNGib-yI"
   },
   "outputs": [],
   "source": []
  },
  {
   "cell_type": "code",
   "execution_count": null,
   "metadata": {
    "id": "8gwucpf7b-1P"
   },
   "outputs": [],
   "source": [
    "org_data.to_csv('org_data_dankornot.csv', index=False)"
   ]
  },
  {
   "cell_type": "code",
   "execution_count": null,
   "metadata": {
    "id": "szPO5YoFb-5G"
   },
   "outputs": [],
   "source": []
  },
  {
   "cell_type": "markdown",
   "metadata": {
    "id": "r1te9rfjcw43"
   },
   "source": [
    "### <br><br>**Data cleaning and feature encoding**<br>\n",
    "cleaning the dataset and encoding the categorical features of the dataset.\n",
    "<br>\n"
   ]
  },
  {
   "cell_type": "code",
   "execution_count": 4,
   "metadata": {
    "id": "o1PfxzlRczTd"
   },
   "outputs": [],
   "source": [
    "org_data = pd.read_csv('/content/drive/MyDrive/CS 2/org_data_dankornot.csv')"
   ]
  },
  {
   "cell_type": "markdown",
   "metadata": {
    "id": "gsUoKOPxc-8u"
   },
   "source": [
    "### Encoding created_utc column and creating new 'hour' column"
   ]
  },
  {
   "cell_type": "markdown",
   "metadata": {
    "id": "FBLPm5rCdAc9"
   },
   "source": [
    "The created_utc feature contains the timestamp when the post appeared on Reddit in the Coordinated Universal Time zone (UTC). Since most active Reddit users reside inthe USA, we converted this to North American Central Time Zone."
   ]
  },
  {
   "cell_type": "code",
   "execution_count": 5,
   "metadata": {
    "id": "q0dNR8wPczV8"
   },
   "outputs": [],
   "source": [
    "from datetime import datetime\n",
    "from pytz import timezone\n",
    "import pytz"
   ]
  },
  {
   "cell_type": "code",
   "execution_count": 6,
   "metadata": {
    "id": "7dtBE95OdGQO"
   },
   "outputs": [],
   "source": [
    "fmt = \"%Y-%m-%d %H:%M:%S %Z%z\""
   ]
  },
  {
   "cell_type": "code",
   "execution_count": 7,
   "metadata": {
    "id": "HxD_-H-OdGXl"
   },
   "outputs": [],
   "source": [
    "datetime_converted = org_data['created_utc'].apply(datetime.fromtimestamp)"
   ]
  },
  {
   "cell_type": "code",
   "execution_count": 8,
   "metadata": {
    "id": "i5G5yKg1dOwd"
   },
   "outputs": [],
   "source": [
    "datetime_converted=pd.DatetimeIndex(datetime_converted).tz_localize('UTC').tz_convert('America/New_York')"
   ]
  },
  {
   "cell_type": "code",
   "execution_count": 9,
   "metadata": {
    "id": "9d2E0YFGdOzm"
   },
   "outputs": [],
   "source": [
    "org_data['created_utc'] = pd.to_datetime(datetime_converted)"
   ]
  },
  {
   "cell_type": "code",
   "execution_count": 10,
   "metadata": {
    "id": "OeP3rAebdO5X"
   },
   "outputs": [],
   "source": [
    "#creating hour column\n",
    "org_data['hour'] = org_data['created_utc'].apply(lambda x: x.hour)"
   ]
  },
  {
   "cell_type": "code",
   "execution_count": 11,
   "metadata": {
    "colab": {
     "base_uri": "https://localhost:8080/"
    },
    "id": "6Ok-N2Rtdc2M",
    "outputId": "9f7bdd2c-a3f5-405b-80fa-00ec717df515"
   },
   "outputs": [
    {
     "name": "stdout",
     "output_type": "stream",
     "text": [
      "<class 'pandas.core.frame.DataFrame'>\n",
      "RangeIndex: 13000 entries, 0 to 12999\n",
      "Data columns (total 25 columns):\n",
      " #   Column                 Non-Null Count  Dtype                           \n",
      "---  ------                 --------------  -----                           \n",
      " 0   Unnamed: 0             13000 non-null  int64                           \n",
      " 1   Unnamed: 0.1           13000 non-null  int64                           \n",
      " 2   Unnamed: 0.1.1         13000 non-null  int64                           \n",
      " 3   created_utc            13000 non-null  datetime64[ns, America/New_York]\n",
      " 4   is_original_content    13000 non-null  bool                            \n",
      " 5   is_video               13000 non-null  bool                            \n",
      " 6   num_comments           13000 non-null  int64                           \n",
      " 7   over_18                13000 non-null  bool                            \n",
      " 8   subreddit              13000 non-null  object                          \n",
      " 9   subreddit_subscribers  13000 non-null  int64                           \n",
      " 10  upvote_ratio           13000 non-null  float64                         \n",
      " 11  url                    13000 non-null  object                          \n",
      " 12  thumbnail_height       12976 non-null  float64                         \n",
      " 13  thumbnail_width        12976 non-null  float64                         \n",
      " 14  score                  13000 non-null  float64                         \n",
      " 15  Sentiment_Score        13000 non-null  float64                         \n",
      " 16  text                   11595 non-null  object                          \n",
      " 17  num_words              13000 non-null  int64                           \n",
      " 18  avg_h                  13000 non-null  int64                           \n",
      " 19  avg_s                  13000 non-null  int64                           \n",
      " 20  avg_v                  13000 non-null  int64                           \n",
      " 21  img_feature            13000 non-null  object                          \n",
      " 22  img_feature_pred       13000 non-null  object                          \n",
      " 23  dank_or_not            13000 non-null  int64                           \n",
      " 24  hour                   13000 non-null  int64                           \n",
      "dtypes: bool(3), datetime64[ns, America/New_York](1), float64(5), int64(11), object(5)\n",
      "memory usage: 2.2+ MB\n"
     ]
    }
   ],
   "source": [
    "org_data.info()"
   ]
  },
  {
   "cell_type": "code",
   "execution_count": 12,
   "metadata": {
    "colab": {
     "base_uri": "https://localhost:8080/"
    },
    "id": "RpLnmjGsdc5T",
    "outputId": "2b04f701-a673-46d2-fa47-36a5f9ba8489"
   },
   "outputs": [
    {
     "data": {
      "text/plain": [
       "False    13000\n",
       "Name: is_video, dtype: int64"
      ]
     },
     "execution_count": 12,
     "metadata": {},
     "output_type": "execute_result"
    }
   ],
   "source": [
    "org_data['is_video'].value_counts()"
   ]
  },
  {
   "cell_type": "code",
   "execution_count": 13,
   "metadata": {
    "id": "8AYBCGlBdc8b"
   },
   "outputs": [],
   "source": [
    "org_data.drop(['is_video','Unnamed: 0','Unnamed: 0.1','Unnamed: 0.1.1'], axis=1, inplace=True)"
   ]
  },
  {
   "cell_type": "code",
   "execution_count": 14,
   "metadata": {
    "colab": {
     "base_uri": "https://localhost:8080/",
     "height": 447
    },
    "id": "LcJosmgue3jD",
    "outputId": "62f6491c-cfff-446a-fb42-58ed1935cca3"
   },
   "outputs": [
    {
     "data": {
      "text/html": [
       "<div>\n",
       "<style scoped>\n",
       "    .dataframe tbody tr th:only-of-type {\n",
       "        vertical-align: middle;\n",
       "    }\n",
       "\n",
       "    .dataframe tbody tr th {\n",
       "        vertical-align: top;\n",
       "    }\n",
       "\n",
       "    .dataframe thead th {\n",
       "        text-align: right;\n",
       "    }\n",
       "</style>\n",
       "<table border=\"1\" class=\"dataframe\">\n",
       "  <thead>\n",
       "    <tr style=\"text-align: right;\">\n",
       "      <th></th>\n",
       "      <th>created_utc</th>\n",
       "      <th>is_original_content</th>\n",
       "      <th>num_comments</th>\n",
       "      <th>over_18</th>\n",
       "      <th>subreddit</th>\n",
       "      <th>subreddit_subscribers</th>\n",
       "      <th>upvote_ratio</th>\n",
       "      <th>url</th>\n",
       "      <th>thumbnail_height</th>\n",
       "      <th>thumbnail_width</th>\n",
       "      <th>score</th>\n",
       "      <th>Sentiment_Score</th>\n",
       "      <th>text</th>\n",
       "      <th>num_words</th>\n",
       "      <th>avg_h</th>\n",
       "      <th>avg_s</th>\n",
       "      <th>avg_v</th>\n",
       "      <th>img_feature</th>\n",
       "      <th>img_feature_pred</th>\n",
       "      <th>dank_or_not</th>\n",
       "      <th>hour</th>\n",
       "    </tr>\n",
       "  </thead>\n",
       "  <tbody>\n",
       "    <tr>\n",
       "      <th>0</th>\n",
       "      <td>2021-01-29 02:50:58-05:00</td>\n",
       "      <td>False</td>\n",
       "      <td>4</td>\n",
       "      <td>False</td>\n",
       "      <td>meme</td>\n",
       "      <td>1396025</td>\n",
       "      <td>1.0</td>\n",
       "      <td>https://i.redd.it/wprmv4yj88e61.jpg</td>\n",
       "      <td>140.0</td>\n",
       "      <td>140.0</td>\n",
       "      <td>7.163196e-07</td>\n",
       "      <td>0.48</td>\n",
       "      <td>whatev</td>\n",
       "      <td>1</td>\n",
       "      <td>0</td>\n",
       "      <td>0</td>\n",
       "      <td>0</td>\n",
       "      <td>['web_site', 'scoreboard', 'digital_clock']</td>\n",
       "      <td>[0.05935011, 0.047493964, 0.034131162]</td>\n",
       "      <td>0</td>\n",
       "      <td>2</td>\n",
       "    </tr>\n",
       "    <tr>\n",
       "      <th>1</th>\n",
       "      <td>2021-01-21 12:31:50-05:00</td>\n",
       "      <td>False</td>\n",
       "      <td>4</td>\n",
       "      <td>False</td>\n",
       "      <td>dankmemes</td>\n",
       "      <td>4363172</td>\n",
       "      <td>1.0</td>\n",
       "      <td>https://i.redd.it/tc4jtlaw0qc61.jpg</td>\n",
       "      <td>140.0</td>\n",
       "      <td>140.0</td>\n",
       "      <td>2.291911e-07</td>\n",
       "      <td>0.50</td>\n",
       "      <td>NaN</td>\n",
       "      <td>0</td>\n",
       "      <td>0</td>\n",
       "      <td>0</td>\n",
       "      <td>0</td>\n",
       "      <td>['web_site', 'scoreboard', 'digital_clock']</td>\n",
       "      <td>[0.05935011, 0.047493964, 0.034131162]</td>\n",
       "      <td>0</td>\n",
       "      <td>12</td>\n",
       "    </tr>\n",
       "    <tr>\n",
       "      <th>2</th>\n",
       "      <td>2021-01-29 16:22:54-05:00</td>\n",
       "      <td>False</td>\n",
       "      <td>2</td>\n",
       "      <td>False</td>\n",
       "      <td>memes</td>\n",
       "      <td>14613900</td>\n",
       "      <td>1.0</td>\n",
       "      <td>https://i.redd.it/qg9v80we9ce61.jpg</td>\n",
       "      <td>140.0</td>\n",
       "      <td>140.0</td>\n",
       "      <td>6.842800e-08</td>\n",
       "      <td>0.50</td>\n",
       "      <td>yourselfon choci</td>\n",
       "      <td>2</td>\n",
       "      <td>0</td>\n",
       "      <td>0</td>\n",
       "      <td>0</td>\n",
       "      <td>['Staffordshire_bullterrier', 'dalmatian', 'te...</td>\n",
       "      <td>[0.067652605, 0.06469549, 0.056321584]</td>\n",
       "      <td>0</td>\n",
       "      <td>16</td>\n",
       "    </tr>\n",
       "    <tr>\n",
       "      <th>3</th>\n",
       "      <td>2021-01-30 14:34:35-05:00</td>\n",
       "      <td>False</td>\n",
       "      <td>1</td>\n",
       "      <td>False</td>\n",
       "      <td>memes</td>\n",
       "      <td>14629522</td>\n",
       "      <td>1.0</td>\n",
       "      <td>https://i.redd.it/j6tryx10vie61.jpg</td>\n",
       "      <td>131.0</td>\n",
       "      <td>140.0</td>\n",
       "      <td>6.835493e-08</td>\n",
       "      <td>0.10</td>\n",
       "      <td>becau stonk massiv wallstreetbet badredditor b...</td>\n",
       "      <td>6</td>\n",
       "      <td>0</td>\n",
       "      <td>0</td>\n",
       "      <td>0</td>\n",
       "      <td>['web_site', 'book_jacket', 'vizsla']</td>\n",
       "      <td>[0.9843156, 0.0043508904, 0.0033883443]</td>\n",
       "      <td>0</td>\n",
       "      <td>14</td>\n",
       "    </tr>\n",
       "    <tr>\n",
       "      <th>4</th>\n",
       "      <td>2021-01-29 06:40:16-05:00</td>\n",
       "      <td>False</td>\n",
       "      <td>1</td>\n",
       "      <td>False</td>\n",
       "      <td>memes</td>\n",
       "      <td>14603384</td>\n",
       "      <td>1.0</td>\n",
       "      <td>https://i.redd.it/ah83g4ugd9e61.jpg</td>\n",
       "      <td>121.0</td>\n",
       "      <td>140.0</td>\n",
       "      <td>6.847728e-08</td>\n",
       "      <td>0.46</td>\n",
       "      <td>guyswhen today happen januari first shine</td>\n",
       "      <td>6</td>\n",
       "      <td>0</td>\n",
       "      <td>0</td>\n",
       "      <td>0</td>\n",
       "      <td>['web_site', 'book_jacket', 'Bouvier_des_Fland...</td>\n",
       "      <td>[0.86468834, 0.029700553, 0.0038205122]</td>\n",
       "      <td>0</td>\n",
       "      <td>6</td>\n",
       "    </tr>\n",
       "  </tbody>\n",
       "</table>\n",
       "</div>"
      ],
      "text/plain": [
       "                created_utc  is_original_content  ...  dank_or_not  hour\n",
       "0 2021-01-29 02:50:58-05:00                False  ...            0     2\n",
       "1 2021-01-21 12:31:50-05:00                False  ...            0    12\n",
       "2 2021-01-29 16:22:54-05:00                False  ...            0    16\n",
       "3 2021-01-30 14:34:35-05:00                False  ...            0    14\n",
       "4 2021-01-29 06:40:16-05:00                False  ...            0     6\n",
       "\n",
       "[5 rows x 21 columns]"
      ]
     },
     "execution_count": 14,
     "metadata": {},
     "output_type": "execute_result"
    }
   ],
   "source": [
    "org_data.head()"
   ]
  },
  {
   "cell_type": "code",
   "execution_count": 15,
   "metadata": {
    "id": "KcM9gg_1E0bo"
   },
   "outputs": [],
   "source": [
    "org_data['text'] = org_data['text'].fillna(\"\")"
   ]
  },
  {
   "cell_type": "code",
   "execution_count": 16,
   "metadata": {
    "colab": {
     "base_uri": "https://localhost:8080/",
     "height": 1000
    },
    "id": "Rq07XmTyE0ga",
    "outputId": "92778055-9b8a-438a-f226-4d4220f840b0"
   },
   "outputs": [
    {
     "data": {
      "text/html": [
       "<div>\n",
       "<style scoped>\n",
       "    .dataframe tbody tr th:only-of-type {\n",
       "        vertical-align: middle;\n",
       "    }\n",
       "\n",
       "    .dataframe tbody tr th {\n",
       "        vertical-align: top;\n",
       "    }\n",
       "\n",
       "    .dataframe thead th {\n",
       "        text-align: right;\n",
       "    }\n",
       "</style>\n",
       "<table border=\"1\" class=\"dataframe\">\n",
       "  <thead>\n",
       "    <tr style=\"text-align: right;\">\n",
       "      <th></th>\n",
       "      <th>created_utc</th>\n",
       "      <th>is_original_content</th>\n",
       "      <th>num_comments</th>\n",
       "      <th>over_18</th>\n",
       "      <th>subreddit</th>\n",
       "      <th>subreddit_subscribers</th>\n",
       "      <th>upvote_ratio</th>\n",
       "      <th>url</th>\n",
       "      <th>thumbnail_height</th>\n",
       "      <th>thumbnail_width</th>\n",
       "      <th>score</th>\n",
       "      <th>Sentiment_Score</th>\n",
       "      <th>text</th>\n",
       "      <th>num_words</th>\n",
       "      <th>avg_h</th>\n",
       "      <th>avg_s</th>\n",
       "      <th>avg_v</th>\n",
       "      <th>img_feature</th>\n",
       "      <th>img_feature_pred</th>\n",
       "      <th>dank_or_not</th>\n",
       "      <th>hour</th>\n",
       "    </tr>\n",
       "  </thead>\n",
       "  <tbody>\n",
       "    <tr>\n",
       "      <th>49</th>\n",
       "      <td>2021-01-17 20:36:06-05:00</td>\n",
       "      <td>False</td>\n",
       "      <td>0</td>\n",
       "      <td>False</td>\n",
       "      <td>meme</td>\n",
       "      <td>1378429</td>\n",
       "      <td>1.0</td>\n",
       "      <td>https://i.redd.it/h6khrcfnvzb61.jpg</td>\n",
       "      <td>NaN</td>\n",
       "      <td>NaN</td>\n",
       "      <td>7.254636e-07</td>\n",
       "      <td>0.55</td>\n",
       "      <td>truegf alway annoy video</td>\n",
       "      <td>4</td>\n",
       "      <td>0</td>\n",
       "      <td>0</td>\n",
       "      <td>0</td>\n",
       "      <td>['web_site', 'neck_brace', 'muzzle']</td>\n",
       "      <td>[0.27932075, 0.19540091, 0.09712952]</td>\n",
       "      <td>0</td>\n",
       "      <td>20</td>\n",
       "    </tr>\n",
       "    <tr>\n",
       "      <th>523</th>\n",
       "      <td>2021-01-29 08:19:04-05:00</td>\n",
       "      <td>False</td>\n",
       "      <td>0</td>\n",
       "      <td>False</td>\n",
       "      <td>memes</td>\n",
       "      <td>14604996</td>\n",
       "      <td>1.0</td>\n",
       "      <td>https://i.redd.it/bm3p9emuu9e61.png</td>\n",
       "      <td>NaN</td>\n",
       "      <td>NaN</td>\n",
       "      <td>6.846972e-08</td>\n",
       "      <td>0.44</td>\n",
       "      <td>grandma expect later watch batti todaya palat</td>\n",
       "      <td>7</td>\n",
       "      <td>0</td>\n",
       "      <td>0</td>\n",
       "      <td>0</td>\n",
       "      <td>['book_jacket', 'comic_book', 'television']</td>\n",
       "      <td>[0.85341763, 0.050473444, 0.015581104]</td>\n",
       "      <td>0</td>\n",
       "      <td>8</td>\n",
       "    </tr>\n",
       "    <tr>\n",
       "      <th>2502</th>\n",
       "      <td>2021-01-18 10:00:05-05:00</td>\n",
       "      <td>False</td>\n",
       "      <td>2</td>\n",
       "      <td>False</td>\n",
       "      <td>dankmemes</td>\n",
       "      <td>4355381</td>\n",
       "      <td>1.0</td>\n",
       "      <td>https://imgur.com/gallery/EBeeGNE.jpg</td>\n",
       "      <td>NaN</td>\n",
       "      <td>NaN</td>\n",
       "      <td>2.296010e-07</td>\n",
       "      <td>0.30</td>\n",
       "      <td>scene</td>\n",
       "      <td>1</td>\n",
       "      <td>0</td>\n",
       "      <td>0</td>\n",
       "      <td>0</td>\n",
       "      <td>['obelisk', 'brass', 'web_site']</td>\n",
       "      <td>[0.064340934, 0.042870212, 0.03823636]</td>\n",
       "      <td>0</td>\n",
       "      <td>10</td>\n",
       "    </tr>\n",
       "    <tr>\n",
       "      <th>2657</th>\n",
       "      <td>2021-01-28 16:58:44-05:00</td>\n",
       "      <td>False</td>\n",
       "      <td>0</td>\n",
       "      <td>False</td>\n",
       "      <td>memes</td>\n",
       "      <td>14589973</td>\n",
       "      <td>1.0</td>\n",
       "      <td>https://i.redd.it/g8xg85bwa5e61.jpg</td>\n",
       "      <td>NaN</td>\n",
       "      <td>NaN</td>\n",
       "      <td>6.854022e-08</td>\n",
       "      <td>0.51</td>\n",
       "      <td></td>\n",
       "      <td>0</td>\n",
       "      <td>0</td>\n",
       "      <td>0</td>\n",
       "      <td>0</td>\n",
       "      <td>['web_site', 'scoreboard', 'digital_clock']</td>\n",
       "      <td>[0.05935011, 0.047493964, 0.034131162]</td>\n",
       "      <td>0</td>\n",
       "      <td>16</td>\n",
       "    </tr>\n",
       "    <tr>\n",
       "      <th>2857</th>\n",
       "      <td>2021-01-29 12:36:04-05:00</td>\n",
       "      <td>False</td>\n",
       "      <td>0</td>\n",
       "      <td>False</td>\n",
       "      <td>memes</td>\n",
       "      <td>14609740</td>\n",
       "      <td>1.0</td>\n",
       "      <td>https://i.redd.it/vdulcf5r4be61.png</td>\n",
       "      <td>NaN</td>\n",
       "      <td>NaN</td>\n",
       "      <td>6.844749e-08</td>\n",
       "      <td>0.49</td>\n",
       "      <td>pathet thought upaat shield</td>\n",
       "      <td>4</td>\n",
       "      <td>0</td>\n",
       "      <td>0</td>\n",
       "      <td>0</td>\n",
       "      <td>['comic_book', 'web_site', 'jigsaw_puzzle']</td>\n",
       "      <td>[0.40452492, 0.31786186, 0.1565833]</td>\n",
       "      <td>0</td>\n",
       "      <td>12</td>\n",
       "    </tr>\n",
       "    <tr>\n",
       "      <th>3066</th>\n",
       "      <td>2021-01-28 11:14:35-05:00</td>\n",
       "      <td>False</td>\n",
       "      <td>0</td>\n",
       "      <td>True</td>\n",
       "      <td>memes</td>\n",
       "      <td>14583538</td>\n",
       "      <td>1.0</td>\n",
       "      <td>https://i.redd.it/9se4slahl3e61.jpg</td>\n",
       "      <td>NaN</td>\n",
       "      <td>NaN</td>\n",
       "      <td>6.857047e-08</td>\n",
       "      <td>0.30</td>\n",
       "      <td>youtub studio antncio paseo money sonam adsyou...</td>\n",
       "      <td>10</td>\n",
       "      <td>0</td>\n",
       "      <td>0</td>\n",
       "      <td>0</td>\n",
       "      <td>['web_site', 'television', 'iPod']</td>\n",
       "      <td>[0.94597846, 0.01150116, 0.004993559]</td>\n",
       "      <td>0</td>\n",
       "      <td>11</td>\n",
       "    </tr>\n",
       "    <tr>\n",
       "      <th>3303</th>\n",
       "      <td>2021-01-18 10:21:40-05:00</td>\n",
       "      <td>False</td>\n",
       "      <td>3</td>\n",
       "      <td>False</td>\n",
       "      <td>dankmemes</td>\n",
       "      <td>4355401</td>\n",
       "      <td>1.0</td>\n",
       "      <td>https://i.imgur.com/dlK7oeN.jpg</td>\n",
       "      <td>NaN</td>\n",
       "      <td>NaN</td>\n",
       "      <td>2.296000e-07</td>\n",
       "      <td>0.20</td>\n",
       "      <td>scene strike kidsain destroy pikachu mewtwo</td>\n",
       "      <td>7</td>\n",
       "      <td>0</td>\n",
       "      <td>0</td>\n",
       "      <td>0</td>\n",
       "      <td>['sandal', 'pick', 'mouse']</td>\n",
       "      <td>[0.12178323, 0.054262247, 0.046235826]</td>\n",
       "      <td>0</td>\n",
       "      <td>10</td>\n",
       "    </tr>\n",
       "    <tr>\n",
       "      <th>3753</th>\n",
       "      <td>2021-01-14 00:04:54-05:00</td>\n",
       "      <td>False</td>\n",
       "      <td>2</td>\n",
       "      <td>False</td>\n",
       "      <td>meme</td>\n",
       "      <td>1372516</td>\n",
       "      <td>1.0</td>\n",
       "      <td>https://i.redd.it/x0z7gtmeiva41.jpg</td>\n",
       "      <td>NaN</td>\n",
       "      <td>NaN</td>\n",
       "      <td>7.285890e-07</td>\n",
       "      <td>0.45</td>\n",
       "      <td>spread</td>\n",
       "      <td>1</td>\n",
       "      <td>0</td>\n",
       "      <td>0</td>\n",
       "      <td>0</td>\n",
       "      <td>['web_site', 'scoreboard', 'digital_clock']</td>\n",
       "      <td>[0.05935011, 0.047493964, 0.034131162]</td>\n",
       "      <td>0</td>\n",
       "      <td>0</td>\n",
       "    </tr>\n",
       "    <tr>\n",
       "      <th>3810</th>\n",
       "      <td>2021-01-21 23:08:08-05:00</td>\n",
       "      <td>False</td>\n",
       "      <td>9</td>\n",
       "      <td>False</td>\n",
       "      <td>PrequelMemes</td>\n",
       "      <td>1688571</td>\n",
       "      <td>1.0</td>\n",
       "      <td>https://i.redd.it/lubosb4f6tc61.jpg</td>\n",
       "      <td>NaN</td>\n",
       "      <td>NaN</td>\n",
       "      <td>5.922167e-07</td>\n",
       "      <td>0.49</td>\n",
       "      <td></td>\n",
       "      <td>0</td>\n",
       "      <td>0</td>\n",
       "      <td>0</td>\n",
       "      <td>0</td>\n",
       "      <td>['web_site', 'theater_curtain', 'groom']</td>\n",
       "      <td>[0.33447683, 0.09093042, 0.057228353]</td>\n",
       "      <td>0</td>\n",
       "      <td>23</td>\n",
       "    </tr>\n",
       "    <tr>\n",
       "      <th>3906</th>\n",
       "      <td>2021-01-05 02:22:22-05:00</td>\n",
       "      <td>False</td>\n",
       "      <td>19</td>\n",
       "      <td>False</td>\n",
       "      <td>meme</td>\n",
       "      <td>1358867</td>\n",
       "      <td>1.0</td>\n",
       "      <td>https://i.redd.it/1hr8kupktg961.jpg</td>\n",
       "      <td>NaN</td>\n",
       "      <td>NaN</td>\n",
       "      <td>7.359072e-07</td>\n",
       "      <td>0.49</td>\n",
       "      <td>killer light skecher sketcher</td>\n",
       "      <td>4</td>\n",
       "      <td>0</td>\n",
       "      <td>0</td>\n",
       "      <td>0</td>\n",
       "      <td>['bulletproof_vest', 'web_site', 'book_jacket']</td>\n",
       "      <td>[0.058849253, 0.03845805, 0.03692883]</td>\n",
       "      <td>0</td>\n",
       "      <td>2</td>\n",
       "    </tr>\n",
       "    <tr>\n",
       "      <th>3944</th>\n",
       "      <td>2021-01-25 20:17:20-05:00</td>\n",
       "      <td>False</td>\n",
       "      <td>0</td>\n",
       "      <td>False</td>\n",
       "      <td>PrequelMemes</td>\n",
       "      <td>1693880</td>\n",
       "      <td>1.0</td>\n",
       "      <td>https://i.redd.it/s831x3ck38d41.jpg</td>\n",
       "      <td>NaN</td>\n",
       "      <td>NaN</td>\n",
       "      <td>5.903606e-07</td>\n",
       "      <td>0.58</td>\n",
       "      <td></td>\n",
       "      <td>0</td>\n",
       "      <td>0</td>\n",
       "      <td>0</td>\n",
       "      <td>0</td>\n",
       "      <td>['web_site', 'scoreboard', 'digital_clock']</td>\n",
       "      <td>[0.05935011, 0.047493964, 0.034131162]</td>\n",
       "      <td>0</td>\n",
       "      <td>20</td>\n",
       "    </tr>\n",
       "    <tr>\n",
       "      <th>4382</th>\n",
       "      <td>2021-01-29 10:36:46-05:00</td>\n",
       "      <td>False</td>\n",
       "      <td>2</td>\n",
       "      <td>False</td>\n",
       "      <td>memes</td>\n",
       "      <td>14607465</td>\n",
       "      <td>1.0</td>\n",
       "      <td>https://i.redd.it/krf4fk1jjae61.jpg</td>\n",
       "      <td>NaN</td>\n",
       "      <td>NaN</td>\n",
       "      <td>6.845815e-08</td>\n",
       "      <td>0.43</td>\n",
       "      <td></td>\n",
       "      <td>0</td>\n",
       "      <td>0</td>\n",
       "      <td>0</td>\n",
       "      <td>0</td>\n",
       "      <td>['web_site', 'scoreboard', 'digital_clock']</td>\n",
       "      <td>[0.05935011, 0.047493964, 0.034131162]</td>\n",
       "      <td>0</td>\n",
       "      <td>10</td>\n",
       "    </tr>\n",
       "    <tr>\n",
       "      <th>4500</th>\n",
       "      <td>2021-01-23 07:53:40-05:00</td>\n",
       "      <td>False</td>\n",
       "      <td>2</td>\n",
       "      <td>False</td>\n",
       "      <td>meme</td>\n",
       "      <td>1386720</td>\n",
       "      <td>1.0</td>\n",
       "      <td>https://i.redd.it/z1rzazlvw2d61.png</td>\n",
       "      <td>NaN</td>\n",
       "      <td>NaN</td>\n",
       "      <td>7.211261e-07</td>\n",
       "      <td>0.41</td>\n",
       "      <td>vessfebruari ekekend valentin</td>\n",
       "      <td>3</td>\n",
       "      <td>0</td>\n",
       "      <td>0</td>\n",
       "      <td>0</td>\n",
       "      <td>['web_site', 'book_jacket', 'comic_book']</td>\n",
       "      <td>[0.9132802, 0.053310722, 0.015150725]</td>\n",
       "      <td>0</td>\n",
       "      <td>7</td>\n",
       "    </tr>\n",
       "    <tr>\n",
       "      <th>5396</th>\n",
       "      <td>2021-01-19 08:51:41-05:00</td>\n",
       "      <td>False</td>\n",
       "      <td>0</td>\n",
       "      <td>False</td>\n",
       "      <td>PrequelMemes</td>\n",
       "      <td>1684602</td>\n",
       "      <td>1.0</td>\n",
       "      <td>https://i.imgur.com/sqEpfvQ.jpg</td>\n",
       "      <td>NaN</td>\n",
       "      <td>NaN</td>\n",
       "      <td>5.936120e-07</td>\n",
       "      <td>0.50</td>\n",
       "      <td>skywal denep christensen moranisti hayden anakin</td>\n",
       "      <td>6</td>\n",
       "      <td>0</td>\n",
       "      <td>0</td>\n",
       "      <td>0</td>\n",
       "      <td>['Border_terrier', 'Norfolk_terrier', 'Yorkshi...</td>\n",
       "      <td>[0.22348405, 0.106916964, 0.04225846]</td>\n",
       "      <td>0</td>\n",
       "      <td>8</td>\n",
       "    </tr>\n",
       "    <tr>\n",
       "      <th>5976</th>\n",
       "      <td>2021-01-24 06:22:13-05:00</td>\n",
       "      <td>False</td>\n",
       "      <td>2</td>\n",
       "      <td>False</td>\n",
       "      <td>dankmemes</td>\n",
       "      <td>4369843</td>\n",
       "      <td>1.0</td>\n",
       "      <td>https://i.redd.it/oe6rpz1jl9d61.jpg</td>\n",
       "      <td>NaN</td>\n",
       "      <td>NaN</td>\n",
       "      <td>2.288412e-07</td>\n",
       "      <td>0.29</td>\n",
       "      <td>offen</td>\n",
       "      <td>1</td>\n",
       "      <td>0</td>\n",
       "      <td>0</td>\n",
       "      <td>0</td>\n",
       "      <td>['web_site', 'scoreboard', 'digital_clock']</td>\n",
       "      <td>[0.05935011, 0.047493964, 0.034131162]</td>\n",
       "      <td>0</td>\n",
       "      <td>6</td>\n",
       "    </tr>\n",
       "    <tr>\n",
       "      <th>6655</th>\n",
       "      <td>2021-01-23 16:44:30-05:00</td>\n",
       "      <td>False</td>\n",
       "      <td>3</td>\n",
       "      <td>False</td>\n",
       "      <td>meme</td>\n",
       "      <td>1387242</td>\n",
       "      <td>1.0</td>\n",
       "      <td>https://gfycat.com/thornyunhealthybufflehead.jpg</td>\n",
       "      <td>NaN</td>\n",
       "      <td>NaN</td>\n",
       "      <td>7.208548e-07</td>\n",
       "      <td>0.49</td>\n",
       "      <td>first</td>\n",
       "      <td>1</td>\n",
       "      <td>0</td>\n",
       "      <td>0</td>\n",
       "      <td>0</td>\n",
       "      <td>['', '', '']</td>\n",
       "      <td>[0, 0, 0]</td>\n",
       "      <td>0</td>\n",
       "      <td>16</td>\n",
       "    </tr>\n",
       "    <tr>\n",
       "      <th>6779</th>\n",
       "      <td>2021-01-24 10:34:13-05:00</td>\n",
       "      <td>False</td>\n",
       "      <td>1</td>\n",
       "      <td>False</td>\n",
       "      <td>meme</td>\n",
       "      <td>1388346</td>\n",
       "      <td>1.0</td>\n",
       "      <td>https://i.imgur.com/2PVFvt4.jpg</td>\n",
       "      <td>NaN</td>\n",
       "      <td>NaN</td>\n",
       "      <td>7.202815e-07</td>\n",
       "      <td>0.44</td>\n",
       "      <td>larri</td>\n",
       "      <td>1</td>\n",
       "      <td>0</td>\n",
       "      <td>0</td>\n",
       "      <td>0</td>\n",
       "      <td>['obelisk', 'brass', 'web_site']</td>\n",
       "      <td>[0.064340934, 0.042870212, 0.03823636]</td>\n",
       "      <td>0</td>\n",
       "      <td>10</td>\n",
       "    </tr>\n",
       "    <tr>\n",
       "      <th>7341</th>\n",
       "      <td>2021-01-29 09:44:43-05:00</td>\n",
       "      <td>False</td>\n",
       "      <td>2</td>\n",
       "      <td>False</td>\n",
       "      <td>memes</td>\n",
       "      <td>14606471</td>\n",
       "      <td>1.0</td>\n",
       "      <td>https://i.redd.it/z9ozh4ddaae61.jpg</td>\n",
       "      <td>NaN</td>\n",
       "      <td>NaN</td>\n",
       "      <td>6.846281e-08</td>\n",
       "      <td>0.32</td>\n",
       "      <td>werjust never wondern golli campafford borrow ...</td>\n",
       "      <td>10</td>\n",
       "      <td>0</td>\n",
       "      <td>0</td>\n",
       "      <td>0</td>\n",
       "      <td>['web_site', 'envelope', 'menu']</td>\n",
       "      <td>[0.9564464, 0.012170658, 0.010053811]</td>\n",
       "      <td>0</td>\n",
       "      <td>9</td>\n",
       "    </tr>\n",
       "    <tr>\n",
       "      <th>8195</th>\n",
       "      <td>2021-01-24 11:17:38-05:00</td>\n",
       "      <td>False</td>\n",
       "      <td>0</td>\n",
       "      <td>False</td>\n",
       "      <td>dankmemes</td>\n",
       "      <td>4370447</td>\n",
       "      <td>1.0</td>\n",
       "      <td>https://i.imgur.com/frP08wf.jpg</td>\n",
       "      <td>NaN</td>\n",
       "      <td>NaN</td>\n",
       "      <td>2.288095e-07</td>\n",
       "      <td>0.59</td>\n",
       "      <td>underdog pictur stori depress</td>\n",
       "      <td>4</td>\n",
       "      <td>0</td>\n",
       "      <td>0</td>\n",
       "      <td>0</td>\n",
       "      <td>['book_jacket', 'pay-phone', 'punching_bag']</td>\n",
       "      <td>[0.19156182, 0.06746446, 0.06432392]</td>\n",
       "      <td>0</td>\n",
       "      <td>11</td>\n",
       "    </tr>\n",
       "    <tr>\n",
       "      <th>8308</th>\n",
       "      <td>2021-01-25 20:36:22-05:00</td>\n",
       "      <td>False</td>\n",
       "      <td>0</td>\n",
       "      <td>False</td>\n",
       "      <td>PrequelMemes</td>\n",
       "      <td>1693903</td>\n",
       "      <td>1.0</td>\n",
       "      <td>https://i.redd.it/kjgwsh92ehd61.jpg</td>\n",
       "      <td>NaN</td>\n",
       "      <td>NaN</td>\n",
       "      <td>5.903526e-07</td>\n",
       "      <td>0.42</td>\n",
       "      <td>famili skywalk againel</td>\n",
       "      <td>3</td>\n",
       "      <td>0</td>\n",
       "      <td>0</td>\n",
       "      <td>0</td>\n",
       "      <td>['comic_book', 'refrigerator', 'laptop']</td>\n",
       "      <td>[0.94892025, 0.004399371, 0.004057249]</td>\n",
       "      <td>0</td>\n",
       "      <td>20</td>\n",
       "    </tr>\n",
       "    <tr>\n",
       "      <th>9192</th>\n",
       "      <td>2021-01-25 06:38:09-05:00</td>\n",
       "      <td>False</td>\n",
       "      <td>0</td>\n",
       "      <td>False</td>\n",
       "      <td>teenagers</td>\n",
       "      <td>2348382</td>\n",
       "      <td>1.0</td>\n",
       "      <td>https://i.imgur.com/T9ny6Zs.jpg</td>\n",
       "      <td>NaN</td>\n",
       "      <td>NaN</td>\n",
       "      <td>4.258251e-07</td>\n",
       "      <td>0.30</td>\n",
       "      <td>illeg requir lmaonotsafefwglac think notsafefw...</td>\n",
       "      <td>17</td>\n",
       "      <td>0</td>\n",
       "      <td>0</td>\n",
       "      <td>0</td>\n",
       "      <td>['web_site', 'nematode', 'menu']</td>\n",
       "      <td>[0.992074, 0.0013692024, 0.0012261681]</td>\n",
       "      <td>0</td>\n",
       "      <td>6</td>\n",
       "    </tr>\n",
       "    <tr>\n",
       "      <th>9584</th>\n",
       "      <td>2021-01-31 03:38:20-05:00</td>\n",
       "      <td>False</td>\n",
       "      <td>8</td>\n",
       "      <td>False</td>\n",
       "      <td>dankmemes</td>\n",
       "      <td>4401901</td>\n",
       "      <td>1.0</td>\n",
       "      <td>https://i.redd.it/lvbygd0eqme61.png</td>\n",
       "      <td>NaN</td>\n",
       "      <td>NaN</td>\n",
       "      <td>2.271746e-07</td>\n",
       "      <td>0.39</td>\n",
       "      <td>themselv actual redditor parri crashh market</td>\n",
       "      <td>6</td>\n",
       "      <td>0</td>\n",
       "      <td>0</td>\n",
       "      <td>0</td>\n",
       "      <td>['web_site', 'book_jacket', 'envelope']</td>\n",
       "      <td>[0.65419054, 0.2216637, 0.087488495]</td>\n",
       "      <td>0</td>\n",
       "      <td>3</td>\n",
       "    </tr>\n",
       "    <tr>\n",
       "      <th>10701</th>\n",
       "      <td>2021-01-25 20:36:06-05:00</td>\n",
       "      <td>False</td>\n",
       "      <td>0</td>\n",
       "      <td>False</td>\n",
       "      <td>PrequelMemes</td>\n",
       "      <td>1693903</td>\n",
       "      <td>1.0</td>\n",
       "      <td>https://i.redd.it/kjgwsh92ehd61.jpg</td>\n",
       "      <td>NaN</td>\n",
       "      <td>NaN</td>\n",
       "      <td>5.903526e-07</td>\n",
       "      <td>0.42</td>\n",
       "      <td>famili skywalk againel</td>\n",
       "      <td>3</td>\n",
       "      <td>0</td>\n",
       "      <td>0</td>\n",
       "      <td>0</td>\n",
       "      <td>['comic_book', 'refrigerator', 'laptop']</td>\n",
       "      <td>[0.94892025, 0.004399371, 0.004057249]</td>\n",
       "      <td>0</td>\n",
       "      <td>20</td>\n",
       "    </tr>\n",
       "    <tr>\n",
       "      <th>10754</th>\n",
       "      <td>2021-01-21 05:16:48-05:00</td>\n",
       "      <td>False</td>\n",
       "      <td>5</td>\n",
       "      <td>False</td>\n",
       "      <td>meme</td>\n",
       "      <td>1383486</td>\n",
       "      <td>1.0</td>\n",
       "      <td>https://i.redd.it/oq4kqmx9vnc61.jpg</td>\n",
       "      <td>NaN</td>\n",
       "      <td>NaN</td>\n",
       "      <td>7.228118e-07</td>\n",
       "      <td>0.21</td>\n",
       "      <td>abomin</td>\n",
       "      <td>1</td>\n",
       "      <td>0</td>\n",
       "      <td>0</td>\n",
       "      <td>0</td>\n",
       "      <td>['park_bench', 'marimba', 'radio']</td>\n",
       "      <td>[0.38116938, 0.29151365, 0.115883045]</td>\n",
       "      <td>0</td>\n",
       "      <td>5</td>\n",
       "    </tr>\n",
       "  </tbody>\n",
       "</table>\n",
       "</div>"
      ],
      "text/plain": [
       "                    created_utc  is_original_content  ...  dank_or_not  hour\n",
       "49    2021-01-17 20:36:06-05:00                False  ...            0    20\n",
       "523   2021-01-29 08:19:04-05:00                False  ...            0     8\n",
       "2502  2021-01-18 10:00:05-05:00                False  ...            0    10\n",
       "2657  2021-01-28 16:58:44-05:00                False  ...            0    16\n",
       "2857  2021-01-29 12:36:04-05:00                False  ...            0    12\n",
       "3066  2021-01-28 11:14:35-05:00                False  ...            0    11\n",
       "3303  2021-01-18 10:21:40-05:00                False  ...            0    10\n",
       "3753  2021-01-14 00:04:54-05:00                False  ...            0     0\n",
       "3810  2021-01-21 23:08:08-05:00                False  ...            0    23\n",
       "3906  2021-01-05 02:22:22-05:00                False  ...            0     2\n",
       "3944  2021-01-25 20:17:20-05:00                False  ...            0    20\n",
       "4382  2021-01-29 10:36:46-05:00                False  ...            0    10\n",
       "4500  2021-01-23 07:53:40-05:00                False  ...            0     7\n",
       "5396  2021-01-19 08:51:41-05:00                False  ...            0     8\n",
       "5976  2021-01-24 06:22:13-05:00                False  ...            0     6\n",
       "6655  2021-01-23 16:44:30-05:00                False  ...            0    16\n",
       "6779  2021-01-24 10:34:13-05:00                False  ...            0    10\n",
       "7341  2021-01-29 09:44:43-05:00                False  ...            0     9\n",
       "8195  2021-01-24 11:17:38-05:00                False  ...            0    11\n",
       "8308  2021-01-25 20:36:22-05:00                False  ...            0    20\n",
       "9192  2021-01-25 06:38:09-05:00                False  ...            0     6\n",
       "9584  2021-01-31 03:38:20-05:00                False  ...            0     3\n",
       "10701 2021-01-25 20:36:06-05:00                False  ...            0    20\n",
       "10754 2021-01-21 05:16:48-05:00                False  ...            0     5\n",
       "\n",
       "[24 rows x 21 columns]"
      ]
     },
     "execution_count": 16,
     "metadata": {},
     "output_type": "execute_result"
    }
   ],
   "source": [
    "org_data[org_data['thumbnail_height'].isna()]"
   ]
  },
  {
   "cell_type": "code",
   "execution_count": 17,
   "metadata": {
    "colab": {
     "base_uri": "https://localhost:8080/"
    },
    "id": "SgWGs860E0h4",
    "outputId": "db64e66a-a149-4fe9-ddc9-2956f7ff3eb1"
   },
   "outputs": [
    {
     "name": "stdout",
     "output_type": "stream",
     "text": [
      "140.0    6623\n",
      "78.0      398\n",
      "105.0     304\n",
      "138.0     213\n",
      "139.0     167\n",
      "         ... \n",
      "20.0        1\n",
      "23.0        1\n",
      "30.0        1\n",
      "25.0        1\n",
      "37.0        1\n",
      "Name: thumbnail_height, Length: 116, dtype: int64\n",
      "\n",
      "140.0    12969\n",
      "70.0         7\n",
      "Name: thumbnail_width, dtype: int64\n"
     ]
    }
   ],
   "source": [
    "print(org_data['thumbnail_height'].value_counts())\n",
    "print()\n",
    "print(org_data['thumbnail_width'].value_counts())"
   ]
  },
  {
   "cell_type": "code",
   "execution_count": 18,
   "metadata": {
    "id": "J1wxzspSE0sM"
   },
   "outputs": [],
   "source": [
    "org_data['thumbnail_height'].fillna(org_data['thumbnail_height'].mode().iloc[0], inplace=True)\n",
    "org_data['thumbnail_width'].fillna(org_data['thumbnail_width'].mode().iloc[0], inplace=True)"
   ]
  },
  {
   "cell_type": "code",
   "execution_count": 19,
   "metadata": {
    "colab": {
     "base_uri": "https://localhost:8080/",
     "height": 310
    },
    "id": "3AgRIbrwiNKF",
    "outputId": "9b42dc5f-b623-418b-f640-fe37a51e2f9d"
   },
   "outputs": [
    {
     "data": {
      "text/html": [
       "<div>\n",
       "<style scoped>\n",
       "    .dataframe tbody tr th:only-of-type {\n",
       "        vertical-align: middle;\n",
       "    }\n",
       "\n",
       "    .dataframe tbody tr th {\n",
       "        vertical-align: top;\n",
       "    }\n",
       "\n",
       "    .dataframe thead th {\n",
       "        text-align: right;\n",
       "    }\n",
       "</style>\n",
       "<table border=\"1\" class=\"dataframe\">\n",
       "  <thead>\n",
       "    <tr style=\"text-align: right;\">\n",
       "      <th></th>\n",
       "      <th>num_comments</th>\n",
       "      <th>subreddit_subscribers</th>\n",
       "      <th>upvote_ratio</th>\n",
       "      <th>thumbnail_height</th>\n",
       "      <th>thumbnail_width</th>\n",
       "      <th>score</th>\n",
       "      <th>Sentiment_Score</th>\n",
       "      <th>num_words</th>\n",
       "      <th>avg_h</th>\n",
       "      <th>avg_s</th>\n",
       "      <th>avg_v</th>\n",
       "      <th>dank_or_not</th>\n",
       "      <th>hour</th>\n",
       "    </tr>\n",
       "  </thead>\n",
       "  <tbody>\n",
       "    <tr>\n",
       "      <th>count</th>\n",
       "      <td>13000.000000</td>\n",
       "      <td>1.300000e+04</td>\n",
       "      <td>13000.000000</td>\n",
       "      <td>13000.000000</td>\n",
       "      <td>13000.000000</td>\n",
       "      <td>1.300000e+04</td>\n",
       "      <td>13000.000000</td>\n",
       "      <td>13000.000000</td>\n",
       "      <td>13000.0</td>\n",
       "      <td>13000.0</td>\n",
       "      <td>13000.0</td>\n",
       "      <td>13000.000000</td>\n",
       "      <td>13000.000000</td>\n",
       "    </tr>\n",
       "    <tr>\n",
       "      <th>mean</th>\n",
       "      <td>6.706923</td>\n",
       "      <td>6.012279e+06</td>\n",
       "      <td>0.986215</td>\n",
       "      <td>123.807615</td>\n",
       "      <td>139.962308</td>\n",
       "      <td>5.006676e-06</td>\n",
       "      <td>0.455198</td>\n",
       "      <td>3.975692</td>\n",
       "      <td>0.0</td>\n",
       "      <td>0.0</td>\n",
       "      <td>0.0</td>\n",
       "      <td>0.029000</td>\n",
       "      <td>12.095846</td>\n",
       "    </tr>\n",
       "    <tr>\n",
       "      <th>std</th>\n",
       "      <td>36.952538</td>\n",
       "      <td>5.494066e+06</td>\n",
       "      <td>0.055218</td>\n",
       "      <td>22.788491</td>\n",
       "      <td>1.623959</td>\n",
       "      <td>1.162217e-04</td>\n",
       "      <td>0.109303</td>\n",
       "      <td>9.458931</td>\n",
       "      <td>0.0</td>\n",
       "      <td>0.0</td>\n",
       "      <td>0.0</td>\n",
       "      <td>0.167813</td>\n",
       "      <td>6.299855</td>\n",
       "    </tr>\n",
       "    <tr>\n",
       "      <th>min</th>\n",
       "      <td>0.000000</td>\n",
       "      <td>5.008760e+05</td>\n",
       "      <td>0.290000</td>\n",
       "      <td>14.000000</td>\n",
       "      <td>70.000000</td>\n",
       "      <td>0.000000e+00</td>\n",
       "      <td>0.040000</td>\n",
       "      <td>0.000000</td>\n",
       "      <td>0.0</td>\n",
       "      <td>0.0</td>\n",
       "      <td>0.0</td>\n",
       "      <td>0.000000</td>\n",
       "      <td>0.000000</td>\n",
       "    </tr>\n",
       "    <tr>\n",
       "      <th>25%</th>\n",
       "      <td>1.000000</td>\n",
       "      <td>1.388678e+06</td>\n",
       "      <td>1.000000</td>\n",
       "      <td>109.000000</td>\n",
       "      <td>140.000000</td>\n",
       "      <td>2.273741e-07</td>\n",
       "      <td>0.410000</td>\n",
       "      <td>1.000000</td>\n",
       "      <td>0.0</td>\n",
       "      <td>0.0</td>\n",
       "      <td>0.0</td>\n",
       "      <td>0.000000</td>\n",
       "      <td>8.000000</td>\n",
       "    </tr>\n",
       "    <tr>\n",
       "      <th>50%</th>\n",
       "      <td>2.000000</td>\n",
       "      <td>4.362848e+06</td>\n",
       "      <td>1.000000</td>\n",
       "      <td>140.000000</td>\n",
       "      <td>140.000000</td>\n",
       "      <td>4.258078e-07</td>\n",
       "      <td>0.480000</td>\n",
       "      <td>3.000000</td>\n",
       "      <td>0.0</td>\n",
       "      <td>0.0</td>\n",
       "      <td>0.0</td>\n",
       "      <td>0.000000</td>\n",
       "      <td>12.000000</td>\n",
       "    </tr>\n",
       "    <tr>\n",
       "      <th>75%</th>\n",
       "      <td>4.000000</td>\n",
       "      <td>1.458698e+07</td>\n",
       "      <td>1.000000</td>\n",
       "      <td>140.000000</td>\n",
       "      <td>140.000000</td>\n",
       "      <td>7.353282e-07</td>\n",
       "      <td>0.500000</td>\n",
       "      <td>5.000000</td>\n",
       "      <td>0.0</td>\n",
       "      <td>0.0</td>\n",
       "      <td>0.0</td>\n",
       "      <td>0.000000</td>\n",
       "      <td>17.000000</td>\n",
       "    </tr>\n",
       "    <tr>\n",
       "      <th>max</th>\n",
       "      <td>1794.000000</td>\n",
       "      <td>1.468814e+07</td>\n",
       "      <td>1.000000</td>\n",
       "      <td>140.000000</td>\n",
       "      <td>140.000000</td>\n",
       "      <td>7.418215e-03</td>\n",
       "      <td>0.830000</td>\n",
       "      <td>821.000000</td>\n",
       "      <td>0.0</td>\n",
       "      <td>0.0</td>\n",
       "      <td>0.0</td>\n",
       "      <td>1.000000</td>\n",
       "      <td>23.000000</td>\n",
       "    </tr>\n",
       "  </tbody>\n",
       "</table>\n",
       "</div>"
      ],
      "text/plain": [
       "       num_comments  subreddit_subscribers  ...   dank_or_not          hour\n",
       "count  13000.000000           1.300000e+04  ...  13000.000000  13000.000000\n",
       "mean       6.706923           6.012279e+06  ...      0.029000     12.095846\n",
       "std       36.952538           5.494066e+06  ...      0.167813      6.299855\n",
       "min        0.000000           5.008760e+05  ...      0.000000      0.000000\n",
       "25%        1.000000           1.388678e+06  ...      0.000000      8.000000\n",
       "50%        2.000000           4.362848e+06  ...      0.000000     12.000000\n",
       "75%        4.000000           1.458698e+07  ...      0.000000     17.000000\n",
       "max     1794.000000           1.468814e+07  ...      1.000000     23.000000\n",
       "\n",
       "[8 rows x 13 columns]"
      ]
     },
     "execution_count": 19,
     "metadata": {},
     "output_type": "execute_result"
    }
   ],
   "source": [
    "org_data.describe()"
   ]
  },
  {
   "cell_type": "code",
   "execution_count": 20,
   "metadata": {
    "colab": {
     "base_uri": "https://localhost:8080/",
     "height": 291
    },
    "id": "tsYnzgjeiNNG",
    "outputId": "0248330a-1953-4f70-8cab-b38a1cf67267"
   },
   "outputs": [
    {
     "data": {
      "image/png": "[encoded data removed]",
      "text/plain": [
       "<Figure size 1800x360 with 1 Axes>"
      ]
     },
     "metadata": {
      "needs_background": "light"
     },
     "output_type": "display_data"
    }
   ],
   "source": [
    "plt.figure(figsize=(25,5))\n",
    "sns.boxplot(org_data['num_words'])\n",
    "plt.title('Number of words in memes')\n",
    "plt.show()"
   ]
  },
  {
   "cell_type": "code",
   "execution_count": 21,
   "metadata": {
    "colab": {
     "base_uri": "https://localhost:8080/"
    },
    "id": "ZXQuCWO8izXj",
    "outputId": "0f77634a-4f58-46f6-8f83-03a6b1699066"
   },
   "outputs": [
    {
     "data": {
      "text/plain": [
       "41.00300000000607"
      ]
     },
     "execution_count": 21,
     "metadata": {},
     "output_type": "execute_result"
    }
   ],
   "source": [
    "np.percentile(org_data['num_words'],99.9)"
   ]
  },
  {
   "cell_type": "code",
   "execution_count": 22,
   "metadata": {
    "colab": {
     "base_uri": "https://localhost:8080/"
    },
    "id": "foY2RGd4izaB",
    "outputId": "ac03c62d-f10b-4836-9059-65df1846629d"
   },
   "outputs": [
    {
     "name": "stdout",
     "output_type": "stream",
     "text": [
      "90 percentile :  8.0\n",
      "91 percentile :  9.0\n",
      "92 percentile :  9.0\n",
      "93 percentile :  9.0\n",
      "94 percentile :  10.0\n",
      "95 percentile :  11.0\n",
      "96 percentile :  11.0\n",
      "97 percentile :  13.0\n",
      "98 percentile :  15.0\n",
      "99 percentile :  18.0\n",
      "100 percentile :  821.0\n"
     ]
    }
   ],
   "source": [
    "for i in range(90,101):\n",
    "  print(i,'percentile : ',np.percentile(org_data['num_words'],i))"
   ]
  },
  {
   "cell_type": "code",
   "execution_count": 23,
   "metadata": {
    "colab": {
     "base_uri": "https://localhost:8080/"
    },
    "id": "PJKJkmEHizcu",
    "outputId": "50f61920-7c78-470b-a3d7-499218b25c6d"
   },
   "outputs": [
    {
     "name": "stdout",
     "output_type": "stream",
     "text": [
      "99.0 percentile :  18.0\n",
      "99.1 percentile :  19.0\n",
      "99.19999999999999 percentile :  20.0\n",
      "99.29999999999998 percentile :  21.0\n",
      "99.39999999999998 percentile :  22.0\n",
      "99.49999999999997 percentile :  24.0\n",
      "99.59999999999997 percentile :  27.0\n",
      "99.69999999999996 percentile :  30.0\n",
      "99.79999999999995 percentile :  35.0\n",
      "99.89999999999995 percentile :  41.00299999997878\n",
      "99.99999999999994 percentile :  820.9999999974389\n"
     ]
    }
   ],
   "source": [
    "for i in np.arange(99,100.1,0.1):\n",
    "  print(i,'percentile : ',np.percentile(org_data['num_words'],i))"
   ]
  },
  {
   "cell_type": "code",
   "execution_count": 24,
   "metadata": {
    "id": "eRr2VbcnjYa7"
   },
   "outputs": [],
   "source": [
    "org_data = org_data[org_data['num_words']<=75]"
   ]
  },
  {
   "cell_type": "code",
   "execution_count": 25,
   "metadata": {
    "colab": {
     "base_uri": "https://localhost:8080/"
    },
    "id": "FZX63ShdjYdh",
    "outputId": "9da4233b-d8e2-4c2b-9fd4-f4fb2868935d"
   },
   "outputs": [
    {
     "data": {
      "text/plain": [
       "12995"
      ]
     },
     "execution_count": 25,
     "metadata": {},
     "output_type": "execute_result"
    }
   ],
   "source": [
    "org_data.shape[0]"
   ]
  },
  {
   "cell_type": "code",
   "execution_count": 26,
   "metadata": {
    "id": "8Yn_fRqvjYgL"
   },
   "outputs": [],
   "source": [
    "org_data.drop(['created_utc','subreddit','url'], axis=1, inplace=True)"
   ]
  },
  {
   "cell_type": "code",
   "execution_count": 27,
   "metadata": {
    "id": "amEUiA2mlyyE"
   },
   "outputs": [],
   "source": [
    "org_data['is_original_content'] = org_data['is_original_content'].astype('int')"
   ]
  },
  {
   "cell_type": "code",
   "execution_count": 28,
   "metadata": {
    "id": "A7X-P8HSly0y"
   },
   "outputs": [],
   "source": [
    "org_data['over_18'] = org_data['over_18'].astype('int')"
   ]
  },
  {
   "cell_type": "code",
   "execution_count": 29,
   "metadata": {
    "id": "EiRIJXukly5y"
   },
   "outputs": [],
   "source": [
    "top_5_features = org_data[org_data['score']>np.percentile(org_data['score'],95)]['img_feature']\n",
    "least_5_features = org_data[org_data['score']<np.percentile(org_data['score'],5)]['img_feature']"
   ]
  },
  {
   "cell_type": "code",
   "execution_count": 30,
   "metadata": {
    "id": "_9QonjCumq8l"
   },
   "outputs": [],
   "source": [
    "#list data are in form of string, converting them to list\n",
    "from ast import literal_eval\n",
    "top_5_features = top_5_features.apply(literal_eval)\n",
    "least_5_features = least_5_features.apply(literal_eval)"
   ]
  },
  {
   "cell_type": "code",
   "execution_count": 31,
   "metadata": {
    "id": "HYmVCv2Lmq-x"
   },
   "outputs": [],
   "source": [
    "#storing all the words present im top 5% features\n",
    "top_features_list=[]\n",
    "for value in top_5_features:\n",
    "    top_features_list.extend(value)"
   ]
  },
  {
   "cell_type": "code",
   "execution_count": 32,
   "metadata": {
    "id": "Hlu_SIaomrBY"
   },
   "outputs": [],
   "source": [
    "#storing all the words present im bottom 5% features\n",
    "least_features_list=[]\n",
    "for value in least_5_features:\n",
    "    least_features_list.extend(value)"
   ]
  },
  {
   "cell_type": "markdown",
   "metadata": {
    "id": "FT7IuM7IybvR"
   },
   "source": [
    "Getting top 10 **shared** objects"
   ]
  },
  {
   "cell_type": "code",
   "execution_count": 33,
   "metadata": {
    "id": "c01WJGlDmrDt"
   },
   "outputs": [],
   "source": [
    "top_objects = pd.DataFrame(top_features_list).value_counts()[:11].index.to_frame(index=False)[0]"
   ]
  },
  {
   "cell_type": "code",
   "execution_count": 34,
   "metadata": {
    "id": "UlumnwbknRML"
   },
   "outputs": [],
   "source": [
    "least_objects = pd.DataFrame(least_features_list).value_counts()[:10].index.to_frame(index=False)[0]"
   ]
  },
  {
   "cell_type": "code",
   "execution_count": 35,
   "metadata": {
    "id": "qhVNixqJnYqx"
   },
   "outputs": [],
   "source": [
    "common_objs = set(top_objects).intersection(set(least_objects))"
   ]
  },
  {
   "cell_type": "markdown",
   "metadata": {
    "id": "r8eWwfXkydOB"
   },
   "source": [
    "Getting top 10 **most popular** objects which are not shared"
   ]
  },
  {
   "cell_type": "code",
   "execution_count": 36,
   "metadata": {
    "id": "sXQrOhQEnYtp"
   },
   "outputs": [],
   "source": [
    "top_objects = pd.DataFrame(top_features_list).value_counts()[:32].index.to_frame(index=False)[0]"
   ]
  },
  {
   "cell_type": "code",
   "execution_count": 37,
   "metadata": {
    "id": "DXKfnlTYnYyt"
   },
   "outputs": [],
   "source": [
    "least_objects = pd.DataFrame(least_features_list).value_counts()[:32].index.to_frame(index=False)[0]"
   ]
  },
  {
   "cell_type": "code",
   "execution_count": 38,
   "metadata": {
    "id": "n8JM38Yhnykz"
   },
   "outputs": [],
   "source": [
    "most_pop_objcts = set(top_objects) - set(least_objects)"
   ]
  },
  {
   "cell_type": "markdown",
   "metadata": {
    "id": "biNb9sUKymXK"
   },
   "source": [
    "Getting top 10 **least popular** objects which are not shared"
   ]
  },
  {
   "cell_type": "code",
   "execution_count": 39,
   "metadata": {
    "id": "kWA8uMqcnynj"
   },
   "outputs": [],
   "source": [
    "least_objects = pd.DataFrame(least_features_list).value_counts()[-10:].index.to_frame(index=False)[0]"
   ]
  },
  {
   "cell_type": "code",
   "execution_count": 40,
   "metadata": {
    "id": "SK-bL1WXnyqJ"
   },
   "outputs": [],
   "source": [
    "top_objects = pd.DataFrame(top_features_list).value_counts()[:47].index.to_frame(index=False)[0]"
   ]
  },
  {
   "cell_type": "code",
   "execution_count": 41,
   "metadata": {
    "id": "wKqCJh8CnytG"
   },
   "outputs": [],
   "source": [
    "least_pop_objcts = set(least_objects) - set(top_objects)"
   ]
  },
  {
   "cell_type": "code",
   "execution_count": 42,
   "metadata": {
    "colab": {
     "base_uri": "https://localhost:8080/"
    },
    "id": "KQlJCSm-nyvh",
    "outputId": "dcc8376d-3774-4af6-f5df-d98b195a57a6"
   },
   "outputs": [
    {
     "name": "stdout",
     "output_type": "stream",
     "text": [
      "+---------------+------------------+---------------+\n",
      "|     Shared    |      Top 5%      |   Bottom 5%   |\n",
      "+---------------+------------------+---------------+\n",
      "|    envelope   |     fur_coat     |    missile    |\n",
      "|   comic_book  | military_uniform |   limousine   |\n",
      "| digital_clock |      stage       |    obelisk    |\n",
      "|      menu     |   analog_clock   |    mailbox    |\n",
      "| jigsaw_puzzle |    hair_spray    |      mink     |\n",
      "|     screen    |    Chihuahua     |   neck_brace  |\n",
      "|    monitor    |      cinema      |    library    |\n",
      "|   scoreboard  |     ski_mask     | mountain_bike |\n",
      "|  book_jacket  |     toyshop      |    necklace   |\n",
      "|    web_site   |       wig        |     llama     |\n",
      "+---------------+------------------+---------------+\n"
     ]
    }
   ],
   "source": [
    "#showing top 10 words in top 5%, bottom 5% and shared data\n",
    "from prettytable import PrettyTable\n",
    "x = PrettyTable()\n",
    "x.add_column(\"Shared\",list(common_objs))\n",
    "x.add_column(\"Top 5%\",list(most_pop_objcts))\n",
    "x.add_column(\"Bottom 5%\",list(least_pop_objcts))\n",
    "print(x)"
   ]
  },
  {
   "cell_type": "code",
   "execution_count": 43,
   "metadata": {
    "id": "6pyxnzDzn9EP"
   },
   "outputs": [],
   "source": [
    "#list in img_feature column are in form of string, converting them to list\n",
    "org_data['img_feature'] = org_data['img_feature'].apply(literal_eval)"
   ]
  },
  {
   "cell_type": "code",
   "execution_count": 44,
   "metadata": {
    "id": "Kcx49aptq5ES"
   },
   "outputs": [],
   "source": [
    "#now combining all elements of list as one string\n",
    "org_data['img_feature'] = org_data['img_feature'].apply(lambda x: ' '.join(map(str, x)))"
   ]
  },
  {
   "cell_type": "code",
   "execution_count": 45,
   "metadata": {
    "id": "hyT1cnWlq5H5"
   },
   "outputs": [],
   "source": [
    "#storing all the 30 words so that we can use them during bag of words creation\n",
    "vocab_word = []\n",
    "#vocab_word.extend(list(most_pop_objcts))\n",
    "vocab_word.extend(list(least_pop_objcts))\n",
    "vocab_word.extend(list(common_objs))"
   ]
  },
  {
   "cell_type": "code",
   "execution_count": 46,
   "metadata": {
    "id": "xImEaKP6rVUC"
   },
   "outputs": [],
   "source": [
    "#using countvectorizer to create bag of words\n",
    "from sklearn.feature_extraction.text import CountVectorizer"
   ]
  },
  {
   "cell_type": "code",
   "execution_count": 47,
   "metadata": {
    "id": "XmrqjvhyrVar"
   },
   "outputs": [],
   "source": [
    "Countvector = CountVectorizer(vocabulary=vocab_word)"
   ]
  },
  {
   "cell_type": "code",
   "execution_count": 50,
   "metadata": {
    "id": "8L5eWVztrVeM"
   },
   "outputs": [],
   "source": [
    "image_fea_vector = Countvector.fit_transform(org_data['img_feature'])"
   ]
  },
  {
   "cell_type": "code",
   "execution_count": 52,
   "metadata": {
    "id": "9uRgSfonq5LR"
   },
   "outputs": [],
   "source": [
    "image_fea_vector = pd.DataFrame(image_fea_vector.toarray(),columns=Countvector.get_feature_names())"
   ]
  },
  {
   "cell_type": "code",
   "execution_count": 53,
   "metadata": {
    "id": "to3Uff9hYu2T"
   },
   "outputs": [],
   "source": [
    "#joining all bag of word features to original dataset\n",
    "org_data = org_data.reset_index().join(image_fea_vector)"
   ]
  },
  {
   "cell_type": "code",
   "execution_count": 54,
   "metadata": {
    "id": "__c4a-49Yu5K"
   },
   "outputs": [],
   "source": [
    "org_data.drop(['index','img_feature'], axis=1, inplace=True)"
   ]
  },
  {
   "cell_type": "code",
   "execution_count": 55,
   "metadata": {
    "id": "Lhel_XYEYu8F"
   },
   "outputs": [],
   "source": [
    "#saving the dataset\n",
    "org_data.to_csv('df_clean.csv', index=False)"
   ]
  },
  {
   "cell_type": "code",
   "execution_count": null,
   "metadata": {
    "id": "Ihv-5InIYu-u"
   },
   "outputs": [],
   "source": []
  },
  {
   "cell_type": "markdown",
   "metadata": {
    "id": "e1GloxzpZkHc"
   },
   "source": [
    "## **Explorative Data Analysis**"
   ]
  },
  {
   "cell_type": "code",
   "execution_count": 57,
   "metadata": {
    "id": "M1kv6Ip3YvCg"
   },
   "outputs": [],
   "source": [
    "org_data_EDA= pd.read_csv('/content/drive/MyDrive/CS 2/df_clean.csv')"
   ]
  },
  {
   "cell_type": "code",
   "execution_count": 58,
   "metadata": {
    "colab": {
     "base_uri": "https://localhost:8080/",
     "height": 447
    },
    "id": "flrOay4rZxQC",
    "outputId": "6fef0b9e-215f-4350-f099-55e19f32a95c"
   },
   "outputs": [
    {
     "data": {
      "text/html": [
       "<div>\n",
       "<style scoped>\n",
       "    .dataframe tbody tr th:only-of-type {\n",
       "        vertical-align: middle;\n",
       "    }\n",
       "\n",
       "    .dataframe tbody tr th {\n",
       "        vertical-align: top;\n",
       "    }\n",
       "\n",
       "    .dataframe thead th {\n",
       "        text-align: right;\n",
       "    }\n",
       "</style>\n",
       "<table border=\"1\" class=\"dataframe\">\n",
       "  <thead>\n",
       "    <tr style=\"text-align: right;\">\n",
       "      <th></th>\n",
       "      <th>is_original_content</th>\n",
       "      <th>num_comments</th>\n",
       "      <th>over_18</th>\n",
       "      <th>subreddit_subscribers</th>\n",
       "      <th>upvote_ratio</th>\n",
       "      <th>thumbnail_height</th>\n",
       "      <th>thumbnail_width</th>\n",
       "      <th>score</th>\n",
       "      <th>Sentiment_Score</th>\n",
       "      <th>text</th>\n",
       "      <th>num_words</th>\n",
       "      <th>avg_h</th>\n",
       "      <th>avg_s</th>\n",
       "      <th>avg_v</th>\n",
       "      <th>img_feature_pred</th>\n",
       "      <th>dank_or_not</th>\n",
       "      <th>hour</th>\n",
       "      <th>missile</th>\n",
       "      <th>limousine</th>\n",
       "      <th>obelisk</th>\n",
       "      <th>mailbox</th>\n",
       "      <th>mink</th>\n",
       "      <th>neck_brace</th>\n",
       "      <th>library</th>\n",
       "      <th>mountain_bike</th>\n",
       "      <th>necklace</th>\n",
       "      <th>llama</th>\n",
       "      <th>envelope</th>\n",
       "      <th>comic_book</th>\n",
       "      <th>digital_clock</th>\n",
       "      <th>menu</th>\n",
       "      <th>jigsaw_puzzle</th>\n",
       "      <th>screen</th>\n",
       "      <th>monitor</th>\n",
       "      <th>scoreboard</th>\n",
       "      <th>book_jacket</th>\n",
       "      <th>web_site</th>\n",
       "    </tr>\n",
       "  </thead>\n",
       "  <tbody>\n",
       "    <tr>\n",
       "      <th>0</th>\n",
       "      <td>0</td>\n",
       "      <td>4</td>\n",
       "      <td>0</td>\n",
       "      <td>1396025</td>\n",
       "      <td>1.0</td>\n",
       "      <td>140.0</td>\n",
       "      <td>140.0</td>\n",
       "      <td>7.163196e-07</td>\n",
       "      <td>0.48</td>\n",
       "      <td>whatev</td>\n",
       "      <td>1</td>\n",
       "      <td>0</td>\n",
       "      <td>0</td>\n",
       "      <td>0</td>\n",
       "      <td>[0.05935011, 0.047493964, 0.034131162]</td>\n",
       "      <td>0</td>\n",
       "      <td>2</td>\n",
       "      <td>0</td>\n",
       "      <td>0</td>\n",
       "      <td>0</td>\n",
       "      <td>0</td>\n",
       "      <td>0</td>\n",
       "      <td>0</td>\n",
       "      <td>0</td>\n",
       "      <td>0</td>\n",
       "      <td>0</td>\n",
       "      <td>0</td>\n",
       "      <td>0</td>\n",
       "      <td>0</td>\n",
       "      <td>1</td>\n",
       "      <td>0</td>\n",
       "      <td>0</td>\n",
       "      <td>0</td>\n",
       "      <td>0</td>\n",
       "      <td>1</td>\n",
       "      <td>0</td>\n",
       "      <td>1</td>\n",
       "    </tr>\n",
       "    <tr>\n",
       "      <th>1</th>\n",
       "      <td>0</td>\n",
       "      <td>4</td>\n",
       "      <td>0</td>\n",
       "      <td>4363172</td>\n",
       "      <td>1.0</td>\n",
       "      <td>140.0</td>\n",
       "      <td>140.0</td>\n",
       "      <td>2.291911e-07</td>\n",
       "      <td>0.50</td>\n",
       "      <td>NaN</td>\n",
       "      <td>0</td>\n",
       "      <td>0</td>\n",
       "      <td>0</td>\n",
       "      <td>0</td>\n",
       "      <td>[0.05935011, 0.047493964, 0.034131162]</td>\n",
       "      <td>0</td>\n",
       "      <td>12</td>\n",
       "      <td>0</td>\n",
       "      <td>0</td>\n",
       "      <td>0</td>\n",
       "      <td>0</td>\n",
       "      <td>0</td>\n",
       "      <td>0</td>\n",
       "      <td>0</td>\n",
       "      <td>0</td>\n",
       "      <td>0</td>\n",
       "      <td>0</td>\n",
       "      <td>0</td>\n",
       "      <td>0</td>\n",
       "      <td>1</td>\n",
       "      <td>0</td>\n",
       "      <td>0</td>\n",
       "      <td>0</td>\n",
       "      <td>0</td>\n",
       "      <td>1</td>\n",
       "      <td>0</td>\n",
       "      <td>1</td>\n",
       "    </tr>\n",
       "    <tr>\n",
       "      <th>2</th>\n",
       "      <td>0</td>\n",
       "      <td>2</td>\n",
       "      <td>0</td>\n",
       "      <td>14613900</td>\n",
       "      <td>1.0</td>\n",
       "      <td>140.0</td>\n",
       "      <td>140.0</td>\n",
       "      <td>6.842800e-08</td>\n",
       "      <td>0.50</td>\n",
       "      <td>yourselfon choci</td>\n",
       "      <td>2</td>\n",
       "      <td>0</td>\n",
       "      <td>0</td>\n",
       "      <td>0</td>\n",
       "      <td>[0.067652605, 0.06469549, 0.056321584]</td>\n",
       "      <td>0</td>\n",
       "      <td>16</td>\n",
       "      <td>0</td>\n",
       "      <td>0</td>\n",
       "      <td>0</td>\n",
       "      <td>0</td>\n",
       "      <td>0</td>\n",
       "      <td>0</td>\n",
       "      <td>0</td>\n",
       "      <td>0</td>\n",
       "      <td>0</td>\n",
       "      <td>0</td>\n",
       "      <td>0</td>\n",
       "      <td>0</td>\n",
       "      <td>0</td>\n",
       "      <td>0</td>\n",
       "      <td>0</td>\n",
       "      <td>0</td>\n",
       "      <td>0</td>\n",
       "      <td>0</td>\n",
       "      <td>0</td>\n",
       "      <td>0</td>\n",
       "    </tr>\n",
       "    <tr>\n",
       "      <th>3</th>\n",
       "      <td>0</td>\n",
       "      <td>1</td>\n",
       "      <td>0</td>\n",
       "      <td>14629522</td>\n",
       "      <td>1.0</td>\n",
       "      <td>131.0</td>\n",
       "      <td>140.0</td>\n",
       "      <td>6.835493e-08</td>\n",
       "      <td>0.10</td>\n",
       "      <td>becau stonk massiv wallstreetbet badredditor b...</td>\n",
       "      <td>6</td>\n",
       "      <td>0</td>\n",
       "      <td>0</td>\n",
       "      <td>0</td>\n",
       "      <td>[0.9843156, 0.0043508904, 0.0033883443]</td>\n",
       "      <td>0</td>\n",
       "      <td>14</td>\n",
       "      <td>0</td>\n",
       "      <td>0</td>\n",
       "      <td>0</td>\n",
       "      <td>0</td>\n",
       "      <td>0</td>\n",
       "      <td>0</td>\n",
       "      <td>0</td>\n",
       "      <td>0</td>\n",
       "      <td>0</td>\n",
       "      <td>0</td>\n",
       "      <td>0</td>\n",
       "      <td>0</td>\n",
       "      <td>0</td>\n",
       "      <td>0</td>\n",
       "      <td>0</td>\n",
       "      <td>0</td>\n",
       "      <td>0</td>\n",
       "      <td>0</td>\n",
       "      <td>1</td>\n",
       "      <td>1</td>\n",
       "    </tr>\n",
       "    <tr>\n",
       "      <th>4</th>\n",
       "      <td>0</td>\n",
       "      <td>1</td>\n",
       "      <td>0</td>\n",
       "      <td>14603384</td>\n",
       "      <td>1.0</td>\n",
       "      <td>121.0</td>\n",
       "      <td>140.0</td>\n",
       "      <td>6.847728e-08</td>\n",
       "      <td>0.46</td>\n",
       "      <td>guyswhen today happen januari first shine</td>\n",
       "      <td>6</td>\n",
       "      <td>0</td>\n",
       "      <td>0</td>\n",
       "      <td>0</td>\n",
       "      <td>[0.86468834, 0.029700553, 0.0038205122]</td>\n",
       "      <td>0</td>\n",
       "      <td>6</td>\n",
       "      <td>0</td>\n",
       "      <td>0</td>\n",
       "      <td>0</td>\n",
       "      <td>0</td>\n",
       "      <td>0</td>\n",
       "      <td>0</td>\n",
       "      <td>0</td>\n",
       "      <td>0</td>\n",
       "      <td>0</td>\n",
       "      <td>0</td>\n",
       "      <td>0</td>\n",
       "      <td>0</td>\n",
       "      <td>0</td>\n",
       "      <td>0</td>\n",
       "      <td>0</td>\n",
       "      <td>0</td>\n",
       "      <td>0</td>\n",
       "      <td>0</td>\n",
       "      <td>1</td>\n",
       "      <td>1</td>\n",
       "    </tr>\n",
       "  </tbody>\n",
       "</table>\n",
       "</div>"
      ],
      "text/plain": [
       "   is_original_content  num_comments  ...  book_jacket  web_site\n",
       "0                    0             4  ...            0         1\n",
       "1                    0             4  ...            0         1\n",
       "2                    0             2  ...            0         0\n",
       "3                    0             1  ...            1         1\n",
       "4                    0             1  ...            1         1\n",
       "\n",
       "[5 rows x 37 columns]"
      ]
     },
     "execution_count": 58,
     "metadata": {},
     "output_type": "execute_result"
    }
   ],
   "source": [
    "org_data_EDA.head()"
   ]
  },
  {
   "cell_type": "code",
   "execution_count": null,
   "metadata": {
    "id": "wmBssbQ6Z2qz"
   },
   "outputs": [],
   "source": []
  },
  {
   "cell_type": "markdown",
   "metadata": {
    "id": "Ri5ZEhBrbf6A"
   },
   "source": [
    "# <br><br>Exploratory Data Analysis<br>"
   ]
  },
  {
   "cell_type": "code",
   "execution_count": 60,
   "metadata": {
    "id": "WIY6PxXxZ2uj"
   },
   "outputs": [],
   "source": [
    "#Dividing hours in six groups, each group has four hour timeframe. \n",
    "hour_range = []\n",
    "for i in org_data_EDA['hour']:\n",
    "  if i>=0 and i<=4:\n",
    "    hour_range.append('12am-4am')\n",
    "  elif i>4 and i<=8:\n",
    "    hour_range.append('4am-8am')\n",
    "  elif i>8 and i<=12:\n",
    "    hour_range.append('8am-12pm')\n",
    "  elif i>12 and i<=16:\n",
    "    hour_range.append('12pm-4pm')\n",
    "  elif i>16 and i<=20:\n",
    "    hour_range.append('4pm-8pm')\n",
    "  elif i>20 and i<=23:\n",
    "    hour_range.append('8pm-12am')"
   ]
  },
  {
   "cell_type": "code",
   "execution_count": 61,
   "metadata": {
    "id": "b81BYVLWZ2xK"
   },
   "outputs": [],
   "source": [
    "org_data_EDA['hour_range'] = hour_range"
   ]
  },
  {
   "cell_type": "code",
   "execution_count": 62,
   "metadata": {
    "id": "YVzH7rDbar7p"
   },
   "outputs": [],
   "source": [
    "'''\n",
    "groupby the dataset on hour_range column and getting mean of dank_or_not column in these timeframes\n",
    "so that we can find relation between timeframe and dankness of the memes.\n",
    "'''\n",
    "hr_grpby = org_data_EDA.groupby('hour_range')['dank_or_not'].mean()"
   ]
  },
  {
   "cell_type": "code",
   "execution_count": 63,
   "metadata": {
    "colab": {
     "base_uri": "https://localhost:8080/",
     "height": 368
    },
    "id": "DjhiarMhar-n",
    "outputId": "d3f0dae0-3005-4a65-877f-1c13240c5307"
   },
   "outputs": [
    {
     "data": {
      "image/png": "[encoded data removed]",
      "text/plain": [
       "<Figure size 864x360 with 2 Axes>"
      ]
     },
     "metadata": {
      "needs_background": "light"
     },
     "output_type": "display_data"
    }
   ],
   "source": [
    "#plotting graphs\n",
    "plt.figure(figsize=(12,5))\n",
    "\n",
    "plt.subplot(1,2,1)\n",
    "sns.boxplot(x='hour_range', y='score', data=org_data_EDA,showfliers=False)\n",
    "plt.title('timeframe vs normalized score')\n",
    "plt.xticks(rotation=45)\n",
    "\n",
    "plt.subplot(1,2,2)\n",
    "plt.plot(hr_grpby.index,hr_grpby.values)\n",
    "plt.plot(hr_grpby.index,hr_grpby.values, 'ro')\n",
    "plt.title('timeframe vs dankness')\n",
    "plt.xlabel('hour_range')\n",
    "plt.ylabel('dankness (mean of dank in each timeframe)')\n",
    "plt.xticks(rotation=45)\n",
    "\n",
    "plt.tight_layout()\n",
    "plt.show()"
   ]
  },
  {
   "cell_type": "markdown",
   "metadata": {
    "id": "Ee2563V6biC4"
   },
   "source": [
    "### Sentiment score vs Normalized score\n",
    "Here I am trying to find, what should be the sentiment of text in the meme to be dank."
   ]
  },
  {
   "cell_type": "code",
   "execution_count": 68,
   "metadata": {
    "colab": {
     "base_uri": "https://localhost:8080/",
     "height": 350
    },
    "id": "s-Cvb1N5baHi",
    "outputId": "bf638fff-c026-461c-c65d-65100ccda209"
   },
   "outputs": [
    {
     "data": {
      "image/png": "[encoded data removed]",
      "text/plain": [
       "<Figure size 1080x360 with 1 Axes>"
      ]
     },
     "metadata": {
      "needs_background": "light"
     },
     "output_type": "display_data"
    }
   ],
   "source": [
    "#plotting negative, neutral and positive sentiments on same graph\n",
    "plt.figure(figsize=(15,5))\n",
    "#positive\n",
    "plt.scatter(org_data_EDA[org_data_EDA['Sentiment_Score']<0.33]['Sentiment_Score'], org_data_EDA[org_data_EDA['Sentiment_Score']<0.33]['score'])\n",
    "#neutral\n",
    "plt.scatter(org_data_EDA[(org_data_EDA['Sentiment_Score']>=0.33) & (org_data_EDA['Sentiment_Score']<0.66)]['Sentiment_Score'], org_data_EDA[(org_data_EDA['Sentiment_Score']>=0.33) & (org_data_EDA['Sentiment_Score']<0.66)]['score'])\n",
    "#negative\n",
    "plt.scatter(org_data_EDA[org_data_EDA['Sentiment_Score']>0.66]['Sentiment_Score'], org_data_EDA[org_data_EDA['Sentiment_Score']>0.66]['score'])\n",
    "\n",
    "plt.title('Sentiment vs Normalized score')\n",
    "plt.xlabel('Sentiment score')\n",
    "plt.ylabel('Normalized score')\n",
    "plt.legend(['Negative','Neutral','Positive'])\n",
    "plt.show()"
   ]
  },
  {
   "cell_type": "code",
   "execution_count": null,
   "metadata": {
    "id": "Pr4MRLdCbaKY"
   },
   "outputs": [],
   "source": []
  },
  {
   "cell_type": "markdown",
   "metadata": {
    "id": "OTutxkmNdKiA"
   },
   "source": [
    "Text length vs Normalized score"
   ]
  },
  {
   "cell_type": "code",
   "execution_count": 69,
   "metadata": {
    "colab": {
     "base_uri": "https://localhost:8080/",
     "height": 350
    },
    "id": "HPKRFXvJbaNZ",
    "outputId": "bdccd9e3-c9e9-41d6-8f37-075ff49b4f0a"
   },
   "outputs": [
    {
     "data": {
      "image/png": "[encoded data removed]",
      "text/plain": [
       "<Figure size 1080x360 with 1 Axes>"
      ]
     },
     "metadata": {
      "needs_background": "light"
     },
     "output_type": "display_data"
    }
   ],
   "source": [
    "plt.figure(figsize=(15,5))\n",
    "plt.scatter(org_data_EDA['num_words'], org_data_EDA['score'])\n",
    "\n",
    "plt.title('Text length vs Normalized score')\n",
    "plt.xlabel('Number of words in the text')\n",
    "plt.ylabel('Normalized score')\n",
    "plt.show()"
   ]
  },
  {
   "cell_type": "code",
   "execution_count": null,
   "metadata": {
    "id": "yuM1ranlbaQJ"
   },
   "outputs": [],
   "source": []
  },
  {
   "cell_type": "markdown",
   "metadata": {
    "id": "qoceWoAsdecO"
   },
   "source": [
    "**Word cloud for text column**"
   ]
  },
  {
   "cell_type": "code",
   "execution_count": 70,
   "metadata": {
    "colab": {
     "base_uri": "https://localhost:8080/",
     "height": 448
    },
    "id": "3BzPsA7zasBu",
    "outputId": "14770aa2-1b1c-445b-a095-9beadac64926"
   },
   "outputs": [
    {
     "data": {
      "image/png": "[encoded data removed]",
      "text/plain": [
       "<Figure size 1080x720 with 1 Axes>"
      ]
     },
     "metadata": {
      "needs_background": "light"
     },
     "output_type": "display_data"
    }
   ],
   "source": [
    "from wordcloud import WordCloud\n",
    "plt.figure(figsize=(15,10))\n",
    "text = \" \".join(i for i in org_data_EDA['text'].astype(str))\n",
    "wordcloud = WordCloud().generate(text)\n",
    "# Generate plot\n",
    "plt.imshow(wordcloud)\n",
    "plt.axis(\"off\")\n",
    "plt.show()"
   ]
  },
  {
   "cell_type": "markdown",
   "metadata": {
    "id": "Wv8mgu8OeGAH"
   },
   "source": [
    "# **Number of comments vs Normalized score**"
   ]
  },
  {
   "cell_type": "code",
   "execution_count": 71,
   "metadata": {
    "colab": {
     "base_uri": "https://localhost:8080/",
     "height": 295
    },
    "id": "T0j87ayGasEM",
    "outputId": "a569ee9e-594c-4e7a-eaee-dbcb137446bd"
   },
   "outputs": [
    {
     "data": {
      "image/png": "[encoded data removed]",
      "text/plain": [
       "<Figure size 432x288 with 1 Axes>"
      ]
     },
     "metadata": {
      "needs_background": "light"
     },
     "output_type": "display_data"
    }
   ],
   "source": [
    "plt.scatter(org_data_EDA['num_comments'], org_data_EDA['score'])\n",
    "plt.title('Number of comments vs Normalized score')\n",
    "plt.xlabel('Number of comments')\n",
    "plt.ylabel('Normalized score')\n",
    "plt.grid()\n",
    "plt.show()"
   ]
  },
  {
   "cell_type": "markdown",
   "metadata": {
    "id": "cPZMaJBaeV3M"
   },
   "source": [
    "# **Thumbnail height and width vs normalized score**"
   ]
  },
  {
   "cell_type": "code",
   "execution_count": 72,
   "metadata": {
    "colab": {
     "base_uri": "https://localhost:8080/",
     "height": 368
    },
    "id": "Yb7Pa7fQeYEU",
    "outputId": "545111bd-51fa-4e17-9bd1-00c719b2e651"
   },
   "outputs": [
    {
     "data": {
      "image/png": "[encoded data removed]",
      "text/plain": [
       "<Figure size 1080x360 with 2 Axes>"
      ]
     },
     "metadata": {
      "needs_background": "light"
     },
     "output_type": "display_data"
    }
   ],
   "source": [
    "#thumbnail height\n",
    "plt.figure(figsize=(15,5))\n",
    "plt.subplot(1,2,1)\n",
    "plt.scatter(org_data_EDA['thumbnail_height'], org_data_EDA['score'], color='orange')\n",
    "plt.title('Thumbnail height vs score')\n",
    "plt.xlabel('Thumbnail height')\n",
    "plt.ylabel('Normalized score')\n",
    "plt.grid()\n",
    "\n",
    "#thumbnail width\n",
    "plt.subplot(1,2,2)\n",
    "plt.scatter(org_data_EDA['thumbnail_width'], org_data_EDA['score'],color='green')\n",
    "plt.title('Thumbnail width vs score')\n",
    "plt.xlabel('Thumbnail width')\n",
    "plt.ylabel('Normalized score')\n",
    "plt.grid()\n",
    "\n",
    "plt.tight_layout()\n",
    "plt.show()"
   ]
  },
  {
   "cell_type": "code",
   "execution_count": null,
   "metadata": {
    "id": "OfcvwC5LefI7"
   },
   "outputs": [],
   "source": []
  },
  {
   "cell_type": "code",
   "execution_count": null,
   "metadata": {
    "id": "BPiiIhIWefLq"
   },
   "outputs": [],
   "source": []
  }
 ],
 "metadata": {
  "accelerator": "GPU",
  "colab": {
   "collapsed_sections": [],
   "name": "Data_C_E_FEcoding",
   "provenance": []
  },
  "kernelspec": {
   "display_name": "Python 3",
   "language": "python",
   "name": "python3"
  },
  "language_info": {
   "codemirror_mode": {
    "name": "ipython",
    "version": 3
   },
   "file_extension": ".py",
   "mimetype": "text/x-python",
   "name": "python",
   "nbconvert_exporter": "python",
   "pygments_lexer": "ipython3",
   "version": "3.8.8"
  }
 },
 "nbformat": 4,
 "nbformat_minor": 1
}
