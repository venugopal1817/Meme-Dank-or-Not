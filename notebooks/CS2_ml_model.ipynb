{
 "cells": [
  {
   "cell_type": "markdown",
   "id": "HK46F9FZhTfM",
   "metadata": {
    "id": "HK46F9FZhTfM"
   },
   "source": [
    "In this notebook I am going to use machine learning algorithm for model creation.<br>\n",
    "I am going to use two machine learning algorithms:\n",
    "1. Random Forest Classifier\n",
    "2. Gradient Boosting Classifier"
   ]
  },
  {
   "cell_type": "code",
   "execution_count": 1,
   "id": "excellent-maria",
   "metadata": {
    "id": "excellent-maria"
   },
   "outputs": [],
   "source": [
    "import pandas as pd\n",
    "import numpy as np\n",
    "import matplotlib.pyplot as plt\n",
    "from matplotlib import pyplot\n",
    "import seaborn as sns\n",
    "import warnings\n",
    "warnings.filterwarnings(\"ignore\")"
   ]
  },
  {
   "cell_type": "markdown",
   "id": "Z5JmeHQ-TIzF",
   "metadata": {
    "id": "Z5JmeHQ-TIzF"
   },
   "source": [
    "### Feature selection using Random Forest and Gradient Boosting\n",
    "Here I am going to select important features from the dataset for classification with the help of Random Forest and Gradient Boosting classification algorithms. I wll train a model using these algorithms and get feature importance score for each features and according to feature importance score I will select features"
   ]
  },
  {
   "cell_type": "code",
   "execution_count": 2,
   "id": "CfrIfLkIE2HG",
   "metadata": {
    "id": "CfrIfLkIE2HG"
   },
   "outputs": [],
   "source": [
    "data = pd.read_csv(\"E:/Venu/aaic assignments/Venu_CS2/data/df_clean.csv\")"
   ]
  },
  {
   "cell_type": "code",
   "execution_count": 3,
   "id": "BYcVKlak3DFJ",
   "metadata": {
    "colab": {
     "base_uri": "https://localhost:8080/",
     "height": 447
    },
    "id": "BYcVKlak3DFJ",
    "outputId": "de59fde4-1a7e-4e49-ac00-e797efb5427a"
   },
   "outputs": [
    {
     "data": {
      "text/html": [
       "<div>\n",
       "<style scoped>\n",
       "    .dataframe tbody tr th:only-of-type {\n",
       "        vertical-align: middle;\n",
       "    }\n",
       "\n",
       "    .dataframe tbody tr th {\n",
       "        vertical-align: top;\n",
       "    }\n",
       "\n",
       "    .dataframe thead th {\n",
       "        text-align: right;\n",
       "    }\n",
       "</style>\n",
       "<table border=\"1\" class=\"dataframe\">\n",
       "  <thead>\n",
       "    <tr style=\"text-align: right;\">\n",
       "      <th></th>\n",
       "      <th>is_original_content</th>\n",
       "      <th>num_comments</th>\n",
       "      <th>over_18</th>\n",
       "      <th>subreddit_subscribers</th>\n",
       "      <th>upvote_ratio</th>\n",
       "      <th>thumbnail_height</th>\n",
       "      <th>thumbnail_width</th>\n",
       "      <th>score</th>\n",
       "      <th>Sentiment_Score</th>\n",
       "      <th>text</th>\n",
       "      <th>...</th>\n",
       "      <th>envelope</th>\n",
       "      <th>comic_book</th>\n",
       "      <th>digital_clock</th>\n",
       "      <th>menu</th>\n",
       "      <th>jigsaw_puzzle</th>\n",
       "      <th>screen</th>\n",
       "      <th>monitor</th>\n",
       "      <th>scoreboard</th>\n",
       "      <th>book_jacket</th>\n",
       "      <th>web_site</th>\n",
       "    </tr>\n",
       "  </thead>\n",
       "  <tbody>\n",
       "    <tr>\n",
       "      <th>0</th>\n",
       "      <td>0</td>\n",
       "      <td>4</td>\n",
       "      <td>0</td>\n",
       "      <td>1396025</td>\n",
       "      <td>1.0</td>\n",
       "      <td>140</td>\n",
       "      <td>140</td>\n",
       "      <td>7.163196e-07</td>\n",
       "      <td>0.48</td>\n",
       "      <td>whatev</td>\n",
       "      <td>...</td>\n",
       "      <td>0</td>\n",
       "      <td>0</td>\n",
       "      <td>1</td>\n",
       "      <td>0</td>\n",
       "      <td>0</td>\n",
       "      <td>0</td>\n",
       "      <td>0</td>\n",
       "      <td>1</td>\n",
       "      <td>0</td>\n",
       "      <td>1</td>\n",
       "    </tr>\n",
       "    <tr>\n",
       "      <th>1</th>\n",
       "      <td>0</td>\n",
       "      <td>4</td>\n",
       "      <td>0</td>\n",
       "      <td>4363172</td>\n",
       "      <td>1.0</td>\n",
       "      <td>140</td>\n",
       "      <td>140</td>\n",
       "      <td>2.291911e-07</td>\n",
       "      <td>0.50</td>\n",
       "      <td>NaN</td>\n",
       "      <td>...</td>\n",
       "      <td>0</td>\n",
       "      <td>0</td>\n",
       "      <td>1</td>\n",
       "      <td>0</td>\n",
       "      <td>0</td>\n",
       "      <td>0</td>\n",
       "      <td>0</td>\n",
       "      <td>1</td>\n",
       "      <td>0</td>\n",
       "      <td>1</td>\n",
       "    </tr>\n",
       "    <tr>\n",
       "      <th>2</th>\n",
       "      <td>0</td>\n",
       "      <td>2</td>\n",
       "      <td>0</td>\n",
       "      <td>14613900</td>\n",
       "      <td>1.0</td>\n",
       "      <td>140</td>\n",
       "      <td>140</td>\n",
       "      <td>6.842800e-08</td>\n",
       "      <td>0.50</td>\n",
       "      <td>yourselfon choci</td>\n",
       "      <td>...</td>\n",
       "      <td>0</td>\n",
       "      <td>0</td>\n",
       "      <td>0</td>\n",
       "      <td>0</td>\n",
       "      <td>0</td>\n",
       "      <td>0</td>\n",
       "      <td>0</td>\n",
       "      <td>0</td>\n",
       "      <td>0</td>\n",
       "      <td>0</td>\n",
       "    </tr>\n",
       "    <tr>\n",
       "      <th>3</th>\n",
       "      <td>0</td>\n",
       "      <td>1</td>\n",
       "      <td>0</td>\n",
       "      <td>14629522</td>\n",
       "      <td>1.0</td>\n",
       "      <td>131</td>\n",
       "      <td>140</td>\n",
       "      <td>6.835493e-08</td>\n",
       "      <td>0.10</td>\n",
       "      <td>becau stonk massiv wallstreetbet badredditor b...</td>\n",
       "      <td>...</td>\n",
       "      <td>0</td>\n",
       "      <td>0</td>\n",
       "      <td>0</td>\n",
       "      <td>0</td>\n",
       "      <td>0</td>\n",
       "      <td>0</td>\n",
       "      <td>0</td>\n",
       "      <td>0</td>\n",
       "      <td>1</td>\n",
       "      <td>1</td>\n",
       "    </tr>\n",
       "    <tr>\n",
       "      <th>4</th>\n",
       "      <td>0</td>\n",
       "      <td>1</td>\n",
       "      <td>0</td>\n",
       "      <td>14603384</td>\n",
       "      <td>1.0</td>\n",
       "      <td>121</td>\n",
       "      <td>140</td>\n",
       "      <td>6.847728e-08</td>\n",
       "      <td>0.46</td>\n",
       "      <td>guyswhen today happen januari first shine</td>\n",
       "      <td>...</td>\n",
       "      <td>0</td>\n",
       "      <td>0</td>\n",
       "      <td>0</td>\n",
       "      <td>0</td>\n",
       "      <td>0</td>\n",
       "      <td>0</td>\n",
       "      <td>0</td>\n",
       "      <td>0</td>\n",
       "      <td>1</td>\n",
       "      <td>1</td>\n",
       "    </tr>\n",
       "  </tbody>\n",
       "</table>\n",
       "<p>5 rows × 34 columns</p>\n",
       "</div>"
      ],
      "text/plain": [
       "   is_original_content  num_comments  over_18  subreddit_subscribers  \\\n",
       "0                    0             4        0                1396025   \n",
       "1                    0             4        0                4363172   \n",
       "2                    0             2        0               14613900   \n",
       "3                    0             1        0               14629522   \n",
       "4                    0             1        0               14603384   \n",
       "\n",
       "   upvote_ratio  thumbnail_height  thumbnail_width         score  \\\n",
       "0           1.0               140              140  7.163196e-07   \n",
       "1           1.0               140              140  2.291911e-07   \n",
       "2           1.0               140              140  6.842800e-08   \n",
       "3           1.0               131              140  6.835493e-08   \n",
       "4           1.0               121              140  6.847728e-08   \n",
       "\n",
       "   Sentiment_Score                                               text  ...  \\\n",
       "0             0.48                                             whatev  ...   \n",
       "1             0.50                                                NaN  ...   \n",
       "2             0.50                                   yourselfon choci  ...   \n",
       "3             0.10  becau stonk massiv wallstreetbet badredditor b...  ...   \n",
       "4             0.46          guyswhen today happen januari first shine  ...   \n",
       "\n",
       "   envelope comic_book  digital_clock  menu  jigsaw_puzzle  screen  monitor  \\\n",
       "0         0          0              1     0              0       0        0   \n",
       "1         0          0              1     0              0       0        0   \n",
       "2         0          0              0     0              0       0        0   \n",
       "3         0          0              0     0              0       0        0   \n",
       "4         0          0              0     0              0       0        0   \n",
       "\n",
       "   scoreboard  book_jacket  web_site  \n",
       "0           1            0         1  \n",
       "1           1            0         1  \n",
       "2           0            0         0  \n",
       "3           0            1         1  \n",
       "4           0            1         1  \n",
       "\n",
       "[5 rows x 34 columns]"
      ]
     },
     "execution_count": 3,
     "metadata": {},
     "output_type": "execute_result"
    }
   ],
   "source": [
    "data.head()"
   ]
  },
  {
   "cell_type": "code",
   "execution_count": null,
   "id": "bfe49bcf",
   "metadata": {},
   "outputs": [],
   "source": []
  },
  {
   "cell_type": "code",
   "execution_count": 4,
   "id": "0HqHsNm1M6RQ",
   "metadata": {
    "id": "0HqHsNm1M6RQ"
   },
   "outputs": [],
   "source": [
    "'''\n",
    "during object detection in image I have exteacted 3 objects with their respective probabilities. The probability values\n",
    "are stored in a list and list is in the form of string. SO I am going to convert them back to list and will make three\n",
    "different features for these probabilities.\n",
    "'''\n",
    "\n",
    "#converting lists of string type to list\n",
    "from ast import literal_eval\n",
    "data['img_feature_pred'] = data['img_feature_pred'].apply(literal_eval)"
   ]
  },
  {
   "cell_type": "code",
   "execution_count": 5,
   "id": "6RfS1ApvNIsd",
   "metadata": {
    "id": "6RfS1ApvNIsd"
   },
   "outputs": [],
   "source": [
    "#getting probabitity values in three different lists to make them as seperate features\n",
    "image_feature_pred_val_1 = []\n",
    "image_feature_pred_val_2 = []\n",
    "image_feature_pred_val_3 = []\n",
    "for i in data['img_feature_pred']:\n",
    "  image_feature_pred_val_1.append(i[0])\n",
    "  image_feature_pred_val_2.append(i[1])\n",
    "  image_feature_pred_val_3.append(i[2])"
   ]
  },
  {
   "cell_type": "code",
   "execution_count": 6,
   "id": "myKXsZ6rNdGa",
   "metadata": {
    "id": "myKXsZ6rNdGa"
   },
   "outputs": [],
   "source": [
    "#creating features for probability values\n",
    "data['img_feature_pred_1'] = image_feature_pred_val_1\n",
    "data['img_feature_pred_2'] = image_feature_pred_val_2\n",
    "data['img_feature_pred_3'] = image_feature_pred_val_3"
   ]
  },
  {
   "cell_type": "markdown",
   "id": "fviJqt6XV0Fs",
   "metadata": {
    "id": "fviJqt6XV0Fs"
   },
   "source": [
    "Since our project is to predict the dankness of the meme and it will be done before posting the meme on social networking sites. So, before posting data such as num_comments, upvote_ratio, score etc will not be available for the post and also it will be good if we predict the dankness of memes irrespective of subscribers count on the page. So, I am going to drop those features."
   ]
  },
  {
   "cell_type": "code",
   "execution_count": 7,
   "id": "cCBvL5j1NoGL",
   "metadata": {
    "id": "cCBvL5j1NoGL"
   },
   "outputs": [],
   "source": [
    "#dropping features as discussed above\n",
    "data.drop(['img_feature_pred','text','is_original_content','num_comments','upvote_ratio','score','subreddit_subscribers'], axis=1, inplace=True)"
   ]
  },
  {
   "cell_type": "code",
   "execution_count": 8,
   "id": "aX25UEesPZcQ",
   "metadata": {
    "id": "aX25UEesPZcQ"
   },
   "outputs": [],
   "source": [
    "#seperating dependent and independent features\n",
    "target = data['dank_or_not']\n",
    "input = data.drop(['dank_or_not'], axis=1)"
   ]
  },
  {
   "cell_type": "code",
   "execution_count": 9,
   "id": "ngqsgWdKnc7B",
   "metadata": {
    "id": "ngqsgWdKnc7B"
   },
   "outputs": [],
   "source": [
    "#splitting the dataset in train and test datasets\n",
    "from sklearn.model_selection import train_test_split\n",
    "X_train,X_test,y_train,y_test = train_test_split(input,target, test_size=0.2)"
   ]
  },
  {
   "cell_type": "code",
   "execution_count": 11,
   "id": "_Xcsf-IaoFGx",
   "metadata": {
    "colab": {
     "base_uri": "https://localhost:8080/",
     "height": 296
    },
    "id": "_Xcsf-IaoFGx",
    "outputId": "648c273c-ec85-4f78-dc2c-3a43899bc188"
   },
   "outputs": [
    {
     "data": {
      "image/png": "[encoded data removed]",
      "text/plain": [
       "<Figure size 432x288 with 1 Axes>"
      ]
     },
     "metadata": {
      "needs_background": "light"
     },
     "output_type": "display_data"
    }
   ],
   "source": [
    "#checking for ratio of labels in train dataset\n",
    "sns.countplot(y_train)\n",
    "plt.title('Count of labels in train set')\n",
    "plt.show()"
   ]
  },
  {
   "cell_type": "code",
   "execution_count": 12,
   "id": "-Qf6EzSooxhc",
   "metadata": {
    "colab": {
     "base_uri": "https://localhost:8080/",
     "height": 296
    },
    "id": "-Qf6EzSooxhc",
    "outputId": "ff4f1663-f184-4528-fdad-f6d5dd12578c"
   },
   "outputs": [
    {
     "data": {
      "image/png": "[encoded data removed]",
      "text/plain": [
       "<Figure size 432x288 with 1 Axes>"
      ]
     },
     "metadata": {
      "needs_background": "light"
     },
     "output_type": "display_data"
    }
   ],
   "source": [
    "#checking for ratio of labels in test dataset\n",
    "sns.countplot(y_test)\n",
    "plt.title('Count of labels in test set')\n",
    "plt.show()"
   ]
  },
  {
   "cell_type": "code",
   "execution_count": 53,
   "id": "fdfae37d",
   "metadata": {},
   "outputs": [
    {
     "name": "stdout",
     "output_type": "stream",
     "text": [
      "Collecting imbalanced-learnNote: you may need to restart the kernel to use updated packages.\n",
      "\n",
      "  Downloading imbalanced_learn-0.8.1-py3-none-any.whl (189 kB)\n",
      "Requirement already satisfied: numpy>=1.13.3 in c:\\users\\hp\\anaconda3\\lib\\site-packages (from imbalanced-learn) (1.19.5)\n",
      "Requirement already satisfied: scipy>=0.19.1 in c:\\users\\hp\\anaconda3\\lib\\site-packages (from imbalanced-learn) (1.6.2)\n",
      "Requirement already satisfied: scikit-learn>=0.24 in c:\\users\\hp\\anaconda3\\lib\\site-packages (from imbalanced-learn) (0.24.1)\n",
      "Requirement already satisfied: joblib>=0.11 in c:\\users\\hp\\anaconda3\\lib\\site-packages (from imbalanced-learn) (1.0.1)\n",
      "Requirement already satisfied: threadpoolctl>=2.0.0 in c:\\users\\hp\\anaconda3\\lib\\site-packages (from scikit-learn>=0.24->imbalanced-learn) (2.1.0)\n",
      "Installing collected packages: imbalanced-learn\n",
      "Successfully installed imbalanced-learn-0.8.1\n"
     ]
    }
   ],
   "source": [
    "pip install -U imbalanced-learn"
   ]
  },
  {
   "cell_type": "markdown",
   "id": "dPsgDA4puy4Q",
   "metadata": {
    "id": "dPsgDA4puy4Q"
   },
   "source": [
    "Ratio of labels in both train and test set is same and imbalanced."
   ]
  },
  {
   "cell_type": "code",
   "execution_count": 32,
   "id": "PvfBSebpo2b3",
   "metadata": {
    "id": "PvfBSebpo2b3"
   },
   "outputs": [],
   "source": [
    "#importing libraries to train models and get metrics values\n",
    "from sklearn.ensemble import RandomForestClassifier\n",
    "from sklearn.ensemble import GradientBoostingClassifier\n",
    "from imblearn.ensemble import BalancedBaggingClassifier\n",
    "from sklearn.model_selection import GridSearchCV\n",
    "from sklearn.metrics import accuracy_score, precision_score, recall_score, f1_score\n",
    "from sklearn.metrics import roc_curve, make_scorer\n",
    "from sklearn.metrics import roc_auc_score, confusion_matrix"
   ]
  },
  {
   "cell_type": "code",
   "execution_count": 15,
   "id": "x1NSl6cyvun_",
   "metadata": {
    "id": "x1NSl6cyvun_"
   },
   "outputs": [],
   "source": [
    "#parameter value to perform gridsearch cv\n",
    "parameters = {'n_estimators' : [50, 100, 500]}\n",
    "#using random forest classifier to get feature importance\n",
    "Random_forest = RandomForestClassifier()\n",
    "RF_clf = GridSearchCV(Random_forest, parameters , cv=3, scoring='roc_auc') "
   ]
  },
  {
   "cell_type": "code",
   "execution_count": 16,
   "id": "MOLIdrDHv9zl",
   "metadata": {
    "colab": {
     "base_uri": "https://localhost:8080/"
    },
    "id": "MOLIdrDHv9zl",
    "outputId": "f169e7a0-9fb4-498f-e36a-1f3956e22b3f"
   },
   "outputs": [
    {
     "data": {
      "text/plain": [
       "GridSearchCV(cv=3, estimator=RandomForestClassifier(),\n",
       "             param_grid={'n_estimators': [50, 100, 500]}, scoring='roc_auc')"
      ]
     },
     "execution_count": 16,
     "metadata": {},
     "output_type": "execute_result"
    }
   ],
   "source": [
    "RF_clf.fit(X_train, y_train)"
   ]
  },
  {
   "cell_type": "code",
   "execution_count": 17,
   "id": "ZaP3Zq1OVXWh",
   "metadata": {
    "colab": {
     "base_uri": "https://localhost:8080/"
    },
    "id": "ZaP3Zq1OVXWh",
    "outputId": "c268b8f5-8633-4673-86c9-5706c21cb028"
   },
   "outputs": [
    {
     "data": {
      "text/plain": [
       "{'n_estimators': 500}"
      ]
     },
     "execution_count": 17,
     "metadata": {},
     "output_type": "execute_result"
    }
   ],
   "source": [
    "RF_clf.best_params_"
   ]
  },
  {
   "cell_type": "code",
   "execution_count": 18,
   "id": "1cO3NUH4VwrN",
   "metadata": {
    "colab": {
     "base_uri": "https://localhost:8080/"
    },
    "id": "1cO3NUH4VwrN",
    "outputId": "e290783e-eda3-4f6d-8f7e-ecba6ea3d0db"
   },
   "outputs": [
    {
     "data": {
      "text/plain": [
       "RandomForestClassifier(n_estimators=500)"
      ]
     },
     "execution_count": 18,
     "metadata": {},
     "output_type": "execute_result"
    }
   ],
   "source": [
    "R_F = RandomForestClassifier(n_estimators=RF_clf.best_params_['n_estimators'])\n",
    "R_F.fit(X_train, y_train)"
   ]
  },
  {
   "cell_type": "code",
   "execution_count": 19,
   "id": "smRfS1smwIXN",
   "metadata": {
    "id": "smRfS1smwIXN"
   },
   "outputs": [],
   "source": [
    "#saving feature name and their corresponding importance of random forest in a dictionary\n",
    "RF_imp_fea = {}\n",
    "for fea, imp in zip(X_train.columns, R_F.feature_importances_):\n",
    "\tRF_imp_fea[fea] = imp\n",
    "\n",
    "#sorting the dictionary\n",
    "RF_imp_fea = dict(sorted(RF_imp_fea.items(), key=lambda item: item[1]))"
   ]
  },
  {
   "cell_type": "code",
   "execution_count": 20,
   "id": "OeJlSLUNGcR6",
   "metadata": {
    "id": "OeJlSLUNGcR6"
   },
   "outputs": [],
   "source": [
    "#using gradient boosting classifier to get feature importance\n",
    "grad_boosting = GradientBoostingClassifier()\n",
    "GB_clf = GridSearchCV(grad_boosting, parameters , cv=3, scoring='roc_auc') "
   ]
  },
  {
   "cell_type": "code",
   "execution_count": 21,
   "id": "OEOcucaQGcae",
   "metadata": {
    "colab": {
     "base_uri": "https://localhost:8080/"
    },
    "id": "OEOcucaQGcae",
    "outputId": "f7e7f1fe-f728-45f2-89ad-33ba7dffb2fc"
   },
   "outputs": [
    {
     "data": {
      "text/plain": [
       "GridSearchCV(cv=3, estimator=GradientBoostingClassifier(),\n",
       "             param_grid={'n_estimators': [50, 100, 500]}, scoring='roc_auc')"
      ]
     },
     "execution_count": 21,
     "metadata": {},
     "output_type": "execute_result"
    }
   ],
   "source": [
    "GB_clf.fit(X_train,y_train)"
   ]
  },
  {
   "cell_type": "code",
   "execution_count": 22,
   "id": "FhSv2gWy5VyK",
   "metadata": {
    "colab": {
     "base_uri": "https://localhost:8080/"
    },
    "id": "FhSv2gWy5VyK",
    "outputId": "ed1a2f52-b30b-4cd6-ba79-09a0c937df0f"
   },
   "outputs": [
    {
     "data": {
      "text/plain": [
       "{'n_estimators': 50}"
      ]
     },
     "execution_count": 22,
     "metadata": {},
     "output_type": "execute_result"
    }
   ],
   "source": [
    "GB_clf.best_params_"
   ]
  },
  {
   "cell_type": "code",
   "execution_count": 23,
   "id": "BCW-Lv1l7hFS",
   "metadata": {
    "colab": {
     "base_uri": "https://localhost:8080/"
    },
    "id": "BCW-Lv1l7hFS",
    "outputId": "9e462010-33db-41e1-d3b2-8619cdb57f0b"
   },
   "outputs": [
    {
     "data": {
      "text/plain": [
       "GradientBoostingClassifier(n_estimators=50)"
      ]
     },
     "execution_count": 23,
     "metadata": {},
     "output_type": "execute_result"
    }
   ],
   "source": [
    "grad_boosting_ = GradientBoostingClassifier(n_estimators=GB_clf.best_params_['n_estimators'])\n",
    "grad_boosting_.fit(X_train, y_train)"
   ]
  },
  {
   "cell_type": "code",
   "execution_count": 24,
   "id": "UKXzdzBdGchB",
   "metadata": {
    "id": "UKXzdzBdGchB"
   },
   "outputs": [],
   "source": [
    "#saving feature name and their corresponding importance of gradient boosting in a dictionary\n",
    "GB_imp_fea = {}\n",
    "for fea, imp in zip(X_train.columns, grad_boosting_.feature_importances_):\n",
    "\tGB_imp_fea[fea] = imp"
   ]
  },
  {
   "cell_type": "code",
   "execution_count": 25,
   "id": "lsFnB802Gcn9",
   "metadata": {
    "colab": {
     "base_uri": "https://localhost:8080/",
     "height": 892
    },
    "id": "lsFnB802Gcn9",
    "outputId": "800b2199-6d55-4cdf-bccd-51e86f60cf33"
   },
   "outputs": [
    {
     "data": {
      "image/png": "[encoded data removed]",
      "text/plain": [
       "<Figure size 360x1080 with 1 Axes>"
      ]
     },
     "metadata": {
      "needs_background": "light"
     },
     "output_type": "display_data"
    }
   ],
   "source": [
    "# plot feature importance\n",
    "plt.figure(figsize=(5,15))\n",
    "pyplot.barh(list(RF_imp_fea.keys()), RF_imp_fea.values())\n",
    "pyplot.barh(list(GB_imp_fea.keys()), GB_imp_fea.values(),alpha=0.5)\n",
    "plt.title('Features vs Importance')\n",
    "plt.xlabel('Importance score')\n",
    "plt.ylabel('Features')\n",
    "plt.legend(['Random Forest', 'Gradient Boosting'])\n",
    "pyplot.show()"
   ]
  },
  {
   "cell_type": "markdown",
   "id": "RxMc4EjSasrM",
   "metadata": {
    "id": "RxMc4EjSasrM"
   },
   "source": [
    "Here we can see that both the models have shown almost same feature importance with some variability. \n",
    "* Some of the features like thumbnail height, number of words, hour of posting the meme and sentiment score are playing major role in classifying memes.\n",
    "* Hue, saturation and value of the images are playing important role.\n",
    "* Colors which are extracted from the meme images such as gray, white, faded colors, black, dark blue, goldish, light blue, brown, yellow, dark cyan, light orange, dark green, cyan, off-white, dark red, dark orange and light red are important.\n",
    "* Very few objects which were extracted from images such as website, book jacket, packet and mud turtle are important but their probabilities (three objects of an image) are very important.\n",
    "\n",
    "<br>\n",
    "Now, extracting important fatures from the dataset to train the model\n"
   ]
  },
  {
   "cell_type": "code",
   "execution_count": 10,
   "id": "fxIpNPa6GcxJ",
   "metadata": {
    "id": "fxIpNPa6GcxJ"
   },
   "outputs": [],
   "source": [
    "df_imp_feature = data[['img_feature_pred_1','img_feature_pred_2','img_feature_pred_3','Sentiment_Score','hour',\n",
    "    'num_words','thumbnail_height','web_site','envelope','library','comic_book','menu','jigsaw_puzzle','scoreboard','monitor','screen','digital_clock','mountain_bike', 'book_jacket','dank_or_not']]"
   ]
  },
  {
   "cell_type": "code",
   "execution_count": 11,
   "id": "Mugb93sz5HI_",
   "metadata": {
    "id": "Mugb93sz5HI_"
   },
   "outputs": [],
   "source": [
    "#saving dataset containing important features\n",
    "df_imp_feature.to_csv('df_imp_feature.csv', index=False)"
   ]
  },
  {
   "cell_type": "markdown",
   "id": "NnZQhBYzmBac",
   "metadata": {
    "id": "NnZQhBYzmBac"
   },
   "source": [
    "# **Model creation**"
   ]
  },
  {
   "cell_type": "code",
   "execution_count": 12,
   "id": "crkbfzz56XEt",
   "metadata": {
    "id": "crkbfzz56XEt"
   },
   "outputs": [],
   "source": [
    "data1 = pd.read_csv(\"E:/Venu/aaic assignments/Venu_CS2/data/df_imp_feature.csv\")"
   ]
  },
  {
   "cell_type": "code",
   "execution_count": 13,
   "id": "p7o_HQ3R-p8O",
   "metadata": {
    "colab": {
     "base_uri": "https://localhost:8080/"
    },
    "id": "p7o_HQ3R-p8O",
    "outputId": "bb19417d-73b0-45ea-ef74-5c8338904ac5"
   },
   "outputs": [
    {
     "data": {
      "text/plain": [
       "(12995, 20)"
      ]
     },
     "execution_count": 13,
     "metadata": {},
     "output_type": "execute_result"
    }
   ],
   "source": [
    "data1.shape"
   ]
  },
  {
   "cell_type": "code",
   "execution_count": 14,
   "id": "DVRJKmUb_c_N",
   "metadata": {
    "colab": {
     "base_uri": "https://localhost:8080/",
     "height": 220
    },
    "id": "DVRJKmUb_c_N",
    "outputId": "b9c657ad-6cbb-4226-dfe2-8cf0f3a85c93"
   },
   "outputs": [
    {
     "data": {
      "text/html": [
       "<div>\n",
       "<style scoped>\n",
       "    .dataframe tbody tr th:only-of-type {\n",
       "        vertical-align: middle;\n",
       "    }\n",
       "\n",
       "    .dataframe tbody tr th {\n",
       "        vertical-align: top;\n",
       "    }\n",
       "\n",
       "    .dataframe thead th {\n",
       "        text-align: right;\n",
       "    }\n",
       "</style>\n",
       "<table border=\"1\" class=\"dataframe\">\n",
       "  <thead>\n",
       "    <tr style=\"text-align: right;\">\n",
       "      <th></th>\n",
       "      <th>img_feature_pred_1</th>\n",
       "      <th>img_feature_pred_2</th>\n",
       "      <th>img_feature_pred_3</th>\n",
       "      <th>Sentiment_Score</th>\n",
       "      <th>hour</th>\n",
       "      <th>num_words</th>\n",
       "      <th>thumbnail_height</th>\n",
       "      <th>web_site</th>\n",
       "      <th>envelope</th>\n",
       "      <th>library</th>\n",
       "      <th>comic_book</th>\n",
       "      <th>menu</th>\n",
       "      <th>jigsaw_puzzle</th>\n",
       "      <th>scoreboard</th>\n",
       "      <th>monitor</th>\n",
       "      <th>screen</th>\n",
       "      <th>digital_clock</th>\n",
       "      <th>mountain_bike</th>\n",
       "      <th>book_jacket</th>\n",
       "      <th>dank_or_not</th>\n",
       "    </tr>\n",
       "  </thead>\n",
       "  <tbody>\n",
       "    <tr>\n",
       "      <th>0</th>\n",
       "      <td>0.059350</td>\n",
       "      <td>0.047494</td>\n",
       "      <td>0.034131</td>\n",
       "      <td>0.48</td>\n",
       "      <td>2</td>\n",
       "      <td>1</td>\n",
       "      <td>140.0</td>\n",
       "      <td>1</td>\n",
       "      <td>0</td>\n",
       "      <td>0</td>\n",
       "      <td>0</td>\n",
       "      <td>0</td>\n",
       "      <td>0</td>\n",
       "      <td>1</td>\n",
       "      <td>0</td>\n",
       "      <td>0</td>\n",
       "      <td>1</td>\n",
       "      <td>0</td>\n",
       "      <td>0</td>\n",
       "      <td>0</td>\n",
       "    </tr>\n",
       "    <tr>\n",
       "      <th>1</th>\n",
       "      <td>0.059350</td>\n",
       "      <td>0.047494</td>\n",
       "      <td>0.034131</td>\n",
       "      <td>0.50</td>\n",
       "      <td>12</td>\n",
       "      <td>0</td>\n",
       "      <td>140.0</td>\n",
       "      <td>1</td>\n",
       "      <td>0</td>\n",
       "      <td>0</td>\n",
       "      <td>0</td>\n",
       "      <td>0</td>\n",
       "      <td>0</td>\n",
       "      <td>1</td>\n",
       "      <td>0</td>\n",
       "      <td>0</td>\n",
       "      <td>1</td>\n",
       "      <td>0</td>\n",
       "      <td>0</td>\n",
       "      <td>0</td>\n",
       "    </tr>\n",
       "    <tr>\n",
       "      <th>2</th>\n",
       "      <td>0.067653</td>\n",
       "      <td>0.064695</td>\n",
       "      <td>0.056322</td>\n",
       "      <td>0.50</td>\n",
       "      <td>16</td>\n",
       "      <td>2</td>\n",
       "      <td>140.0</td>\n",
       "      <td>0</td>\n",
       "      <td>0</td>\n",
       "      <td>0</td>\n",
       "      <td>0</td>\n",
       "      <td>0</td>\n",
       "      <td>0</td>\n",
       "      <td>0</td>\n",
       "      <td>0</td>\n",
       "      <td>0</td>\n",
       "      <td>0</td>\n",
       "      <td>0</td>\n",
       "      <td>0</td>\n",
       "      <td>0</td>\n",
       "    </tr>\n",
       "    <tr>\n",
       "      <th>3</th>\n",
       "      <td>0.984316</td>\n",
       "      <td>0.004351</td>\n",
       "      <td>0.003388</td>\n",
       "      <td>0.10</td>\n",
       "      <td>14</td>\n",
       "      <td>6</td>\n",
       "      <td>131.0</td>\n",
       "      <td>1</td>\n",
       "      <td>0</td>\n",
       "      <td>0</td>\n",
       "      <td>0</td>\n",
       "      <td>0</td>\n",
       "      <td>0</td>\n",
       "      <td>0</td>\n",
       "      <td>0</td>\n",
       "      <td>0</td>\n",
       "      <td>0</td>\n",
       "      <td>0</td>\n",
       "      <td>1</td>\n",
       "      <td>0</td>\n",
       "    </tr>\n",
       "    <tr>\n",
       "      <th>4</th>\n",
       "      <td>0.864688</td>\n",
       "      <td>0.029701</td>\n",
       "      <td>0.003821</td>\n",
       "      <td>0.46</td>\n",
       "      <td>6</td>\n",
       "      <td>6</td>\n",
       "      <td>121.0</td>\n",
       "      <td>1</td>\n",
       "      <td>0</td>\n",
       "      <td>0</td>\n",
       "      <td>0</td>\n",
       "      <td>0</td>\n",
       "      <td>0</td>\n",
       "      <td>0</td>\n",
       "      <td>0</td>\n",
       "      <td>0</td>\n",
       "      <td>0</td>\n",
       "      <td>0</td>\n",
       "      <td>1</td>\n",
       "      <td>0</td>\n",
       "    </tr>\n",
       "  </tbody>\n",
       "</table>\n",
       "</div>"
      ],
      "text/plain": [
       "   img_feature_pred_1  img_feature_pred_2  img_feature_pred_3  \\\n",
       "0            0.059350            0.047494            0.034131   \n",
       "1            0.059350            0.047494            0.034131   \n",
       "2            0.067653            0.064695            0.056322   \n",
       "3            0.984316            0.004351            0.003388   \n",
       "4            0.864688            0.029701            0.003821   \n",
       "\n",
       "   Sentiment_Score  hour  num_words  thumbnail_height  web_site  envelope  \\\n",
       "0             0.48     2          1             140.0         1         0   \n",
       "1             0.50    12          0             140.0         1         0   \n",
       "2             0.50    16          2             140.0         0         0   \n",
       "3             0.10    14          6             131.0         1         0   \n",
       "4             0.46     6          6             121.0         1         0   \n",
       "\n",
       "   library  comic_book  menu  jigsaw_puzzle  scoreboard  monitor  screen  \\\n",
       "0        0           0     0              0           1        0       0   \n",
       "1        0           0     0              0           1        0       0   \n",
       "2        0           0     0              0           0        0       0   \n",
       "3        0           0     0              0           0        0       0   \n",
       "4        0           0     0              0           0        0       0   \n",
       "\n",
       "   digital_clock  mountain_bike  book_jacket  dank_or_not  \n",
       "0              1              0            0            0  \n",
       "1              1              0            0            0  \n",
       "2              0              0            0            0  \n",
       "3              0              0            1            0  \n",
       "4              0              0            1            0  "
      ]
     },
     "execution_count": 14,
     "metadata": {},
     "output_type": "execute_result"
    }
   ],
   "source": [
    "data1.head()"
   ]
  },
  {
   "cell_type": "code",
   "execution_count": 15,
   "id": "Dzf_HoTYnnfM",
   "metadata": {
    "id": "Dzf_HoTYnnfM"
   },
   "outputs": [],
   "source": [
    "y = data1['dank_or_not']\n",
    "X = data1.drop(['dank_or_not'], axis=1)"
   ]
  },
  {
   "cell_type": "code",
   "execution_count": 16,
   "id": "gCvxoGsyn3JG",
   "metadata": {
    "id": "gCvxoGsyn3JG"
   },
   "outputs": [],
   "source": [
    "#splitting the dataset in train and test datasets\n",
    "from sklearn.model_selection import train_test_split\n",
    "X_train,X_test,y_train,y_test = train_test_split(X,y, test_size=0.2)"
   ]
  },
  {
   "cell_type": "code",
   "execution_count": 17,
   "id": "QrNFlEV6kAgm",
   "metadata": {
    "id": "QrNFlEV6kAgm"
   },
   "outputs": [],
   "source": [
    "#parameter value to perform gridsearch cv\n",
    "parameters = {'n_estimators' : [50, 100, 500]}"
   ]
  },
  {
   "cell_type": "markdown",
   "id": "6DNqDGIlxq4X",
   "metadata": {
    "id": "6DNqDGIlxq4X"
   },
   "source": [
    "### Random Froest without sampling"
   ]
  },
  {
   "cell_type": "code",
   "execution_count": 34,
   "id": "l8yzzFVkkAk6",
   "metadata": {
    "id": "l8yzzFVkkAk6"
   },
   "outputs": [],
   "source": [
    "#using random forest classifier to get feature importance\n",
    "RF_sam = RandomForestClassifier()\n",
    "RF_clf_sam = GridSearchCV(RF_sam, parameters , cv=3, scoring='roc_auc') "
   ]
  },
  {
   "cell_type": "code",
   "execution_count": 35,
   "id": "W4ednvfakAo4",
   "metadata": {
    "colab": {
     "base_uri": "https://localhost:8080/"
    },
    "id": "W4ednvfakAo4",
    "outputId": "95987d09-86f6-44e4-9d90-32b256f9bd92"
   },
   "outputs": [
    {
     "data": {
      "text/plain": [
       "GridSearchCV(cv=3, estimator=RandomForestClassifier(),\n",
       "             param_grid={'n_estimators': [50, 100, 500]}, scoring='roc_auc')"
      ]
     },
     "execution_count": 35,
     "metadata": {},
     "output_type": "execute_result"
    }
   ],
   "source": [
    "#training the model\n",
    "RF_clf_sam.fit(X_train, y_train)"
   ]
  },
  {
   "cell_type": "code",
   "execution_count": 36,
   "id": "lRo05g1ukAsN",
   "metadata": {
    "id": "lRo05g1ukAsN"
   },
   "outputs": [],
   "source": [
    "#predicting values and probabilities\n",
    "y_sam_prob_rf = RF_clf_sam.predict(X_test)\n",
    "y_sam_prob_rf = RF_clf_sam.predict_proba(X_test)\n",
    "y_sam_prob_rf = y_sam_prob_rf[:,1]    #getting probability for only '1' value"
   ]
  },
  {
   "cell_type": "code",
   "execution_count": 37,
   "id": "D3ESxYFIFL08",
   "metadata": {
    "id": "D3ESxYFIFL08"
   },
   "outputs": [],
   "source": [
    "y_sam_prob_rf = np.where(y_sam_prob_rf > 0.5, 1, 0)"
   ]
  },
  {
   "cell_type": "code",
   "execution_count": 38,
   "id": "qRnnJ4rckAvv",
   "metadata": {
    "id": "qRnnJ4rckAvv"
   },
   "outputs": [],
   "source": [
    "#getting true negative, false positive, false negative and true positive values from confusion matrix\n",
    "tn_rf, fp_rf, fn_rf, tp_rf = confusion_matrix(y_test, y_sam_prob_rf).ravel()"
   ]
  },
  {
   "cell_type": "code",
   "execution_count": 39,
   "id": "KHyy2k58BM6P",
   "metadata": {
    "colab": {
     "base_uri": "https://localhost:8080/",
     "height": 281
    },
    "id": "KHyy2k58BM6P",
    "outputId": "256915ec-61c2-4b0f-eedd-22a44add76a2"
   },
   "outputs": [
    {
     "data": {
      "image/png": "[encoded data removed]",
      "text/plain": [
       "<Figure size 432x288 with 2 Axes>"
      ]
     },
     "metadata": {
      "needs_background": "light"
     },
     "output_type": "display_data"
    }
   ],
   "source": [
    "#plotting confusion matrix\n",
    "RF_cfn_m = confusion_matrix(y_test, y_sam_prob_rf)\n",
    "sns.heatmap(RF_cfn_m, annot=True, fmt='g')\n",
    "plt.xlabel('Actual')\n",
    "plt.ylabel('Predicted')\n",
    "plt.show()"
   ]
  },
  {
   "cell_type": "code",
   "execution_count": 40,
   "id": "JapjKPJYkAzf",
   "metadata": {
    "id": "JapjKPJYkAzf"
   },
   "outputs": [],
   "source": [
    "#various metrics values of the model\n",
    "acc_RF = accuracy_score(y_test, y_sam_prob_rf).round(4)\n",
    "Precision_RF = precision_score(y_test, y_sam_prob_rf).round(4)\n",
    "Recall_RF = recall_score(y_test, y_sam_prob_rf).round(4)\n",
    "Fl_RF = f1_score(y_test, y_sam_prob_rf).round(4)\n",
    "RF_sensit = (tp_rf/(tp_rf+fn_rf)).round(4)\n",
    "RF_speci = (tn_rf/(tn_rf+fp_rf)).round(4)\n",
    "roc_auc_RF = roc_auc_score(y_test, y_sam_prob_rf).round(4)"
   ]
  },
  {
   "cell_type": "code",
   "execution_count": 41,
   "id": "57AhlHK1FTAB",
   "metadata": {
    "colab": {
     "base_uri": "https://localhost:8080/"
    },
    "id": "57AhlHK1FTAB",
    "outputId": "324df86f-b9c3-46bc-f856-de49deae899f"
   },
   "outputs": [
    {
     "name": "stdout",
     "output_type": "stream",
     "text": [
      "accuracy score :  0.9696\n",
      "precision      :  0.0\n",
      "recall         :  0.0\n",
      "F1 score       :  0.0\n",
      "sensitivity    :  0.0\n",
      "specificity    :  0.9996\n",
      "AUC            :  0.4998\n"
     ]
    }
   ],
   "source": [
    "print('accuracy score : ',acc_RF)\n",
    "print('precision      : ',Precision_RF)\n",
    "print('recall         : ',Recall_RF)\n",
    "print('F1 score       : ',Fl_RF)\n",
    "print('sensitivity    : ',RF_sensit)\n",
    "print('specificity    : ',RF_speci)\n",
    "print('AUC            : ',roc_auc_RF)"
   ]
  },
  {
   "cell_type": "markdown",
   "id": "QLV1qFS0yJ5o",
   "metadata": {
    "id": "QLV1qFS0yJ5o"
   },
   "source": [
    "### Gradient Boost without sampling"
   ]
  },
  {
   "cell_type": "code",
   "execution_count": 42,
   "id": "U836-awzxkYm",
   "metadata": {
    "id": "U836-awzxkYm"
   },
   "outputs": [],
   "source": [
    "#using gradient boosting classifier to get feature importance\n",
    "Grad_Boosting = GradientBoostingClassifier()\n",
    "GB_clf = GridSearchCV(Grad_Boosting, parameters , cv=3, scoring='roc_auc') "
   ]
  },
  {
   "cell_type": "code",
   "execution_count": 43,
   "id": "HkMjfe5_xkhl",
   "metadata": {
    "colab": {
     "base_uri": "https://localhost:8080/"
    },
    "id": "HkMjfe5_xkhl",
    "outputId": "1b332d70-3659-4523-eaac-2390acf2377e"
   },
   "outputs": [
    {
     "data": {
      "text/plain": [
       "GridSearchCV(cv=3, estimator=GradientBoostingClassifier(),\n",
       "             param_grid={'n_estimators': [50, 100, 500]}, scoring='roc_auc')"
      ]
     },
     "execution_count": 43,
     "metadata": {},
     "output_type": "execute_result"
    }
   ],
   "source": [
    "#training the model\n",
    "GB_clf.fit(X_train,y_train)"
   ]
  },
  {
   "cell_type": "code",
   "execution_count": 44,
   "id": "hh8_2Nnzxkog",
   "metadata": {
    "id": "hh8_2Nnzxkog"
   },
   "outputs": [],
   "source": [
    "#predicting values and probabilities\n",
    "y_sam_pred_gb = GB_clf.predict(X_test)\n",
    "y_sam_prob_gb = GB_clf.predict_proba(X_test)\n",
    "y_sam_prob_gb = y_sam_prob_gb[:,1]    #getting probability for only '1' value"
   ]
  },
  {
   "cell_type": "code",
   "execution_count": 45,
   "id": "CZyrconaIgH2",
   "metadata": {
    "id": "CZyrconaIgH2"
   },
   "outputs": [],
   "source": [
    "y_sam_prob_gb = np.where(y_sam_prob_gb > 0.5, 1, 0)"
   ]
  },
  {
   "cell_type": "code",
   "execution_count": 46,
   "id": "6y5jorowxkvK",
   "metadata": {
    "id": "6y5jorowxkvK"
   },
   "outputs": [],
   "source": [
    "#getting true negative, false positive, false negative and true positive values from confusion matrix\n",
    "tn_gb, fp_gb, fn_gb, tp_gb = confusion_matrix(y_test, y_sam_prob_gb).ravel()"
   ]
  },
  {
   "cell_type": "code",
   "execution_count": 47,
   "id": "8zFTW7orCdBd",
   "metadata": {
    "colab": {
     "base_uri": "https://localhost:8080/",
     "height": 282
    },
    "id": "8zFTW7orCdBd",
    "outputId": "add862f5-b0b7-4f5d-fd6a-f676600e560c"
   },
   "outputs": [
    {
     "data": {
      "image/png": "[encoded data removed]",
      "text/plain": [
       "<Figure size 432x288 with 2 Axes>"
      ]
     },
     "metadata": {
      "needs_background": "light"
     },
     "output_type": "display_data"
    }
   ],
   "source": [
    "#plotting confusion matrix\n",
    "cm_gb = confusion_matrix(y_test, y_sam_prob_gb)\n",
    "sns.heatmap(cm_gb, annot=True, fmt='g')\n",
    "plt.xlabel('Actual')\n",
    "plt.ylabel('Predicted')\n",
    "plt.show()"
   ]
  },
  {
   "cell_type": "code",
   "execution_count": 48,
   "id": "NAJBxeWvxk4h",
   "metadata": {
    "id": "NAJBxeWvxk4h"
   },
   "outputs": [],
   "source": [
    "#various metrics values of the model\n",
    "acc_GB = accuracy_score(y_test, y_sam_prob_gb).round(4)\n",
    "Precision_GB = precision_score(y_test, y_sam_prob_gb).round(4)\n",
    "Recall_GB = recall_score(y_test, y_sam_prob_gb).round(4)\n",
    "Fl_GB = f1_score(y_test, y_sam_prob_gb).round(4)\n",
    "GB_sensit = (tp_rf/(tp_rf+fn_rf)).round(4)\n",
    "GB_speci = (tn_rf/(tn_rf+fp_rf)).round(4)\n",
    "roc_auc_GB = roc_auc_score(y_test, y_sam_prob_gb).round(4)"
   ]
  },
  {
   "cell_type": "code",
   "execution_count": 49,
   "id": "Lb8jCZPmGHQ3",
   "metadata": {
    "colab": {
     "base_uri": "https://localhost:8080/"
    },
    "id": "Lb8jCZPmGHQ3",
    "outputId": "41d82621-421c-484f-b557-0f1cfbdf66ae"
   },
   "outputs": [
    {
     "name": "stdout",
     "output_type": "stream",
     "text": [
      "accuracy score :  0.9688\n",
      "precision      :  0.0\n",
      "recall         :  0.0\n",
      "F1 score       :  0.0\n",
      "sensitivity    :  0.0\n",
      "specificity    :  0.9996\n",
      "AUC            :  0.4994\n"
     ]
    }
   ],
   "source": [
    "print('accuracy score : ',acc_GB)\n",
    "print('precision      : ',Precision_GB)\n",
    "print('recall         : ',Recall_GB)\n",
    "print('F1 score       : ',Fl_GB)\n",
    "print('sensitivity    : ',GB_sensit)\n",
    "print('specificity    : ',GB_speci)\n",
    "print('AUC            : ',roc_auc_GB)"
   ]
  },
  {
   "cell_type": "code",
   "execution_count": 50,
   "id": "ebNVAHrKxk_S",
   "metadata": {
    "colab": {
     "base_uri": "https://localhost:8080/",
     "height": 278
    },
    "id": "ebNVAHrKxk_S",
    "outputId": "5012096d-2730-41f7-8c21-c07ff96a2187"
   },
   "outputs": [
    {
     "data": {
      "image/png": "[encoded data removed]",
      "text/plain": [
       "<Figure size 432x288 with 1 Axes>"
      ]
     },
     "metadata": {
      "needs_background": "light"
     },
     "output_type": "display_data"
    }
   ],
   "source": [
    "'''Plotting ROC curve for both Random Forest and Gradient Boosting Classifiers trained on unsampled data'''\n",
    "\n",
    "#no-skill values\n",
    "GRF_probs = [0 for _ in range(len(y_test))]\n",
    "GRF_auc = roc_auc_score(y_test, GRF_probs)\n",
    "\n",
    "# calculate roc curves\n",
    "false_pos_rate_ns, true_pos_rate_ns, _ = roc_curve(y_test, GRF_probs)\n",
    "false_pos_rate_rf, true_pos_rate_rf, _ = roc_curve(y_test, y_sam_prob_rf)\n",
    "false_pos_rate_gb, true_pos_rate_gb, _ = roc_curve(y_test, y_sam_prob_gb)\n",
    "\n",
    "# plot the roc curve for the model\n",
    "pyplot.plot(false_pos_rate_ns, true_pos_rate_ns, linestyle='--', label='No Skill')\n",
    "pyplot.plot(false_pos_rate_rf, true_pos_rate_rf, marker='.', label='Random Forest')\n",
    "pyplot.plot(false_pos_rate_gb, true_pos_rate_gb, marker='.', label='Gradient Boost', alpha=0.1)\n",
    "\n",
    "# axis labels\n",
    "pyplot.xlabel('False Positive Rate')\n",
    "pyplot.ylabel('True Positive Rate')\n",
    "# show the legend\n",
    "pyplot.legend()\n",
    "# show the plot\n",
    "pyplot.show()"
   ]
  },
  {
   "cell_type": "markdown",
   "id": "426dWR_TbIh7",
   "metadata": {
    "id": "426dWR_TbIh7"
   },
   "source": [
    "## Up-sampling the train data"
   ]
  },
  {
   "cell_type": "code",
   "execution_count": 22,
   "id": "T64hjFHbxlGJ",
   "metadata": {
    "id": "T64hjFHbxlGJ"
   },
   "outputs": [],
   "source": [
    "from imblearn.over_sampling import SMOTE"
   ]
  },
  {
   "cell_type": "code",
   "execution_count": 23,
   "id": "IOPB1awuxlNB",
   "metadata": {
    "id": "IOPB1awuxlNB"
   },
   "outputs": [],
   "source": [
    "# transform the dataset\n",
    "oversample = SMOTE()\n",
    "X_train_sam, y_train_sam = oversample.fit_resample(X_train, y_train)"
   ]
  },
  {
   "cell_type": "markdown",
   "id": "xqX-hyZacRDB",
   "metadata": {
    "id": "xqX-hyZacRDB"
   },
   "source": [
    "### Training Random Forest with upsampled data"
   ]
  },
  {
   "cell_type": "code",
   "execution_count": 56,
   "id": "v98Kt4LqcMCf",
   "metadata": {
    "id": "v98Kt4LqcMCf"
   },
   "outputs": [],
   "source": [
    "#using random forest classifier to get feature importance\n",
    "RF_us = RandomForestClassifier()\n",
    "RF_clf_us = GridSearchCV(RF_us, parameters , cv=3, scoring='roc_auc') "
   ]
  },
  {
   "cell_type": "code",
   "execution_count": 57,
   "id": "RmGqIqQmcMHu",
   "metadata": {
    "colab": {
     "base_uri": "https://localhost:8080/"
    },
    "id": "RmGqIqQmcMHu",
    "outputId": "a2ba24a8-5b00-431e-d83e-1f4c3a48a34b"
   },
   "outputs": [
    {
     "data": {
      "text/plain": [
       "GridSearchCV(cv=3, estimator=RandomForestClassifier(),\n",
       "             param_grid={'n_estimators': [50, 100, 500]}, scoring='roc_auc')"
      ]
     },
     "execution_count": 57,
     "metadata": {},
     "output_type": "execute_result"
    }
   ],
   "source": [
    "#training the model\n",
    "RF_clf_us.fit(X_train_sam, y_train_sam)"
   ]
  },
  {
   "cell_type": "code",
   "execution_count": 58,
   "id": "7WOpJEHFcMLX",
   "metadata": {
    "id": "7WOpJEHFcMLX"
   },
   "outputs": [],
   "source": [
    "#predicting values and probabilities\n",
    "us_y_pred_rf = RF_clf_us.predict(X_test)\n",
    "us_y_prob_rf = RF_clf_us.predict_proba(X_test)\n",
    "us_y_prob_rf = us_y_prob_rf[:,1]    #getting probability for only '1' value"
   ]
  },
  {
   "cell_type": "code",
   "execution_count": 61,
   "id": "na1MQ5vRMn_Q",
   "metadata": {
    "id": "na1MQ5vRMn_Q"
   },
   "outputs": [],
   "source": [
    "us_y_prob_rf = np.where(us_y_prob_rf > 0.5, 1, 0)"
   ]
  },
  {
   "cell_type": "code",
   "execution_count": 62,
   "id": "JyD-HnvPcMPB",
   "metadata": {
    "id": "JyD-HnvPcMPB"
   },
   "outputs": [],
   "source": [
    "#getting true negative, false positive, false negative and true positive values from confusion matrix\n",
    "tn_rf_us, fp_rf_us, fn_rf_us, tp_rf_us = confusion_matrix(y_test, us_y_prob_rf).ravel()"
   ]
  },
  {
   "cell_type": "code",
   "execution_count": 63,
   "id": "ZumYcQdKcMTR",
   "metadata": {
    "colab": {
     "base_uri": "https://localhost:8080/",
     "height": 278
    },
    "id": "ZumYcQdKcMTR",
    "outputId": "6bb61cf4-75b6-4743-9135-25200530d37a"
   },
   "outputs": [
    {
     "data": {
      "image/png": "[encoded data removed]",
      "text/plain": [
       "<Figure size 432x288 with 2 Axes>"
      ]
     },
     "metadata": {
      "needs_background": "light"
     },
     "output_type": "display_data"
    }
   ],
   "source": [
    "#plotting confusion matrix\n",
    "us_rf = confusion_matrix(y_test, us_y_prob_rf)\n",
    "sns.heatmap(us_rf, annot=True, fmt='g')\n",
    "plt.xlabel('Actual')\n",
    "plt.ylabel('Predicted')\n",
    "plt.show()"
   ]
  },
  {
   "cell_type": "code",
   "execution_count": 64,
   "id": "ZgMtYElqdjbB",
   "metadata": {
    "id": "ZgMtYElqdjbB"
   },
   "outputs": [],
   "source": [
    "#various metrics values of the model\n",
    "us_acc_RF = accuracy_score(y_test, us_y_prob_rf).round(4)\n",
    "us_Precision_RF = precision_score(y_test, us_y_prob_rf).round(4)\n",
    "us_Recall_RF = recall_score(y_test, us_y_prob_rf).round(4)\n",
    "us_Fl_RF = f1_score(y_test, us_y_prob_rf).round(4)\n",
    "us_RF_sensit = (tp_rf/(tp_rf+fn_rf)).round(4)\n",
    "us_RF_speci = (tn_rf/(tn_rf+fp_rf)).round(4)\n",
    "us_roc_auc_RF = roc_auc_score(y_test, us_y_prob_rf).round(4)"
   ]
  },
  {
   "cell_type": "code",
   "execution_count": 65,
   "id": "fUFTYEyXdjeP",
   "metadata": {
    "colab": {
     "base_uri": "https://localhost:8080/"
    },
    "id": "fUFTYEyXdjeP",
    "outputId": "58bc996e-966b-49c4-8834-fb9f58e2fb07"
   },
   "outputs": [
    {
     "name": "stdout",
     "output_type": "stream",
     "text": [
      "accuracy score :  0.9211\n",
      "precision      :  0.0496\n",
      "recall         :  0.0897\n",
      "F1 score       :  0.0639\n",
      "sensitivity    :  0.0\n",
      "specificity    :  0.9996\n",
      "AUC            :  0.5183\n"
     ]
    }
   ],
   "source": [
    "print('accuracy score : ',us_acc_RF)\n",
    "print('precision      : ',us_Precision_RF)\n",
    "print('recall         : ',us_Recall_RF)\n",
    "print('F1 score       : ',us_Fl_RF)\n",
    "print('sensitivity    : ',us_RF_sensit)\n",
    "print('specificity    : ',us_RF_speci)\n",
    "print('AUC            : ',us_roc_auc_RF)"
   ]
  },
  {
   "cell_type": "markdown",
   "id": "O1nkwhBLitXw",
   "metadata": {
    "id": "O1nkwhBLitXw"
   },
   "source": [
    "### Training Gradient Boosting with upsampled data"
   ]
  },
  {
   "cell_type": "code",
   "execution_count": 66,
   "id": "jjW7VY1Wdji3",
   "metadata": {
    "id": "jjW7VY1Wdji3"
   },
   "outputs": [],
   "source": [
    "#using gradient boosting classifier to get feature importance\n",
    "US_GB = GradientBoostingClassifier()\n",
    "US_clf_gb = GridSearchCV(US_GB, parameters , cv=3, scoring='roc_auc') "
   ]
  },
  {
   "cell_type": "code",
   "execution_count": 67,
   "id": "lbmdmJ7rdjmy",
   "metadata": {
    "colab": {
     "base_uri": "https://localhost:8080/"
    },
    "id": "lbmdmJ7rdjmy",
    "outputId": "eeff3f9d-0eee-4b0a-e9cf-24510810a534"
   },
   "outputs": [
    {
     "data": {
      "text/plain": [
       "GridSearchCV(cv=3, estimator=GradientBoostingClassifier(),\n",
       "             param_grid={'n_estimators': [50, 100, 500]}, scoring='roc_auc')"
      ]
     },
     "execution_count": 67,
     "metadata": {},
     "output_type": "execute_result"
    }
   ],
   "source": [
    "#training the model\n",
    "US_clf_gb.fit(X_train_sam,y_train_sam)"
   ]
  },
  {
   "cell_type": "code",
   "execution_count": 68,
   "id": "DVnDtuRtdjs_",
   "metadata": {
    "id": "DVnDtuRtdjs_"
   },
   "outputs": [],
   "source": [
    "#predicting values and probabilities\n",
    "us_y_pred_gb = US_clf_gb.predict(X_test)\n",
    "us_y_prob_gb = US_clf_gb.predict_proba(X_test)\n",
    "us_y_prob_gb = us_y_prob_gb[:,1]    #getting probability for only '1' value"
   ]
  },
  {
   "cell_type": "code",
   "execution_count": 69,
   "id": "DK9zqbcrNxDO",
   "metadata": {
    "id": "DK9zqbcrNxDO"
   },
   "outputs": [],
   "source": [
    "us_y_prob_gb = np.where(us_y_prob_gb > 0.5, 1, 0)"
   ]
  },
  {
   "cell_type": "code",
   "execution_count": 70,
   "id": "0SQZneLTdjwe",
   "metadata": {
    "id": "0SQZneLTdjwe"
   },
   "outputs": [],
   "source": [
    "#getting true negative, false positive, false negative and true positive values from confusion matrix\n",
    "tn_gb_us, fp_gb_us, fn_gb_us, tp_gb_us = confusion_matrix(y_test, us_y_prob_gb).ravel()"
   ]
  },
  {
   "cell_type": "code",
   "execution_count": 71,
   "id": "K7p9FJHSdj0A",
   "metadata": {
    "colab": {
     "base_uri": "https://localhost:8080/",
     "height": 278
    },
    "id": "K7p9FJHSdj0A",
    "outputId": "52478e30-5e00-4da7-b460-034d0adbacef"
   },
   "outputs": [
    {
     "data": {
      "image/png": "[encoded data removed]",
      "text/plain": [
       "<Figure size 432x288 with 2 Axes>"
      ]
     },
     "metadata": {
      "needs_background": "light"
     },
     "output_type": "display_data"
    }
   ],
   "source": [
    "#plotting confusion matrix\n",
    "us_cm = confusion_matrix(y_test, us_y_prob_gb)\n",
    "sns.heatmap(us_cm, annot=True, fmt='g')\n",
    "plt.xlabel('Actual')\n",
    "plt.ylabel('Predicted')\n",
    "plt.show()"
   ]
  },
  {
   "cell_type": "code",
   "execution_count": 72,
   "id": "q1FPWoK6dj3d",
   "metadata": {
    "id": "q1FPWoK6dj3d"
   },
   "outputs": [],
   "source": [
    "#various metrics values of the model\n",
    "us_acc_GB = accuracy_score(y_test, us_y_prob_gb).round(4)\n",
    "us_Precision_GB = precision_score(y_test, us_y_prob_gb).round(4)\n",
    "us_Recall_GB = recall_score(y_test, us_y_prob_gb).round(4)\n",
    "us_Fl_GB = f1_score(y_test, us_y_prob_gb).round(4)\n",
    "us_GB_sensit = (tp_rf/(tp_rf+fn_rf)).round(4)\n",
    "us_GB_speci = (tn_rf/(tn_rf+fp_rf)).round(4)\n",
    "us_roc_auc_GB = roc_auc_score(y_test, us_y_prob_gb).round(4)"
   ]
  },
  {
   "cell_type": "code",
   "execution_count": 73,
   "id": "kgnsyDhodj66",
   "metadata": {
    "colab": {
     "base_uri": "https://localhost:8080/"
    },
    "id": "kgnsyDhodj66",
    "outputId": "79fb3908-d167-430a-bfae-a95ebc351d46"
   },
   "outputs": [
    {
     "name": "stdout",
     "output_type": "stream",
     "text": [
      "accuracy score :  0.9519\n",
      "precision      :  0.0392\n",
      "recall         :  0.0256\n",
      "F1 score       :  0.031\n",
      "sensitivity    :  0.0\n",
      "specificity    :  0.9996\n",
      "AUC            :  0.5031\n"
     ]
    }
   ],
   "source": [
    "print('accuracy score : ',us_acc_GB)\n",
    "print('precision      : ',us_Precision_GB)\n",
    "print('recall         : ',us_Recall_GB)\n",
    "print('F1 score       : ',us_Fl_GB)\n",
    "print('sensitivity    : ',us_GB_sensit)\n",
    "print('specificity    : ',us_GB_speci)\n",
    "print('AUC            : ',us_roc_auc_GB)"
   ]
  },
  {
   "cell_type": "code",
   "execution_count": 74,
   "id": "xBJQzHGhdkAR",
   "metadata": {
    "colab": {
     "base_uri": "https://localhost:8080/",
     "height": 278
    },
    "id": "xBJQzHGhdkAR",
    "outputId": "bd27207a-ebb5-4609-9719-6dc74b710be7"
   },
   "outputs": [
    {
     "data": {
      "image/png": "[encoded data removed]",
      "text/plain": [
       "<Figure size 432x288 with 1 Axes>"
      ]
     },
     "metadata": {
      "needs_background": "light"
     },
     "output_type": "display_data"
    }
   ],
   "source": [
    "'''Plotting ROC curve for both Random Forest and Gradient Boosting Classifiers trained on unsampled data'''\n",
    "\n",
    "#no-skill values\n",
    "us_GRF_probs = [0 for _ in range(len(y_test))]\n",
    "us_GRF_auc = roc_auc_score(y_test, us_GRF_probs)\n",
    "\n",
    "# calculate roc curves\n",
    "false_pos_rate_ns, true_pos_rate_ns, _ = roc_curve(y_test, us_GRF_probs)\n",
    "false_pos_rate_rf, true_pos_rate_rf, _ = roc_curve(y_test, us_y_prob_rf)\n",
    "false_pos_rate_gb, true_pos_rate_gb, _ = roc_curve(y_test, us_y_prob_gb)\n",
    "\n",
    "# plot the roc curve for the model\n",
    "pyplot.plot(false_pos_rate_ns, true_pos_rate_ns, linestyle='--', label='No Skill')\n",
    "pyplot.plot(false_pos_rate_rf, true_pos_rate_rf, marker='.', label='Random Forest')\n",
    "pyplot.plot(false_pos_rate_gb, true_pos_rate_gb, marker='.', label='Gradient Boost', alpha=0.1)\n",
    "\n",
    "# axis labels\n",
    "pyplot.xlabel('False Positive Rate')\n",
    "pyplot.ylabel('True Positive Rate')\n",
    "# show the legend\n",
    "pyplot.legend()\n",
    "# show the plot\n",
    "pyplot.show()"
   ]
  },
  {
   "cell_type": "code",
   "execution_count": 79,
   "id": "ab9b2656",
   "metadata": {},
   "outputs": [
    {
     "name": "stdout",
     "output_type": "stream",
     "text": [
      "Collecting xgboost\n",
      "  Downloading xgboost-1.5.0-py3-none-win_amd64.whl (106.6 MB)\n",
      "Requirement already satisfied: numpy in c:\\users\\hp\\anaconda3\\lib\\site-packages (from xgboost) (1.19.5)\n",
      "Requirement already satisfied: scipy in c:\\users\\hp\\anaconda3\\lib\\site-packages (from xgboost) (1.6.2)\n",
      "Installing collected packages: xgboost\n",
      "Successfully installed xgboost-1.5.0\n",
      "Collecting xgboost\n",
      "  Using cached xgboost-1.5.0-py3-none-win_amd64.whl (106.6 MB)\n",
      "Requirement already satisfied: scipy in c:\\users\\hp\\anaconda3\\lib\\site-packages (from xgboost) (1.6.2)\n",
      "Requirement already satisfied: numpy in c:\\users\\hp\\anaconda3\\lib\\site-packages (from xgboost) (1.19.5)\n",
      "Installing collected packages: xgboost\n",
      "Successfully installed xgboost-1.5.0\n"
     ]
    }
   ],
   "source": [
    "! pip install xgboost"
   ]
  },
  {
   "cell_type": "code",
   "execution_count": 19,
   "id": "30884a81",
   "metadata": {},
   "outputs": [],
   "source": [
    "import numpy as np\n",
    "import pandas as pd\n",
    "import warnings\n",
    "warnings.filterwarnings(\"ignore\")\n",
    "from sklearn.model_selection import train_test_split\n",
    "# baseline in performance with logistic regression model\n",
    "from sklearn.datasets import make_classification\n",
    "from sklearn.preprocessing import LabelEncoder\n",
    "from sklearn.model_selection import train_test_split\n",
    "from sklearn.neighbors import KNeighborsClassifier\n",
    "from sklearn.calibration import CalibratedClassifierCV\n",
    "#from sklearn.metrics.classification import accuracy_score, log_loss\n",
    "from sklearn.metrics import confusion_matrix\n",
    "import matplotlib.pyplot as plt\n",
    "import seaborn as sns\n",
    "from sklearn.naive_bayes import MultinomialNB\n",
    "from sklearn.preprocessing import MinMaxScaler\n",
    "from sklearn.linear_model import LogisticRegression\n",
    "from sklearn.linear_model import SGDClassifier\n",
    "from sklearn.ensemble import RandomForestClassifier,AdaBoostClassifier\n",
    "from xgboost import XGBClassifier\n",
    "from sklearn.model_selection import RandomizedSearchCV\n",
    "from sklearn.tree import DecisionTreeClassifier"
   ]
  },
  {
   "cell_type": "markdown",
   "id": "HOzkR8JhSpDk",
   "metadata": {
    "id": "HOzkR8JhSpDk"
   },
   "source": [
    "Logistic Regression"
   ]
  },
  {
   "cell_type": "code",
   "execution_count": 55,
   "id": "1a5a3e71",
   "metadata": {},
   "outputs": [
    {
     "data": {
      "text/plain": [
       "SGDClassifier(alpha=0.001, loss='log', random_state=24)"
      ]
     },
     "execution_count": 55,
     "metadata": {},
     "output_type": "execute_result"
    }
   ],
   "source": [
    "model_lg = SGDClassifier(alpha=0.001,loss='log',penalty='l2',random_state=24)\n",
    "model_lg.fit(X_train_sam, y_train_sam)"
   ]
  },
  {
   "cell_type": "code",
   "execution_count": 56,
   "id": "33888950",
   "metadata": {},
   "outputs": [],
   "source": [
    "#predicting values and probabilities\n",
    "y_predict = model_lg.predict(X_test)\n",
    "y_predict = model_lg.predict_proba(X_test)\n",
    "y_predict = y_predict[:,1]    #getting probability for only '1' value"
   ]
  },
  {
   "cell_type": "code",
   "execution_count": 57,
   "id": "b0e649e7",
   "metadata": {},
   "outputs": [],
   "source": [
    "y_predict = np.where(y_predict > 0.5, 1, 0)"
   ]
  },
  {
   "cell_type": "code",
   "execution_count": 58,
   "id": "44b3d110",
   "metadata": {},
   "outputs": [],
   "source": [
    "#getting true negative, false positive, false negative and true positive values from confusion matrix\n",
    "tn_lg, fp_lg, fn_lg, tp_lg = confusion_matrix(y_test, y_predict).ravel()"
   ]
  },
  {
   "cell_type": "code",
   "execution_count": 59,
   "id": "34c66bbb",
   "metadata": {},
   "outputs": [
    {
     "data": {
      "image/png": "[encoded data removed]",
      "text/plain": [
       "<Figure size 432x288 with 2 Axes>"
      ]
     },
     "metadata": {
      "needs_background": "light"
     },
     "output_type": "display_data"
    }
   ],
   "source": [
    "#plotting confusion matrix\n",
    "lg_cm = confusion_matrix(y_test, y_predict)\n",
    "sns.heatmap(lg_cm, annot=True, fmt='g')\n",
    "plt.xlabel('Actual')\n",
    "plt.ylabel('Predicted')\n",
    "plt.show()"
   ]
  },
  {
   "cell_type": "code",
   "execution_count": 60,
   "id": "fd063ef0",
   "metadata": {},
   "outputs": [],
   "source": [
    "#various metrics values of the model\n",
    "acc_lg = accuracy_score(y_test, y_predict).round(4)\n",
    "Precision_lg = precision_score(y_test, y_predict).round(4)\n",
    "Recall_lg = recall_score(y_test, y_predict).round(4)\n",
    "Fl_lg = f1_score(y_test, y_predict).round(4)\n",
    "sensit_lg = (tp_lg/(tp_lg+fn_lg)).round(4)\n",
    "speci_lg = (tn_lg/(tn_lg+fp_lg)).round(4)\n",
    "roc_auc_lg = roc_auc_score(y_test, y_predict).round(4)"
   ]
  },
  {
   "cell_type": "code",
   "execution_count": 61,
   "id": "a5e4c536",
   "metadata": {},
   "outputs": [
    {
     "name": "stdout",
     "output_type": "stream",
     "text": [
      "accuracy score :  0.6945\n",
      "precision      :  0.0471\n",
      "recall         :  0.4512\n",
      "F1 score       :  0.0853\n",
      "sensitivity    :  0.4512\n",
      "specificity    :  0.7024\n",
      "AUC            :  0.5768\n"
     ]
    }
   ],
   "source": [
    "print('accuracy score : ',acc_lg)\n",
    "print('precision      : ',Precision_lg)\n",
    "print('recall         : ',Recall_lg)\n",
    "print('F1 score       : ',Fl_lg)\n",
    "print('sensitivity    : ',sensit_lg)\n",
    "print('specificity    : ',speci_lg)\n",
    "print('AUC            : ',roc_auc_lg)"
   ]
  },
  {
   "cell_type": "markdown",
   "id": "btqu_HWsS3A7",
   "metadata": {
    "id": "btqu_HWsS3A7"
   },
   "source": [
    "# **Decision Tree**"
   ]
  },
  {
   "cell_type": "code",
   "execution_count": 24,
   "id": "2lpb5D7ZStLU",
   "metadata": {
    "id": "2lpb5D7ZStLU"
   },
   "outputs": [
    {
     "name": "stdout",
     "output_type": "stream",
     "text": [
      "Fitting 10 folds for each of 10 candidates, totalling 100 fits\n",
      "[CV] END ................max_depth=10, min_samples_split=100; total time=   0.0s\n",
      "[CV] END ................max_depth=10, min_samples_split=100; total time=   0.0s\n",
      "[CV] END ................max_depth=10, min_samples_split=100; total time=   0.0s\n",
      "[CV] END ................max_depth=10, min_samples_split=100; total time=   0.0s\n",
      "[CV] END ................max_depth=10, min_samples_split=100; total time=   0.0s\n",
      "[CV] END ................max_depth=10, min_samples_split=100; total time=   0.0s\n",
      "[CV] END ................max_depth=10, min_samples_split=100; total time=   0.0s\n",
      "[CV] END ................max_depth=10, min_samples_split=100; total time=   0.0s\n",
      "[CV] END ................max_depth=10, min_samples_split=100; total time=   0.0s\n",
      "[CV] END ................max_depth=10, min_samples_split=100; total time=   0.0s\n",
      "[CV] END ................max_depth=10, min_samples_split=500; total time=   0.0s\n",
      "[CV] END ................max_depth=10, min_samples_split=500; total time=   0.0s\n",
      "[CV] END ................max_depth=10, min_samples_split=500; total time=   0.0s\n",
      "[CV] END ................max_depth=10, min_samples_split=500; total time=   0.0s\n",
      "[CV] END ................max_depth=10, min_samples_split=500; total time=   0.0s\n",
      "[CV] END ................max_depth=10, min_samples_split=500; total time=   0.0s\n",
      "[CV] END ................max_depth=10, min_samples_split=500; total time=   0.0s\n",
      "[CV] END ................max_depth=10, min_samples_split=500; total time=   0.0s\n",
      "[CV] END ................max_depth=10, min_samples_split=500; total time=   0.0s\n",
      "[CV] END ................max_depth=10, min_samples_split=500; total time=   0.0s\n",
      "[CV] END .................max_depth=5, min_samples_split=100; total time=   0.0s\n",
      "[CV] END .................max_depth=5, min_samples_split=100; total time=   0.0s\n",
      "[CV] END .................max_depth=5, min_samples_split=100; total time=   0.0s\n",
      "[CV] END .................max_depth=5, min_samples_split=100; total time=   0.0s\n",
      "[CV] END .................max_depth=5, min_samples_split=100; total time=   0.0s\n",
      "[CV] END .................max_depth=5, min_samples_split=100; total time=   0.0s\n",
      "[CV] END .................max_depth=5, min_samples_split=100; total time=   0.0s\n",
      "[CV] END .................max_depth=5, min_samples_split=100; total time=   0.0s\n",
      "[CV] END .................max_depth=5, min_samples_split=100; total time=   0.0s\n",
      "[CV] END .................max_depth=5, min_samples_split=100; total time=   0.0s\n",
      "[CV] END ................max_depth=50, min_samples_split=100; total time=   0.1s\n",
      "[CV] END ................max_depth=50, min_samples_split=100; total time=   0.1s\n",
      "[CV] END ................max_depth=50, min_samples_split=100; total time=   0.0s\n",
      "[CV] END ................max_depth=50, min_samples_split=100; total time=   0.1s\n",
      "[CV] END ................max_depth=50, min_samples_split=100; total time=   0.0s\n",
      "[CV] END ................max_depth=50, min_samples_split=100; total time=   0.0s\n",
      "[CV] END ................max_depth=50, min_samples_split=100; total time=   0.1s\n",
      "[CV] END ................max_depth=50, min_samples_split=100; total time=   0.0s\n",
      "[CV] END ................max_depth=50, min_samples_split=100; total time=   0.1s\n",
      "[CV] END ................max_depth=50, min_samples_split=100; total time=   0.1s\n",
      "[CV] END ...................max_depth=1, min_samples_split=5; total time=   0.0s\n",
      "[CV] END ...................max_depth=1, min_samples_split=5; total time=   0.0s\n",
      "[CV] END ...................max_depth=1, min_samples_split=5; total time=   0.0s\n",
      "[CV] END ...................max_depth=1, min_samples_split=5; total time=   0.0s\n",
      "[CV] END ...................max_depth=1, min_samples_split=5; total time=   0.0s\n",
      "[CV] END ...................max_depth=1, min_samples_split=5; total time=   0.0s\n",
      "[CV] END ...................max_depth=1, min_samples_split=5; total time=   0.0s\n",
      "[CV] END ...................max_depth=1, min_samples_split=5; total time=   0.0s\n",
      "[CV] END ...................max_depth=1, min_samples_split=5; total time=   0.0s\n",
      "[CV] END ...................max_depth=1, min_samples_split=5; total time=   0.0s\n",
      "[CV] END ................max_depth=50, min_samples_split=500; total time=   0.0s\n",
      "[CV] END ................max_depth=50, min_samples_split=500; total time=   0.0s\n",
      "[CV] END ................max_depth=50, min_samples_split=500; total time=   0.0s\n",
      "[CV] END ................max_depth=50, min_samples_split=500; total time=   0.1s\n",
      "[CV] END ................max_depth=50, min_samples_split=500; total time=   0.0s\n",
      "[CV] END ................max_depth=50, min_samples_split=500; total time=   0.0s\n",
      "[CV] END ................max_depth=50, min_samples_split=500; total time=   0.0s\n",
      "[CV] END ................max_depth=50, min_samples_split=500; total time=   0.0s\n",
      "[CV] END ................max_depth=50, min_samples_split=500; total time=   0.0s\n",
      "[CV] END ................max_depth=50, min_samples_split=500; total time=   0.0s\n",
      "[CV] END ..................max_depth=5, min_samples_split=10; total time=   0.0s\n",
      "[CV] END ..................max_depth=5, min_samples_split=10; total time=   0.0s\n",
      "[CV] END ..................max_depth=5, min_samples_split=10; total time=   0.0s\n",
      "[CV] END ..................max_depth=5, min_samples_split=10; total time=   0.0s\n",
      "[CV] END ..................max_depth=5, min_samples_split=10; total time=   0.0s\n",
      "[CV] END ..................max_depth=5, min_samples_split=10; total time=   0.0s\n",
      "[CV] END ..................max_depth=5, min_samples_split=10; total time=   0.0s\n",
      "[CV] END ..................max_depth=5, min_samples_split=10; total time=   0.0s\n",
      "[CV] END ..................max_depth=5, min_samples_split=10; total time=   0.0s\n",
      "[CV] END ..................max_depth=5, min_samples_split=10; total time=   0.0s\n",
      "[CV] END .................max_depth=5, min_samples_split=500; total time=   0.0s\n",
      "[CV] END .................max_depth=5, min_samples_split=500; total time=   0.0s\n",
      "[CV] END .................max_depth=5, min_samples_split=500; total time=   0.0s\n",
      "[CV] END .................max_depth=5, min_samples_split=500; total time=   0.0s\n",
      "[CV] END .................max_depth=5, min_samples_split=500; total time=   0.0s\n",
      "[CV] END .................max_depth=5, min_samples_split=500; total time=   0.0s\n",
      "[CV] END .................max_depth=5, min_samples_split=500; total time=   0.0s\n",
      "[CV] END .................max_depth=5, min_samples_split=500; total time=   0.0s\n",
      "[CV] END .................max_depth=5, min_samples_split=500; total time=   0.0s\n",
      "[CV] END .................max_depth=5, min_samples_split=500; total time=   0.0s\n",
      "[CV] END ..................max_depth=1, min_samples_split=10; total time=   0.0s\n",
      "[CV] END ..................max_depth=1, min_samples_split=10; total time=   0.0s\n",
      "[CV] END ..................max_depth=1, min_samples_split=10; total time=   0.0s\n",
      "[CV] END ..................max_depth=1, min_samples_split=10; total time=   0.0s\n",
      "[CV] END ..................max_depth=1, min_samples_split=10; total time=   0.0s\n",
      "[CV] END ..................max_depth=1, min_samples_split=10; total time=   0.0s\n",
      "[CV] END ..................max_depth=1, min_samples_split=10; total time=   0.0s\n",
      "[CV] END ..................max_depth=1, min_samples_split=10; total time=   0.0s\n",
      "[CV] END ..................max_depth=1, min_samples_split=10; total time=   0.0s\n",
      "[CV] END ..................max_depth=1, min_samples_split=10; total time=   0.0s\n",
      "[CV] END .................max_depth=1, min_samples_split=500; total time=   0.0s\n",
      "[CV] END .................max_depth=1, min_samples_split=500; total time=   0.0s\n",
      "[CV] END .................max_depth=1, min_samples_split=500; total time=   0.0s\n",
      "[CV] END .................max_depth=1, min_samples_split=500; total time=   0.0s\n",
      "[CV] END .................max_depth=1, min_samples_split=500; total time=   0.0s\n",
      "[CV] END .................max_depth=1, min_samples_split=500; total time=   0.0s\n",
      "[CV] END .................max_depth=1, min_samples_split=500; total time=   0.0s\n",
      "[CV] END .................max_depth=1, min_samples_split=500; total time=   0.0s\n",
      "[CV] END .................max_depth=1, min_samples_split=500; total time=   0.0s\n",
      "[CV] END .................max_depth=1, min_samples_split=500; total time=   0.0s\n"
     ]
    },
    {
     "data": {
      "text/plain": [
       "RandomizedSearchCV(cv=10, estimator=DecisionTreeClassifier(),\n",
       "                   param_distributions={'max_depth': [1, 5, 10, 50],\n",
       "                                        'min_samples_split': [5, 10, 100, 500]},\n",
       "                   return_train_score=True, verbose=2)"
      ]
     },
     "execution_count": 24,
     "metadata": {},
     "output_type": "execute_result"
    }
   ],
   "source": [
    "DT = DecisionTreeClassifier()\n",
    "max_depth=[1,5,10,50]\n",
    "min_samples_split=[5,10,100,500]\n",
    "parameters = {'max_depth':max_depth,'min_samples_split':min_samples_split}\n",
    "clf_dt = RandomizedSearchCV(DT, parameters, cv= 10,return_train_score=True,verbose=2)\n",
    "clf_dt.fit(X_train_sam, y_train_sam)"
   ]
  },
  {
   "cell_type": "code",
   "execution_count": 25,
   "id": "rzWjLEhNStOM",
   "metadata": {
    "id": "rzWjLEhNStOM"
   },
   "outputs": [
    {
     "name": "stdout",
     "output_type": "stream",
     "text": [
      "DecisionTreeClassifier(max_depth=50, min_samples_split=100)\n"
     ]
    }
   ],
   "source": [
    "print(clf_dt.best_estimator_)"
   ]
  },
  {
   "cell_type": "code",
   "execution_count": 26,
   "id": "UCNLkpnPStRL",
   "metadata": {
    "id": "UCNLkpnPStRL"
   },
   "outputs": [
    {
     "data": {
      "text/plain": [
       "DecisionTreeClassifier(max_depth=50, min_samples_split=100)"
      ]
     },
     "execution_count": 26,
     "metadata": {},
     "output_type": "execute_result"
    }
   ],
   "source": [
    "clf_best=DecisionTreeClassifier(max_depth=50, min_samples_split=100)\n",
    "clf_best.fit(X_train_sam, y_train_sam)"
   ]
  },
  {
   "cell_type": "code",
   "execution_count": 27,
   "id": "5815c5b2",
   "metadata": {},
   "outputs": [],
   "source": [
    "#predicting values and probabilities\n",
    "y_predict_dt = clf_dt.predict(X_test)\n",
    "y_predict_dt = clf_dt.predict_proba(X_test)\n",
    "y_predict_dt = y_predict_dt[:,1]    #getting probability for only '1' value"
   ]
  },
  {
   "cell_type": "code",
   "execution_count": 28,
   "id": "7df7b841",
   "metadata": {},
   "outputs": [],
   "source": [
    "y_predict_dt = np.where(y_predict_dt > 0.5, 1, 0)"
   ]
  },
  {
   "cell_type": "code",
   "execution_count": 29,
   "id": "f733da08",
   "metadata": {},
   "outputs": [],
   "source": [
    "#getting true negative, false positive, false negative and true positive values from confusion matrix\n",
    "tn_dt, fp_dt, fn_dt, tp_dt = confusion_matrix(y_test, y_predict_dt).ravel()"
   ]
  },
  {
   "cell_type": "code",
   "execution_count": 30,
   "id": "44cfd4c5",
   "metadata": {},
   "outputs": [
    {
     "data": {
      "image/png": "[encoded data removed]",
      "text/plain": [
       "<Figure size 432x288 with 2 Axes>"
      ]
     },
     "metadata": {
      "needs_background": "light"
     },
     "output_type": "display_data"
    }
   ],
   "source": [
    "#plotting confusion matrix\n",
    "dt_cm = confusion_matrix(y_test, y_predict_dt)\n",
    "sns.heatmap(dt_cm, annot=True, fmt='g')\n",
    "plt.xlabel('Actual')\n",
    "plt.ylabel('Predicted')\n",
    "plt.show()"
   ]
  },
  {
   "cell_type": "code",
   "execution_count": 33,
   "id": "84df0371",
   "metadata": {},
   "outputs": [],
   "source": [
    "#various metrics values of the model\n",
    "acc_dt = accuracy_score(y_test, y_predict_dt).round(4)\n",
    "Precision_dt = precision_score(y_test, y_predict_dt).round(4)\n",
    "Recall_dt = recall_score(y_test, y_predict_dt).round(4)\n",
    "Fl_dt = f1_score(y_test, y_predict_dt).round(4)\n",
    "sensit_dt = (tp_dt/(tp_dt+fn_dt)).round(4)\n",
    "speci_dt = (tn_dt/(tn_dt+fp_dt)).round(4)\n",
    "roc_auc_dt = roc_auc_score(y_test, y_predict_dt).round(4)"
   ]
  },
  {
   "cell_type": "code",
   "execution_count": 34,
   "id": "730b6021",
   "metadata": {},
   "outputs": [
    {
     "name": "stdout",
     "output_type": "stream",
     "text": [
      "accuracy score :  0.893\n",
      "precision      :  0.0505\n",
      "recall         :  0.1341\n",
      "F1 score       :  0.0733\n",
      "sensitivity    :  0.1341\n",
      "specificity    :  0.9178\n",
      "AUC            :  0.526\n"
     ]
    }
   ],
   "source": [
    "print('accuracy score : ',acc_dt)\n",
    "print('precision      : ',Precision_dt)\n",
    "print('recall         : ',Recall_dt)\n",
    "print('F1 score       : ',Fl_dt)\n",
    "print('sensitivity    : ',sensit_dt)\n",
    "print('specificity    : ',speci_dt)\n",
    "print('AUC            : ',roc_auc_dt)"
   ]
  },
  {
   "cell_type": "markdown",
   "id": "37e0646e",
   "metadata": {},
   "source": [
    "# XGBoost Tree"
   ]
  },
  {
   "cell_type": "code",
   "execution_count": 35,
   "id": "fc2fdce6",
   "metadata": {},
   "outputs": [
    {
     "name": "stdout",
     "output_type": "stream",
     "text": [
      "Fitting 5 folds for each of 10 candidates, totalling 50 fits\n",
      "[19:05:29] WARNING: C:/Users/Administrator/workspace/xgboost-win64_release_1.5.0/src/learner.cc:1115: Starting in XGBoost 1.3.0, the default evaluation metric used with the objective 'binary:logistic' was changed from 'error' to 'logloss'. Explicitly set eval_metric if you'd like to restore the old behavior.\n"
     ]
    },
    {
     "data": {
      "text/plain": [
       "RandomizedSearchCV(cv=5,\n",
       "                   estimator=XGBClassifier(base_score=None, booster=None,\n",
       "                                           colsample_bylevel=None,\n",
       "                                           colsample_bynode=None,\n",
       "                                           colsample_bytree=None,\n",
       "                                           enable_categorical=False, gamma=None,\n",
       "                                           gpu_id=None, importance_type=None,\n",
       "                                           interaction_constraints=None,\n",
       "                                           learning_rate=None,\n",
       "                                           max_delta_step=None, max_depth=None,\n",
       "                                           min_child_weight=None, missing=nan,\n",
       "                                           monotone_constraints...\n",
       "                                           reg_alpha=None, reg_lambda=None,\n",
       "                                           scale_pos_weight=None,\n",
       "                                           subsample=None, tree_method=None,\n",
       "                                           validate_parameters=None,\n",
       "                                           verbosity=None),\n",
       "                   n_jobs=-1,\n",
       "                   param_distributions={'colsample_bytree': [0.1, 0.3, 0.5, 1],\n",
       "                                        'learning_rate': [0.01, 0.03, 0.05, 0.1,\n",
       "                                                          0.15, 0.2],\n",
       "                                        'max_depth': [3, 5, 10],\n",
       "                                        'min_child_weight': [1, 4, 7],\n",
       "                                        'n_estimators': [100, 200, 500, 1000,\n",
       "                                                         2000],\n",
       "                                        'subsample': [0.1, 0.3, 0.5, 1]},\n",
       "                   verbose=10)"
      ]
     },
     "execution_count": 35,
     "metadata": {},
     "output_type": "execute_result"
    }
   ],
   "source": [
    "# https://www.analyticsvidhya.com/blog/2016/03/complete-guide-parameter-tuning-xgboost-with-codes-python/\n",
    "model_xgb=XGBClassifier()\n",
    "\n",
    "prams={\n",
    "    'learning_rate':[0.01,0.03,0.05,0.1,0.15,0.2],\n",
    "     'n_estimators':[100,200,500,1000,2000],\n",
    "     'max_depth':[3,5,10],\n",
    "    'min_child_weight':[1,4,7],\n",
    "    'colsample_bytree':[0.1,0.3,0.5,1],\n",
    "    'subsample':[0.1,0.3,0.5,1]\n",
    "}\n",
    "model_xgb=RandomizedSearchCV(model_xgb,param_distributions=prams,verbose=10,n_jobs=-1,cv=5)\n",
    "model_xgb.fit(X_train_sam,y_train_sam)\n"
   ]
  },
  {
   "cell_type": "code",
   "execution_count": 36,
   "id": "d245b3c8",
   "metadata": {},
   "outputs": [
    {
     "name": "stdout",
     "output_type": "stream",
     "text": [
      "{'subsample': 0.5, 'n_estimators': 2000, 'min_child_weight': 1, 'max_depth': 10, 'learning_rate': 0.05, 'colsample_bytree': 0.3}\n"
     ]
    }
   ],
   "source": [
    "print(model_xgb.best_params_)"
   ]
  },
  {
   "cell_type": "code",
   "execution_count": 37,
   "id": "3c17569f",
   "metadata": {},
   "outputs": [
    {
     "name": "stdout",
     "output_type": "stream",
     "text": [
      "[19:06:29] WARNING: C:/Users/Administrator/workspace/xgboost-win64_release_1.5.0/src/learner.cc:1115: Starting in XGBoost 1.3.0, the default evaluation metric used with the objective 'binary:logistic' was changed from 'error' to 'logloss'. Explicitly set eval_metric if you'd like to restore the old behavior.\n"
     ]
    },
    {
     "data": {
      "text/plain": [
       "XGBClassifier(base_score=0.5, booster='gbtree', colsample_bylevel=1,\n",
       "              colsample_bynode=1, colsample_bytree=0.3,\n",
       "              enable_categorical=False, gamma=0, gpu_id=-1,\n",
       "              importance_type=None, interaction_constraints='',\n",
       "              learning_rate=0.05, max_delta_step=0, max_depth=10,\n",
       "              min_child_weight=1, missing=nan, monotone_constraints='()',\n",
       "              n_estimators=2000, n_jobs=4, num_parallel_tree=1,\n",
       "              predictor='auto', random_state=0, reg_alpha=0, reg_lambda=1,\n",
       "              scale_pos_weight=1, subsample=0.5, tree_method='exact',\n",
       "              validate_parameters=1, verbosity=None)"
      ]
     },
     "execution_count": 37,
     "metadata": {},
     "output_type": "execute_result"
    }
   ],
   "source": [
    "model_xgb =XGBClassifier(subsample=0.5,n_estimators=2000,min_child_weight=1,max_depth=10,learning_rate=0.05,colsample_bytree=0.3)\n",
    "model_xgb.fit(X_train_sam,y_train_sam)"
   ]
  },
  {
   "cell_type": "code",
   "execution_count": 38,
   "id": "a66a451a",
   "metadata": {},
   "outputs": [],
   "source": [
    "#predicting values and probabilities\n",
    "y_predict_xgb = model_xgb.predict(X_test)\n",
    "y_predict_xgb = model_xgb.predict_proba(X_test)\n",
    "y_predict_xgb= y_predict_xgb[:,1]    #getting probability for only '1' value"
   ]
  },
  {
   "cell_type": "code",
   "execution_count": 39,
   "id": "b307e336",
   "metadata": {},
   "outputs": [],
   "source": [
    "y_predict_xgb = np.where(y_predict_xgb > 0.5, 1, 0)"
   ]
  },
  {
   "cell_type": "code",
   "execution_count": 40,
   "id": "3b161cd7",
   "metadata": {},
   "outputs": [],
   "source": [
    "#getting true negative, false positive, false negative and true positive values from confusion matrix\n",
    "tn_xgb, fp_xgb, fn_xgb, tp_xgb = confusion_matrix(y_test, y_predict_xgb).ravel()"
   ]
  },
  {
   "cell_type": "code",
   "execution_count": 41,
   "id": "4945db5d",
   "metadata": {},
   "outputs": [
    {
     "data": {
      "image/png": "[encoded data removed]",
      "text/plain": [
       "<Figure size 432x288 with 2 Axes>"
      ]
     },
     "metadata": {
      "needs_background": "light"
     },
     "output_type": "display_data"
    }
   ],
   "source": [
    "#plotting confusion matrix\n",
    "xgb_cm = confusion_matrix(y_test, y_predict_xgb)\n",
    "sns.heatmap(xgb_cm, annot=True, fmt='g')\n",
    "plt.xlabel('Actual')\n",
    "plt.ylabel('Predicted')\n",
    "plt.show()"
   ]
  },
  {
   "cell_type": "code",
   "execution_count": 42,
   "id": "d6012a0f",
   "metadata": {},
   "outputs": [],
   "source": [
    "#various metrics values of the model\n",
    "acc_xgb = accuracy_score(y_test, y_predict_xgb).round(4)\n",
    "Precision_xgb = precision_score(y_test, y_predict_xgb).round(4)\n",
    "Recall_xgb = recall_score(y_test, y_predict_xgb).round(4)\n",
    "Fl_xgb = f1_score(y_test, y_predict_xgb).round(4)\n",
    "sensit_xgb = (tp_xgb/(tp_xgb+fn_xgb)).round(4)\n",
    "speci_xgb = (tn_xgb/(tn_xgb+fp_xgb)).round(4)\n",
    "roc_auc_xgb = roc_auc_score(y_test, y_predict_xgb).round(4)"
   ]
  },
  {
   "cell_type": "code",
   "execution_count": 43,
   "id": "3875c63f",
   "metadata": {},
   "outputs": [
    {
     "name": "stdout",
     "output_type": "stream",
     "text": [
      "accuracy score :  0.9596\n",
      "precision      :  0.0\n",
      "recall         :  0.0\n",
      "F1 score       :  0.0\n",
      "sensitivity    :  0.0\n",
      "specificity    :  0.9909\n",
      "AUC            :  0.4954\n"
     ]
    }
   ],
   "source": [
    "print('accuracy score : ',acc_xgb)\n",
    "print('precision      : ',Precision_xgb)\n",
    "print('recall         : ',Recall_xgb)\n",
    "print('F1 score       : ',Fl_xgb)\n",
    "print('sensitivity    : ',sensit_xgb)\n",
    "print('specificity    : ',speci_xgb)\n",
    "print('AUC            : ',roc_auc_xgb)"
   ]
  },
  {
   "cell_type": "code",
   "execution_count": null,
   "id": "aa8bfd78",
   "metadata": {},
   "outputs": [],
   "source": []
  },
  {
   "cell_type": "markdown",
   "id": "F3ZlmhLfA1yE",
   "metadata": {
    "id": "F3ZlmhLfA1yE"
   },
   "source": [
    "From the table we can see that Random Forest is performing better than Gradient Boosting Classifier. The best performing algorithm is Balanced Bagging Classifier which is modified version of the bagged decision tree ensemble that performs random undersampling of the majority class prior to fitting each decision tree.<br><br>\n",
    "So I am going to save this model in pickle form"
   ]
  },
  {
   "cell_type": "code",
   "execution_count": 46,
   "id": "tXuSFXnWAOa-",
   "metadata": {
    "id": "tXuSFXnWAOa-"
   },
   "outputs": [],
   "source": [
    "import pickle"
   ]
  },
  {
   "cell_type": "code",
   "execution_count": 62,
   "id": "QA8q9P83B2BH",
   "metadata": {
    "id": "QA8q9P83B2BH"
   },
   "outputs": [],
   "source": [
    "pickle.dump(clf_dt, open('dankornot_ml.pkl', 'wb'))"
   ]
  },
  {
   "cell_type": "code",
   "execution_count": null,
   "id": "37515af3",
   "metadata": {},
   "outputs": [],
   "source": []
  }
 ],
 "metadata": {
  "colab": {
   "collapsed_sections": [],
   "name": "CS2_ml_model.ipynb",
   "provenance": []
  },
  "kernelspec": {
   "display_name": "Python 3",
   "language": "python",
   "name": "python3"
  },
  "language_info": {
   "codemirror_mode": {
    "name": "ipython",
    "version": 3
   },
   "file_extension": ".py",
   "mimetype": "text/x-python",
   "name": "python",
   "nbconvert_exporter": "python",
   "pygments_lexer": "ipython3",
   "version": "3.8.8"
  }
 },
 "nbformat": 4,
 "nbformat_minor": 5
}
